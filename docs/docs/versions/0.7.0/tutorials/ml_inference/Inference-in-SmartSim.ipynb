{
 "cells": [
  {
   "attachments": {},
   "cell_type": "markdown",
   "id": "487eb264-3c79-434f-842f-a11a8601ae7b",
   "metadata": {},
   "source": [
    "# Online Inference\n",
    "\n",
    "This tutorial shows how to use trained PyTorch, TensorFlow, and ONNX (format) models, written in Python, directly in HPC workloads written in Fortran, C, C++ and Python.\n",
    "\n",
    "The example simulation here is written in Python for brevity, however, the inference API in SmartRedis is the same (besides extra parameters for compiled langauges) across all clients. \n"
   ]
  },
  {
   "attachments": {},
   "cell_type": "markdown",
   "id": "f3604189-d438-4702-9aba-89161ebc4554",
   "metadata": {},
   "source": [
    "## Installing the ML backends\n",
    "\n",
    "In order to use the `Orchestrator` database as an inference engine, the Machine Learning (ML) backends need to be built and supplied to the database at runtime. \n",
    "\n",
    "To check which backends are built, a simple helper function is available in SmartSim as shown below."
   ]
  },
  {
   "cell_type": "code",
   "execution_count": 1,
   "id": "bd289351-b2a7-45ae-a774-e54a94a80c65",
   "metadata": {
    "tags": []
   },
   "outputs": [
    {
     "name": "stdout",
     "output_type": "stream",
     "text": [
      "{'torch'}\n"
     ]
    }
   ],
   "source": [
    "## Installing the ML backends\n",
    "from smartsim._core.utils.helpers import installed_redisai_backends\n",
    "print(installed_redisai_backends())"
   ]
  },
  {
   "cell_type": "markdown",
   "id": "609884f5-37a0-4559-ad0b-cf3ae65463cb",
   "metadata": {},
   "source": [
    "As you can see, only the Torch backend is built. In order to use the TensorFlow and ONNX backends as well, they need to be built.\n",
    "\n",
    "The `smart` command line interface can be used to build the backends using the `smart build` command. The output of `smart build --help` is shown below."
   ]
  },
  {
   "cell_type": "code",
   "execution_count": 2,
   "id": "a8efd39b-7517-4220-9419-4fb82918e182",
   "metadata": {},
   "outputs": [
    {
     "name": "stdout",
     "output_type": "stream",
     "text": [
      "usage: smart build [-h] [-v] [--device {cpu,gpu}] [--only_python_packages]\n",
      "                   [--no_pt] [--no_tf] [--onnx] [--torch_dir TORCH_DIR]\n",
      "                   [--libtensorflow_dir LIBTENSORFLOW_DIR] [--keydb]\n",
      "\n",
      "Build SmartSim dependencies (Redis, RedisAI, ML runtimes)\n",
      "\n",
      "options:\n",
      "  -h, --help            show this help message and exit\n",
      "  -v                    Enable verbose build process\n",
      "  --device {cpu,gpu}    Device to build ML runtimes for\n",
      "  --only_python_packages\n",
      "                        Only evaluate the python packages (i.e. skip building\n",
      "                        backends)\n",
      "  --no_pt               Do not build PyTorch backend\n",
      "  --no_tf               Do not build TensorFlow backend\n",
      "  --onnx                Build ONNX backend (off by default)\n",
      "  --torch_dir TORCH_DIR\n",
      "                        Path to custom <path>/torch/share/cmake/Torch/\n",
      "                        directory (ONLY USE IF NEEDED)\n",
      "  --libtensorflow_dir LIBTENSORFLOW_DIR\n",
      "                        Path to custom libtensorflow directory (ONLY USE IF\n",
      "                        NEEDED)\n",
      "  --keydb               Build KeyDB instead of Redis\n"
     ]
    }
   ],
   "source": [
    "!smart build --help"
   ]
  },
  {
   "cell_type": "markdown",
   "id": "34a6c6f7-b4f5-4e8a-82a7-c3d8376e3374",
   "metadata": {},
   "source": [
    "We use `smart clean` first to remove the previous build, and then call `smart build` to build the new backend set. For larger teams, CrayLabs will help setup your system so that the backends do not have to be built by each user.\n",
    "\n",
    "By default, the PyTorch and TensorFlow backends are built. To build all three backends for use on CPU, we issue the following command."
   ]
  },
  {
   "cell_type": "code",
   "execution_count": 3,
   "id": "a6d157cf-1d2c-49d0-a588-ec99506661fb",
   "metadata": {
    "tags": []
   },
   "outputs": [
    {
     "name": "stdout",
     "output_type": "stream",
     "text": [
      "\u001b[34m[SmartSim]\u001b[0m \u001b[1;30mINFO\u001b[0m Successfully removed existing RedisAI installation\n",
      "\u001b[34m[SmartSim]\u001b[0m \u001b[1;30mINFO\u001b[0m Successfully removed ML runtimes\n",
      "\u001b[34m[SmartSim]\u001b[0m \u001b[1;30mINFO\u001b[0m Running SmartSim build process...\n",
      "\u001b[34m[SmartSim]\u001b[0m \u001b[1;30mINFO\u001b[0m Checking requested versions...\n",
      "\u001b[34m[SmartSim]\u001b[0m \u001b[1;30mINFO\u001b[0m Checking for build tools...\n",
      "\u001b[34m[SmartSim]\u001b[0m \u001b[1;30mINFO\u001b[0m Redis build complete!\n",
      "\n",
      "ML Backends Requested\n",
      "╒════════════╤════════╤══════╕\n",
      "│ PyTorch    │ 2.0.1  │ \u001b[32mTrue\u001b[0m │\n",
      "│ TensorFlow │ 2.13.1 │ \u001b[32mTrue\u001b[0m │\n",
      "│ ONNX       │ 1.14.1 │ \u001b[32mTrue\u001b[0m │\n",
      "╘════════════╧════════╧══════╛\n",
      "\n",
      "Building for GPU support: \u001b[31mFalse\u001b[0m\n",
      "\n",
      "\u001b[34m[SmartSim]\u001b[0m \u001b[1;30mINFO\u001b[0m Building RedisAI version 1.2.7 from https://github.com/RedisAI/RedisAI.git/\n",
      "\u001b[34m[SmartSim]\u001b[0m \u001b[1;30mINFO\u001b[0m ML Backends and RedisAI build complete!\n",
      "\u001b[34m[SmartSim]\u001b[0m \u001b[1;30mINFO\u001b[0m Tensorflow, Onnxruntime, Torch backend(s) built\n",
      "\u001b[34m[SmartSim]\u001b[0m \u001b[1;30mINFO\u001b[0m SmartSim build complete!\n"
     ]
    }
   ],
   "source": [
    "!smart clean && smart build --device cpu --onnx"
   ]
  },
  {
   "attachments": {},
   "cell_type": "markdown",
   "id": "7df6c3dd-6cc5-46e6-9c58-6ba2333d7045",
   "metadata": {},
   "source": [
    "## Starting the Database for Inference\n",
    "\n",
    "SmartSim performs online inference by using the SmartRedis clients to call into the\n",
    "Machine Learning (ML) runtimes linked into the Orchestrator database. The Orchestrator\n",
    "is the name in SmartSim for a Redis or KeyDB database with a RedisAI module built\n",
    "into it with the ML runtimes.\n",
    "\n",
    "Therefore, to perform inference, you must first create an Orchestrator database and\n",
    "launch it. There are two methods to couple the database to your application in\n",
    "order to add inference capability to your application.\n",
    " - standard (not colocated)\n",
    " - colocated\n",
    " \n",
    "`standard` mode launches an optionally clustered (across many compute hosts) database instance\n",
    "that can be treated as a single storage device for many clients (possibly the many ranks\n",
    "of an MPI program) where there is a single address space for keys across all hosts.\n",
    "\n",
    "`colocated` mode launches a orchestrator instance on each compute host used by a,\n",
    "possibly distributed, application. each instance contains their own address space\n",
    "for keys. In SmartSim, `Model` instances can be launched with a colocated orchetrator\n",
    "through `Model.colocate_db_tcp` or `Model.colocate_db_udp`. Colocated `Model`s are used for\n",
    "highly scalable inference where global aggregations aren't necessary for inference.\n",
    "\n",
    "The code below launches the `Orchestrator` database using the `standard` deployment\n",
    "method."
   ]
  },
  {
   "cell_type": "code",
   "execution_count": 4,
   "id": "201b9c43-f3e9-476c-ac21-e45f2c621b00",
   "metadata": {
    "tags": []
   },
   "outputs": [],
   "source": [
    "# some helper libraries for the tutorial\n",
    "import io\n",
    "import os\n",
    "os.environ['TF_CPP_MIN_LOG_LEVEL'] = '3'\n",
    "import logging\n",
    "import numpy as np\n",
    "\n",
    "# import smartsim and smartredis\n",
    "from smartredis import Client\n",
    "from smartsim import Experiment"
   ]
  },
  {
   "cell_type": "code",
   "execution_count": 5,
   "id": "1df7ff13-e292-4c68-a99c-d0b5491be079",
   "metadata": {
    "tags": []
   },
   "outputs": [],
   "source": [
    "exp = Experiment(\"Inference-Tutorial\", launcher=\"local\")"
   ]
  },
  {
   "cell_type": "code",
   "execution_count": 6,
   "id": "7364dbdf-52bf-4107-be3a-78fb541449f8",
   "metadata": {
    "tags": []
   },
   "outputs": [],
   "source": [
    "db = exp.create_database(port=6780, interface=\"lo\")\n",
    "exp.start(db)"
   ]
  },
  {
   "attachments": {},
   "cell_type": "markdown",
   "id": "58615a9e-bb53-4025-90de-c1eee4e315eb",
   "metadata": {},
   "source": [
    "## Using PyTorch\n",
    "\n",
    "The Orchestrator supports both [PyTorch](https://pytorch.org/)\n",
    "models and [TorchScript](https://pytorch.org/docs/stable/jit.html) functions and scripts\n",
    "in PyTorch.\n",
    "\n",
    "Below, the code is shown to create, jit-trace (prepare for inference), set,\n",
    "and call a PyTorch Convolutional Neural Network (CNN) with SmartSim and SmartRedis"
   ]
  },
  {
   "cell_type": "code",
   "execution_count": 7,
   "id": "dde172d9-4f18-4adc-8e78-fc6f71fb405c",
   "metadata": {
    "tags": []
   },
   "outputs": [],
   "source": [
    "import torch\n",
    "import torch.nn as nn\n",
    "import torch.nn.functional as F\n",
    "\n",
    "\n",
    "class Net(nn.Module):\n",
    "    def __init__(self):\n",
    "        super(Net, self).__init__()\n",
    "        self.conv1 = nn.Conv2d(1, 32, 3, 1)\n",
    "        self.conv2 = nn.Conv2d(32, 64, 3, 1)\n",
    "        self.dropout1 = nn.Dropout(0.25)\n",
    "        self.dropout2 = nn.Dropout(0.5)\n",
    "        self.fc1 = nn.Linear(9216, 128)\n",
    "        self.fc2 = nn.Linear(128, 10)\n",
    "\n",
    "    def forward(self, x):\n",
    "        x = self.conv1(x)\n",
    "        x = F.relu(x)\n",
    "        x = self.conv2(x)\n",
    "        x = F.relu(x)\n",
    "        x = F.max_pool2d(x, 2)\n",
    "        x = self.dropout1(x)\n",
    "        x = torch.flatten(x, 1)\n",
    "        x = self.fc1(x)\n",
    "        x = F.relu(x)\n",
    "        x = self.dropout2(x)\n",
    "        x = self.fc2(x)\n",
    "        output = F.log_softmax(x, dim=1)\n",
    "        return output\n"
   ]
  },
  {
   "attachments": {},
   "cell_type": "markdown",
   "id": "0ab54aba-f6d7-4ecb-907e-1efdba9657a9",
   "metadata": {},
   "source": [
    "To set a PyTorch model, we create a function to \"jit-trace\" the model\n",
    "and save it to a buffer in memory.\n",
    "\n",
    "If you aren't familiar with the concept of tracing, take a look at the\n",
    "Torch documentation for [trace](https://pytorch.org/docs/stable/generated/torch.jit.trace.html#torch.jit.trace)\n"
   ]
  },
  {
   "cell_type": "code",
   "execution_count": 8,
   "id": "e5aa5995-d250-46c4-87f0-0115112560ae",
   "metadata": {
    "tags": []
   },
   "outputs": [],
   "source": [
    "# Initialize an instance of our CNN model\n",
    "n = Net()\n",
    "n.eval()\n",
    "\n",
    "# prepare a sample input to trace on (random noise is fine)\n",
    "example_forward_input = torch.rand(1, 1, 28, 28)\n",
    "\n",
    "def create_torch_model(torch_module, example_forward_input):\n",
    "\n",
    "    # perform the trace of the nn.Module.forward() method\n",
    "    module = torch.jit.trace(torch_module, example_forward_input)\n",
    "\n",
    "    # save the traced module to a buffer\n",
    "    model_buffer = io.BytesIO()\n",
    "    torch.jit.save(module, model_buffer)\n",
    "    return model_buffer.getvalue()\n",
    "\n",
    "traced_cnn = create_torch_model(n, example_forward_input)"
   ]
  },
  {
   "attachments": {},
   "cell_type": "markdown",
   "id": "209a8db0-249a-4345-b3de-9c309ae5ebe6",
   "metadata": {},
   "source": [
    "Lastly, we use the SmartRedis Python client to\n",
    "\n",
    "1. Connect to the database\n",
    "2. Put a batch of 20 tensors into the database  (``put_tensor``)\n",
    "3. Set the Torch model in the database (``set_model``)\n",
    "4. Run the model on the batch of tensors (``run_model``)\n",
    "5. Retrieve the result (``get_tensor``)\n"
   ]
  },
  {
   "cell_type": "code",
   "execution_count": 9,
   "id": "9bdabc3d-31cc-47fc-853b-94fffaa2bf10",
   "metadata": {
    "tags": []
   },
   "outputs": [
    {
     "name": "stdout",
     "output_type": "stream",
     "text": [
      "Prediction: [[-2.1860428 -2.3318565 -2.2773128 -2.2742267 -2.2679536 -2.304159\n",
      "  -2.423439  -2.3406057 -2.2474668 -2.3950338]\n",
      " [-2.1803837 -2.3286302 -2.2805855 -2.2874444 -2.261593  -2.3145547\n",
      "  -2.4357762 -2.3169715 -2.2618299 -2.3798223]\n",
      " [-2.1833746 -2.3249795 -2.28497   -2.2851245 -2.2555952 -2.308204\n",
      "  -2.4274755 -2.3441646 -2.2553194 -2.3779805]\n",
      " [-2.1843016 -2.3395848 -2.2619352 -2.294549  -2.2571433 -2.312943\n",
      "  -2.4161577 -2.338785  -2.2538524 -2.3881512]\n",
      " [-2.1936755 -2.3315516 -2.2739122 -2.2832148 -2.2666094 -2.3038912\n",
      "  -2.4211216 -2.3300066 -2.2564852 -2.3846986]\n",
      " [-2.1709712 -2.3271346 -2.280365  -2.286064  -2.2617233 -2.3227994\n",
      "  -2.4253702 -2.3313646 -2.2593162 -2.383301 ]\n",
      " [-2.1948013 -2.3318067 -2.2713811 -2.2844    -2.2526758 -2.3178148\n",
      "  -2.4255004 -2.3233378 -2.2388031 -2.4088087]\n",
      " [-2.17515   -2.3240736 -2.2818787 -2.2857373 -2.259629  -2.3184\n",
      "  -2.425821  -2.3519678 -2.2413275 -2.385761 ]\n",
      " [-2.187554  -2.3335872 -2.2767708 -2.2818003 -2.2654893 -2.3097534\n",
      "  -2.4182632 -2.3376188 -2.2509694 -2.384327 ]\n",
      " [-2.1793714 -2.340681  -2.271785  -2.287751  -2.2620957 -2.3163543\n",
      "  -2.4111845 -2.3468175 -2.2472064 -2.3842056]\n",
      " [-2.1906679 -2.3483853 -2.2580595 -2.2923894 -2.25718   -2.2951608\n",
      "  -2.431815  -2.3487022 -2.2326546 -2.3963163]\n",
      " [-2.1882055 -2.3293467 -2.2767649 -2.279892  -2.2527165 -2.3220086\n",
      "  -2.4226239 -2.3364902 -2.2455037 -2.394776 ]\n",
      " [-2.1756573 -2.3318045 -2.2690601 -2.2737868 -2.264148  -2.3212118\n",
      "  -2.4243867 -2.3421402 -2.2562728 -2.390894 ]\n",
      " [-2.1824148 -2.3317673 -2.2749603 -2.291667  -2.2524009 -2.3026595\n",
      "  -2.42986   -2.3290846 -2.265264  -2.387787 ]\n",
      " [-2.1871543 -2.3408008 -2.2773213 -2.283908  -2.249834  -2.3159058\n",
      "  -2.4251873 -2.339211  -2.245001  -2.3839695]\n",
      " [-2.1855574 -2.3216138 -2.2722392 -2.2826352 -2.2573392 -2.308948\n",
      "  -2.4348576 -2.3421624 -2.2397952 -2.4060655]\n",
      " [-2.1876159 -2.330091  -2.2779942 -2.2849102 -2.2582757 -2.3122754\n",
      "  -2.4250498 -2.333003  -2.250753  -2.3871331]\n",
      " [-2.182653  -2.3381891 -2.2795184 -2.287199  -2.2628696 -2.303869\n",
      "  -2.413879  -2.3404965 -2.26254   -2.3739154]\n",
      " [-2.1733668 -2.3377435 -2.2724369 -2.28559   -2.2537165 -2.3127556\n",
      "  -2.4249415 -2.3484716 -2.2515364 -2.3897333]\n",
      " [-2.1839535 -2.336417  -2.2839231 -2.285238  -2.2608624 -2.3198016\n",
      "  -2.424396  -2.3165755 -2.2433887 -2.3935702]]\n"
     ]
    }
   ],
   "source": [
    "client = Client(address=db.get_address()[0], cluster=False)\n",
    "\n",
    "client.put_tensor(\"input\", torch.rand(20, 1, 28, 28).numpy())\n",
    "\n",
    "# put the PyTorch CNN in the database in GPU memory\n",
    "client.set_model(\"cnn\", traced_cnn, \"TORCH\", device=\"CPU\")\n",
    "\n",
    "# execute the model, supports a variable number of inputs and outputs\n",
    "client.run_model(\"cnn\", inputs=[\"input\"], outputs=[\"output\"])\n",
    "\n",
    "# get the output\n",
    "output = client.get_tensor(\"output\")\n",
    "print(f\"Prediction: {output}\")"
   ]
  },
  {
   "attachments": {},
   "cell_type": "markdown",
   "id": "37c6f801-deb5-463c-bfc7-565a79b8bcfb",
   "metadata": {},
   "source": [
    "As we gave the CNN random noise, the predictions reflect that.\n",
    "\n",
    "If running on GPU, be sure to change the argument in the ``set_model`` call\n",
    "above to ``device=\"GPU\"``."
   ]
  },
  {
   "attachments": {},
   "cell_type": "markdown",
   "id": "638cdd2a-c0ad-4a54-a7ce-9eef0096da30",
   "metadata": {},
   "source": [
    "## Using TorchScript\n",
    "\n",
    "In addition to PyTorch models, TorchScript scripts and functions can be set in the\n",
    "Orchestrator database and called from any of the SmartRedis languages. Functions\n",
    "can be set in the database in Python prior to application launch and then used\n",
    "directly in Fortran, C, and C++ simulations.\n",
    "\n",
    "The example below uses the TorchScript Singular Value Decomposition (SVD) function.\n",
    "The function set in side the database and then called with a random input\n",
    "tensor.\n"
   ]
  },
  {
   "cell_type": "code",
   "execution_count": 10,
   "id": "267405bf-3144-4219-a82b-15be10cf5125",
   "metadata": {
    "tags": []
   },
   "outputs": [],
   "source": [
    "def calc_svd(input_tensor):\n",
    "    # svd function from TorchScript API\n",
    "    return input_tensor.svd()"
   ]
  },
  {
   "cell_type": "code",
   "execution_count": 11,
   "id": "2e85ced9-e39a-4efb-91db-3919aa4e9489",
   "metadata": {
    "tags": []
   },
   "outputs": [
    {
     "name": "stdout",
     "output_type": "stream",
     "text": [
      "U: [[[-0.31189808  0.86989427]\n",
      "  [-0.48122275 -0.49140105]\n",
      "  [-0.81923395 -0.0425336 ]]\n",
      "\n",
      " [[-0.5889101  -0.29554686]\n",
      "  [-0.43949458 -0.66398275]\n",
      "  [-0.6782547   0.68686163]]\n",
      "\n",
      " [[-0.61623317  0.05853765]\n",
      "  [-0.6667615  -0.5695148 ]\n",
      "  [-0.4191489   0.81989413]]\n",
      "\n",
      " [[-0.5424681   0.8400398 ]\n",
      "  [-0.31990844 -0.2152339 ]\n",
      "  [-0.77678    -0.49800384]]\n",
      "\n",
      " [[-0.43667376  0.8088193 ]\n",
      "  [-0.70812154 -0.57906115]\n",
      "  [-0.5548693   0.10246649]]]\n",
      "\n",
      ", S: [[137.10924   25.710997]\n",
      " [131.49983   37.79937 ]\n",
      " [178.72423   24.792084]\n",
      " [125.13014   49.733784]\n",
      " [137.48834   53.57199 ]]\n",
      "\n",
      ", V: [[[-0.8333395   0.5527615 ]\n",
      "  [-0.5527615  -0.8333395 ]]\n",
      "\n",
      " [[-0.5085228  -0.8610485 ]\n",
      "  [-0.8610485   0.5085228 ]]\n",
      "\n",
      " [[-0.8650402   0.5017025 ]\n",
      "  [-0.5017025  -0.8650402 ]]\n",
      "\n",
      " [[-0.56953645  0.8219661 ]\n",
      "  [-0.8219661  -0.56953645]]\n",
      "\n",
      " [[-0.6115895   0.79117525]\n",
      "  [-0.79117525 -0.6115895 ]]]\n",
      "\n"
     ]
    }
   ],
   "source": [
    "# connect a client to the database\n",
    "client = Client(address=db.get_address()[0], cluster=False)\n",
    "\n",
    "# test the SVD function\n",
    "tensor = np.random.randint(0, 100, size=(5, 3, 2)).astype(np.float32)\n",
    "client.put_tensor(\"input\", tensor)\n",
    "client.set_function(\"svd\", calc_svd)\n",
    "client.run_script(\"svd\", \"calc_svd\", [\"input\"], [\"U\", \"S\", \"V\"])\n",
    "U = client.get_tensor(\"U\")\n",
    "S = client.get_tensor(\"S\")\n",
    "V = client.get_tensor(\"V\")\n",
    "print(f\"U: {U}\\n\\n, S: {S}\\n\\n, V: {V}\\n\")"
   ]
  },
  {
   "cell_type": "code",
   "execution_count": 12,
   "id": "55ae0408-7ddb-4a75-912f-7312ee43f79b",
   "metadata": {
    "tags": []
   },
   "outputs": [],
   "source": [
    "## TensorFlow and Keras\n",
    "import tensorflow as tf\n",
    "from tensorflow import keras\n",
    "tf.get_logger().setLevel(logging.ERROR)\n",
    "\n",
    "# create a simple Fully connected network in Keras\n",
    "model = keras.Sequential(\n",
    "    layers=[\n",
    "        keras.layers.InputLayer(input_shape=(28, 28), name=\"input\"),\n",
    "        keras.layers.Flatten(input_shape=(28, 28), name=\"flatten\"),\n",
    "        keras.layers.Dense(128, activation=\"relu\", name=\"dense\"),\n",
    "        keras.layers.Dense(10, activation=\"softmax\", name=\"output\"),\n",
    "    ],\n",
    "    name=\"FCN\",\n",
    ")\n",
    "\n",
    "# Compile model with optimizer\n",
    "model.compile(optimizer=\"adam\",\n",
    "              loss=\"sparse_categorical_crossentropy\",\n",
    "              metrics=[\"accuracy\"])"
   ]
  },
  {
   "attachments": {},
   "cell_type": "markdown",
   "id": "48b1efb6-4f39-4ad6-8a27-58648ec66bde",
   "metadata": {},
   "source": [
    "### Setting TensorFlow and Keras Models\n",
    "\n",
    "After a model is created (trained or not), the graph of the model is\n",
    "frozen and saved to file so the client method `client.set_model_from_file`\n",
    "can load it into the database.\n",
    "\n",
    "SmartSim includes a utility to freeze the graph of a TensorFlow or Keras model in\n",
    "`smartsim.ml.tf`. To use TensorFlow or Keras in SmartSim, specify\n",
    "`TF` as the argument for *backend* in the call to `client.set_model` or\n",
    "`client.set_model_from_file`.\n",
    "\n",
    "Note that TensorFlow and Keras, unlike the other ML libraries supported by\n",
    "SmartSim, requires an `input` and `output` argument in the call to\n",
    "`set_model`. These arguments correspond to the layer names of the\n",
    "created model. The `smartsim.ml.tf.freeze_model` utility\n",
    "returns these values for convenience as shown below."
   ]
  },
  {
   "cell_type": "code",
   "execution_count": 13,
   "id": "400e2a53-74b2-4bf1-a0e8-32222fd968f4",
   "metadata": {
    "tags": []
   },
   "outputs": [
    {
     "name": "stdout",
     "output_type": "stream",
     "text": [
      "[[0.05032112 0.06484107 0.03512685 0.14747524 0.14440396 0.02395445\n",
      "  0.03395916 0.06222691 0.26738793 0.1703033 ]]\n"
     ]
    }
   ],
   "source": [
    "from smartsim.ml.tf import freeze_model\n",
    "\n",
    "# SmartSim utility for Freezing the model and saving it to a file.\n",
    "model_path, inputs, outputs = freeze_model(model, os.getcwd(), \"fcn.pb\")\n",
    "\n",
    "# use the same client we used for PyTorch to set the TensorFlow model\n",
    "# this time the method for setting a model from a saved file is shown. \n",
    "# TensorFlow backed requires named inputs and outputs on graph\n",
    "# this differs from PyTorch and ONNX.\n",
    "client.set_model_from_file(\n",
    "    \"keras_fcn\", model_path, \"TF\", device=\"CPU\", inputs=inputs, outputs=outputs\n",
    ")\n",
    "\n",
    "# put random random input tensor into the database\n",
    "input_data = np.random.rand(1, 28, 28).astype(np.float32)\n",
    "client.put_tensor(\"input\", input_data)\n",
    "\n",
    "# run the Fully Connected Network model on the tensor we just put\n",
    "# in and store the result of the inference at the \"output\" key\n",
    "client.run_model(\"keras_fcn\", \"input\", \"output\")\n",
    "\n",
    "# get the result of the inference\n",
    "pred = client.get_tensor(\"output\")\n",
    "print(pred)"
   ]
  },
  {
   "attachments": {},
   "cell_type": "markdown",
   "id": "a23d248c-6280-44b0-88a7-2babbaed3f3f",
   "metadata": {},
   "source": [
    "## Using ONNX\n",
    "\n",
    "ONNX is a standard format for representing models. A number of different Machine Learning\n",
    "Libraries are supported by ONNX and can be readily used with SmartSim.\n",
    "\n",
    "Some popular ones are:\n",
    "\n",
    "\n",
    "- [Scikit-learn](https://scikit-learn.org)\n",
    "- [XGBoost](https://xgboost.readthedocs.io)\n",
    "- [CatBoost](https://catboost.ai)\n",
    "- [LightGBM](https://lightgbm.readthedocs.io/en/latest/)\n",
    "- [libsvm](https://www.csie.ntu.edu.tw/~cjlin/libsvm/)\n",
    "\n",
    "\n",
    "As well as some that are not listed. There are also many tools to help convert\n",
    "models to ONNX.\n",
    "\n",
    "- [onnxmltools](https://github.com/onnx/onnxmltools)\n",
    "- [skl2onnx](https://github.com/onnx/sklearn-onnx/)\n",
    "- [tensorflow-onnx](https://github.com/onnx/tensorflow-onnx/)\n",
    "\n",
    "\n",
    "And PyTorch has its own converter.\n",
    "\n",
    "Below are some examples of a few models in [Scikit-learn](https://scikit-learn.org)\n",
    "that are converted into ONNX format for use with SmartSim. To use ONNX in SmartSim, specify\n",
    "`ONNX` as the argument for *backend* in the call to `client.set_model` or\n",
    "`client.set_model_from_file`"
   ]
  },
  {
   "attachments": {},
   "cell_type": "markdown",
   "id": "4bf422e5-bece-4402-a2ef-8bca1e009b5c",
   "metadata": {},
   "source": [
    "### Scikit-Learn K-means Cluster\n",
    "\n",
    "\n",
    "K-means clustering is an unsupervised ML algorithm. It is used to categorize data points\n",
    "into functional groups (\"clusters\"). Scikit Learn has a built in implementation of K-means clustering\n",
    "and it is easily converted to ONNX for use with SmartSim through \n",
    "[skl2onnx.to_onnx](http://onnx.ai/sklearn-onnx/auto_examples/plot_convert_syntax.html)\n",
    "\n",
    "Since the KMeans model returns two outputs, we provide the `client.run_model` call\n",
    "with two `output` key names.\n"
   ]
  },
  {
   "cell_type": "code",
   "execution_count": 14,
   "id": "889328a7-2326-476f-a686-f34397f4a210",
   "metadata": {
    "tags": []
   },
   "outputs": [],
   "source": [
    "from skl2onnx import to_onnx\n",
    "from sklearn.cluster import KMeans"
   ]
  },
  {
   "cell_type": "code",
   "execution_count": 15,
   "id": "729486bb-ab34-44cb-a36f-7d26cbf6393a",
   "metadata": {
    "tags": []
   },
   "outputs": [
    {
     "name": "stdout",
     "output_type": "stream",
     "text": [
      "[1 1 1 1 1 0 0 0 0 0]\n"
     ]
    }
   ],
   "source": [
    "\n",
    "X = np.arange(20, dtype=np.float32).reshape(10, 2)\n",
    "tr = KMeans(n_clusters=2)\n",
    "tr.fit(X)\n",
    "\n",
    "# save the trained k-means model in memory with skl2onnx\n",
    "kmeans = to_onnx(tr, X, target_opset=11)\n",
    "model = kmeans.SerializeToString()\n",
    "\n",
    "# random input data\n",
    "sample = np.arange(20, dtype=np.float32).reshape(10, 2)\n",
    "\n",
    "# use the same client from TensorFlow and Pytorch examples.\n",
    "client.put_tensor(\"input\", sample)\n",
    "client.set_model(\"kmeans\", model, \"ONNX\", device=\"CPU\")\n",
    "client.run_model(\"kmeans\", inputs=\"input\", outputs=[\"labels\", \"transform\"])\n",
    "\n",
    "print(client.get_tensor(\"labels\"))"
   ]
  },
  {
   "attachments": {},
   "cell_type": "markdown",
   "id": "7da6c43d-b1b2-46ae-89f8-cb7050d9592b",
   "metadata": {},
   "source": [
    "### Scikit-Learn Random Forest\n",
    "\n",
    "The Random Forest example uses the Iris dataset from Scikit Learn to train a\n",
    "RandomForestRegressor. As with the other examples, the skl2onnx function\n",
    "`skl2onnx.to_onnx` is used to convert the model to ONNX format.\n"
   ]
  },
  {
   "cell_type": "code",
   "execution_count": 16,
   "id": "657b3e7b-067a-4053-92e6-60379e5a6807",
   "metadata": {
    "tags": []
   },
   "outputs": [],
   "source": [
    "from sklearn.datasets import load_iris\n",
    "from sklearn.ensemble import RandomForestRegressor\n",
    "from sklearn.model_selection import train_test_split"
   ]
  },
  {
   "cell_type": "code",
   "execution_count": 17,
   "id": "d73f0d5b-e6c2-42b1-8e21-3b6d064d20e4",
   "metadata": {
    "tags": []
   },
   "outputs": [
    {
     "name": "stdout",
     "output_type": "stream",
     "text": [
      "[[1.9999987]]\n"
     ]
    }
   ],
   "source": [
    "iris = load_iris()\n",
    "X, y = iris.data, iris.target\n",
    "X_train, X_test, y_train, _ = train_test_split(X, y, random_state=13)\n",
    "clr = RandomForestRegressor(n_jobs=1, n_estimators=100)\n",
    "clr.fit(X_train, y_train)\n",
    "\n",
    "rf_model = to_onnx(clr, X_test.astype(np.float32), target_opset=11)\n",
    "\n",
    "sample = np.array([[6.4, 2.8, 5.6, 2.2]]).astype(np.float32)\n",
    "model = rf_model.SerializeToString()\n",
    "\n",
    "client.put_tensor(\"input\", sample)\n",
    "client.set_model(\"rf_regressor\", model, \"ONNX\", device=\"CPU\")\n",
    "client.run_model(\"rf_regressor\", inputs=\"input\", outputs=\"output\")\n",
    "print(client.get_tensor(\"output\"))"
   ]
  },
  {
   "cell_type": "code",
   "execution_count": 18,
   "id": "ea774e12-956c-4bbe-be57-af416123c307",
   "metadata": {
    "tags": []
   },
   "outputs": [],
   "source": [
    "exp.stop(db)"
   ]
  },
  {
   "cell_type": "code",
   "execution_count": 19,
   "id": "15662aeb-1b00-4887-9e47-2c596fdbe941",
   "metadata": {
    "tags": []
   },
   "outputs": [
    {
     "data": {
      "text/html": [
       "<table>\n",
       "<thead>\n",
       "<tr><th>  </th><th>Name          </th><th>Entity-Type  </th><th>JobID  </th><th>RunID  </th><th>Time   </th><th>Status   </th><th>Returncode  </th></tr>\n",
       "</thead>\n",
       "<tbody>\n",
       "<tr><td>0 </td><td>orchestrator_0</td><td>DBNode       </td><td>31857  </td><td>0      </td><td>32.7161</td><td>Cancelled</td><td>0           </td></tr>\n",
       "</tbody>\n",
       "</table>"
      ],
      "text/plain": [
       "'<table>\\n<thead>\\n<tr><th>  </th><th>Name          </th><th>Entity-Type  </th><th>JobID  </th><th>RunID  </th><th>Time   </th><th>Status   </th><th>Returncode  </th></tr>\\n</thead>\\n<tbody>\\n<tr><td>0 </td><td>orchestrator_0</td><td>DBNode       </td><td>31857  </td><td>0      </td><td>32.7161</td><td>Cancelled</td><td>0           </td></tr>\\n</tbody>\\n</table>'"
      ]
     },
     "execution_count": 19,
     "metadata": {},
     "output_type": "execute_result"
    }
   ],
   "source": [
    "exp.summary(style=\"html\")"
   ]
  },
  {
   "attachments": {},
   "cell_type": "markdown",
   "id": "5daa7402-f62b-4710-a269-e078b2ce08ac",
   "metadata": {},
   "source": [
    "# Colocated Deployment\n",
    "\n",
    "A colocated Orchestrator is a special type of Orchestrator that is deployed\n",
    "on the same compute hosts an a Model instance defined by the user. In this\n",
    "deployment, the database is not connected together in a cluster and each shard\n",
    "of the database is addressed individually by the processes running on that compute\n",
    "host. This is particularly important for GPU-intensive workloads which require\n",
    "frequent communication with the database.\n",
    "\n",
    "<img src=\"https://www.craylabs.org/docs/_images/co-located-orc-diagram.png\" alt=\"lattice\" width=\"600\"/>\n"
   ]
  },
  {
   "cell_type": "code",
   "execution_count": 20,
   "id": "030448b9-67f0-4cd4-889e-3fac65ccaeaa",
   "metadata": {
    "tags": []
   },
   "outputs": [],
   "source": [
    "# create colocated model\n",
    "colo_settings = exp.create_run_settings(\n",
    "    exe=\"python\",\n",
    "    exe_args=\"./colo-db-torch-example.py\"\n",
    ")\n",
    "\n",
    "colo_model = exp.create_model(\"colocated_model\", colo_settings)\n",
    "colo_model.colocate_db_tcp(\n",
    "    port=6780,\n",
    "    db_cpus=1,\n",
    "    debug=False,\n",
    "    ifname=\"lo\"\n",
    ")"
   ]
  },
  {
   "cell_type": "code",
   "execution_count": 21,
   "id": "f8f30f83-9f93-41f6-8276-c805bc9b6eda",
   "metadata": {
    "tags": []
   },
   "outputs": [
    {
     "name": "stdout",
     "output_type": "stream",
     "text": [
      "21:18:06 C02G13RYMD6N SmartSim[30945] INFO \n",
      "\n",
      "=== Launch Summary ===\n",
      "Experiment: Inference-Tutorial\n",
      "Experiment Path: /Users/smartsim/smartsim/tutorials/ml_inference/Inference-Tutorial\n",
      "Launcher: local\n",
      "Models: 1\n",
      "Database Status: inactive\n",
      "\n",
      "=== Models ===\n",
      "colocated_model\n",
      "Executable: /Users/smartsim/venv/bin/python\n",
      "Executable Arguments: ./colo-db-torch-example.py\n",
      "Co-located Database: True\n",
      "\n",
      "\n",
      "\n",
      "21:18:09 C02G13RYMD6N SmartSim[30945] INFO colocated_model(31865): Completed\n"
     ]
    }
   ],
   "source": [
    "exp.start(colo_model, summary=True)"
   ]
  },
  {
   "cell_type": "code",
   "execution_count": 22,
   "id": "87a21608-c1cd-43db-8c11-150ef44d0363",
   "metadata": {
    "tags": []
   },
   "outputs": [
    {
     "data": {
      "text/html": [
       "<table>\n",
       "<thead>\n",
       "<tr><th>  </th><th>Name           </th><th>Entity-Type  </th><th>JobID  </th><th>RunID  </th><th>Time   </th><th>Status   </th><th>Returncode  </th></tr>\n",
       "</thead>\n",
       "<tbody>\n",
       "<tr><td>0 </td><td>orchestrator_0 </td><td>DBNode       </td><td>31857  </td><td>0      </td><td>32.7161</td><td>Cancelled</td><td>0           </td></tr>\n",
       "<tr><td>1 </td><td>colocated_model</td><td>Model        </td><td>31865  </td><td>0      </td><td>3.5862 </td><td>Completed</td><td>0           </td></tr>\n",
       "</tbody>\n",
       "</table>"
      ],
      "text/plain": [
       "'<table>\\n<thead>\\n<tr><th>  </th><th>Name           </th><th>Entity-Type  </th><th>JobID  </th><th>RunID  </th><th>Time   </th><th>Status   </th><th>Returncode  </th></tr>\\n</thead>\\n<tbody>\\n<tr><td>0 </td><td>orchestrator_0 </td><td>DBNode       </td><td>31857  </td><td>0      </td><td>32.7161</td><td>Cancelled</td><td>0           </td></tr>\\n<tr><td>1 </td><td>colocated_model</td><td>Model        </td><td>31865  </td><td>0      </td><td>3.5862 </td><td>Completed</td><td>0           </td></tr>\\n</tbody>\\n</table>'"
      ]
     },
     "execution_count": 22,
     "metadata": {},
     "output_type": "execute_result"
    }
   ],
   "source": [
    "exp.summary(style=\"html\")"
   ]
  }
 ],
 "metadata": {
  "kernelspec": {
   "display_name": "Python 3 (ipykernel)",
   "language": "python",
   "name": "python3"
  },
  "language_info": {
   "codemirror_mode": {
    "name": "ipython",
    "version": 3
   },
   "file_extension": ".py",
   "mimetype": "text/x-python",
   "name": "python",
   "nbconvert_exporter": "python",
   "pygments_lexer": "ipython3",
   "version": "3.10.13"
  }
 },
 "nbformat": 4,
 "nbformat_minor": 5
}
