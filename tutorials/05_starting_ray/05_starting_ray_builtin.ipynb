{
 "cells": [
  {
   "cell_type": "markdown",
   "id": "3284eb26",
   "metadata": {},
   "source": [
    "# Setting up a Ray cluster with SmartSim"
   ]
  },
  {
   "cell_type": "markdown",
   "id": "d7d2b233",
   "metadata": {},
   "source": [
    "## 1. Start the cluster\n",
    "We set up a SmartSim experiment, which will handle the launch of the Ray cluster.\n",
    "\n",
    "First we import the relevant modules and set up variables. `NUM_WORKERS` is the number of worker nodes: in total, we will spin a Ray cluster of `NUM_WORKERS+1` nodes (one node is the head node)."
   ]
  },
  {
   "cell_type": "code",
   "execution_count": 1,
   "id": "074bd09c",
   "metadata": {
    "tags": []
   },
   "outputs": [],
   "source": [
    "import numpy as np\n",
    "import ray\n",
    "from ray import tune\n",
    "import ray.util\n",
    "\n",
    "from smartsim import Experiment\n",
    "from smartsim.ext.ray import RayCluster\n",
    "\n",
    "NUM_WORKERS = 3\n",
    "CPUS_PER_WORKER = 18\n",
    "alloc=None\n",
    "launcher='slurm'"
   ]
  },
  {
   "cell_type": "markdown",
   "id": "a8c3de07",
   "metadata": {},
   "source": [
    "Now we define a SmartSim experiment which will spin the Ray cluster. The output files will be located in the `ray-cluster` directory (relative to the path from where we are executing this notebook). We are limiting the number each ray node can use to `CPUS_PER_WORKER`: if we wanted to let it use all the cpus, it would suffice not to pass `ray_args`.\n",
    "Notice that the cluster will be password-protected (the password, generated internally, will be shared with worker nodes).\n",
    "\n",
    "If the hosts are attached to multiple interfaces (e.g. `ib`, `eth0`, ...) we can specify to which one the Ray nodes should bind: it is recommended to always choose the one offering the best performances. On an XC, for example, this will be `ipogif0`."
   ]
  },
  {
   "cell_type": "code",
   "execution_count": 2,
   "id": "4caa6cd0",
   "metadata": {
    "tags": []
   },
   "outputs": [],
   "source": [
    "exp = Experiment(\"ray-cluster\", launcher=launcher)\n",
    "cluster = RayCluster(name=\"ray-cluster\", run_args={}, ray_args={\"num-cpus\": CPUS_PER_WORKER},\n",
    "                     launcher=launcher, workers=NUM_WORKERS, alloc=alloc, batch=False, interface=\"ib0\", password=None)"
   ]
  },
  {
   "cell_type": "markdown",
   "id": "04f74eed",
   "metadata": {},
   "source": [
    "We now generate the needed directories. If an experiment with the same name already exists, this call will fail, to avoid overwriting existing results. If we want to overwrite, we can simply pass `overwrite=True` to `exp.generate()`."
   ]
  },
  {
   "cell_type": "code",
   "execution_count": 3,
   "id": "79e7996b",
   "metadata": {
    "tags": []
   },
   "outputs": [
    {
     "name": "stdout",
     "output_type": "stream",
     "text": [
      "04:51:26 osprey.us.cray.com SmartSim[130213] INFO Working in previously created experiment\n"
     ]
    }
   ],
   "source": [
    "exp.generate(cluster, overwrite=True)"
   ]
  },
  {
   "cell_type": "markdown",
   "id": "7a36554a",
   "metadata": {},
   "source": [
    "Now we are ready to start the cluster!"
   ]
  },
  {
   "cell_type": "code",
   "execution_count": 4,
   "id": "76107006",
   "metadata": {
    "tags": []
   },
   "outputs": [
    {
     "name": "stdout",
     "output_type": "stream",
     "text": [
      "\n",
      "\n",
      "\u001b[36;1m=== LAUNCH SUMMARY ===\u001b[0m\n",
      "\u001b[32;1mExperiment: ray-cluster\u001b[0m\n",
      "\u001b[32mExperiment Path: /lus/sonexion/arigazzi/smartsim-dev/SmartSim/tutorials/05_starting_ray/ray-cluster\u001b[0m\n",
      "\u001b[32mLaunching with: slurm\u001b[0m\n",
      "\u001b[32m# of Ensembles: 0\u001b[0m\n",
      "\u001b[32m# of Models: 0\u001b[0m\n",
      "\u001b[32mDatabase: no\u001b[0m\n",
      "\n",
      "\u001b[36;1m=== RAY CLUSTERS ===\u001b[0m\n",
      "\u001b[32;1mray-cluster\u001b[0m\n",
      "\u001b[32m# of workers: 3\u001b[0m\n",
      "\u001b[32mLaunching as batch: False\u001b[0m\n",
      "\u001b[32mHead run Settings: \n",
      "Executable: /lus/scratch/arigazzi/anaconda3/envs/smartsim/bin/python\n",
      "Executable arguments: ['/lus/sonexion/arigazzi/smartsim-dev/SmartSim/smartsim/ext/ray/raystarter.py', '--port=6789', '--ifname=ib0', '--ray-exe=/lus/scratch/arigazzi/anaconda3/envs/smartsim/bin/ray', '--head', '--dashboard-port=8265', '--ray-args=\"--num-cpus=18\"']\n",
      "Run Command: srun\n",
      "Run arguments: {'nodes': 1, 'ntasks': 1, 'ntasks-per-node': 1, 'unbuffered': None}\u001b[0m\u001b[32m\n",
      "Worker run Settings: \n",
      "Executable: /lus/scratch/arigazzi/anaconda3/envs/smartsim/bin/python\n",
      "Executable arguments: ['/lus/sonexion/arigazzi/smartsim-dev/SmartSim/smartsim/ext/ray/raystarter.py', '--ray-exe=/lus/scratch/arigazzi/anaconda3/envs/smartsim/bin/ray', '--port=6789', '--ifname=ib0', '--ray-args=\"--num-cpus=18\"']\n",
      "Run Command: srun\n",
      "Run arguments: {'nodes': 1, 'ntasks': 1, 'ntasks-per-node': 1, 'unbuffered': None}\u001b[0m\n",
      "\n",
      "\n",
      "\n",
      "\n"
     ]
    },
    {
     "name": "stderr",
     "output_type": "stream",
     "text": [
      "                                                                                \r"
     ]
    },
    {
     "name": "stdout",
     "output_type": "stream",
     "text": [
      "04:51:52 osprey.us.cray.com SmartSim[130213] INFO Ray cluster launched on nodes: ['prod-0002', 'prod-0003', 'prod-0004', 'prod-0005']\n"
     ]
    }
   ],
   "source": [
    "exp.start(cluster, block=False, summary=True)"
   ]
  },
  {
   "cell_type": "markdown",
   "id": "4010402f",
   "metadata": {},
   "source": [
    "## 2. Start the ray driver script\n",
    "\n",
    "Now we can just connect to our running server."
   ]
  },
  {
   "cell_type": "code",
   "execution_count": 5,
   "id": "d59e8eb7",
   "metadata": {
    "tags": []
   },
   "outputs": [
    {
     "data": {
      "text/plain": [
       "ClientContext(dashboard_url='127.0.0.1:8265', python_version='3.7.10', ray_version='1.5.1', ray_commit='7d69ebb9e239fc073edc1a3a01c581e2bddfcbbf', protocol_version='2021-05-20', _num_clients=1)"
      ]
     },
     "execution_count": 5,
     "metadata": {},
     "output_type": "execute_result"
    }
   ],
   "source": [
    "ray.init(\"ray://\"+cluster.get_head_address()+\":10001\")"
   ]
  },
  {
   "cell_type": "markdown",
   "id": "f4841c63",
   "metadata": {},
   "source": [
    "Now we check that all resources are set properly."
   ]
  },
  {
   "cell_type": "code",
   "execution_count": 6,
   "id": "57905de3",
   "metadata": {
    "tags": []
   },
   "outputs": [
    {
     "name": "stdout",
     "output_type": "stream",
     "text": [
      "This cluster consists of\n",
      "    4 nodes in total\n",
      "    72.0 CPU resources in total\n",
      "\n"
     ]
    }
   ],
   "source": [
    "print('''This cluster consists of\n",
    "    {} nodes in total\n",
    "    {} CPU resources in total\n",
    "'''.format(len(ray.nodes()), ray.cluster_resources()['CPU']))\n"
   ]
  },
  {
   "cell_type": "markdown",
   "id": "1eba51be-fb73-42dd-a67d-4de70d2840fb",
   "metadata": {},
   "source": [
    "And we can run a Ray Tune example, to see that everything is working!"
   ]
  },
  {
   "cell_type": "code",
   "execution_count": null,
   "id": "8fb9e2d7",
   "metadata": {
    "tags": []
   },
   "outputs": [],
   "source": [
    "tune.run(\n",
    "    \"PPO\",\n",
    "    stop={\"episode_reward_max\": 200},\n",
    "    config={\n",
    "        \"framework\": \"torch\",\n",
    "        \"env\": \"CartPole-v0\",\n",
    "        \"num_gpus\": 0,\n",
    "        \"lr\": tune.grid_search(np.linspace (0.001, 0.01, 50).tolist()),\n",
    "        \"log_level\": \"ERROR\",\n",
    "    },\n",
    "    local_dir=\"/lus/scratch/arigazzi/ray_local/\",\n",
    "    verbose=0,\n",
    "    fail_fast=True,\n",
    "    log_to_file=True,\n",
    ")"
   ]
  },
  {
   "cell_type": "markdown",
   "id": "29212811",
   "metadata": {},
   "source": [
    "## 3. Stop cluster and release allocation"
   ]
  },
  {
   "cell_type": "code",
   "execution_count": 7,
   "id": "58774b6e",
   "metadata": {
    "tags": []
   },
   "outputs": [
    {
     "name": "stdout",
     "output_type": "stream",
     "text": [
      "04:52:31 osprey.us.cray.com SmartSim[130213] INFO Stopping model ray_head with job name ray_head-CDFQNJIKMLYB\n",
      "04:52:31 osprey.us.cray.com SmartSim[130213] INFO Stopping model ray_worker_0 with job name ray_worker_0-CDFQNJIKOCDV\n",
      "04:52:32 osprey.us.cray.com SmartSim[130213] INFO Stopping model ray_worker_1 with job name ray_worker_1-CDFQNJIKOQDM\n",
      "04:52:32 osprey.us.cray.com SmartSim[130213] INFO Stopping model ray_worker_2 with job name ray_worker_2-CDFQNJIKP23M\n"
     ]
    }
   ],
   "source": [
    "ray.shutdown()\n",
    "exp.stop(cluster)\n",
    "if alloc:\n",
    "    slurm.release_allocation(alloc)"
   ]
  },
  {
   "cell_type": "code",
   "execution_count": null,
   "id": "c2b3748a-dad4-46fa-9aa5-543c135e9b4b",
   "metadata": {},
   "outputs": [],
   "source": []
  }
 ],
 "metadata": {
  "interpreter": {
   "hash": "b738ecfe013e3ceede67431676fa5746fa1d95dad4240bd1c29430e75f30557e"
  },
  "kernelspec": {
   "display_name": "smartsim",
   "language": "python",
   "name": "smartsim"
  },
  "language_info": {
   "codemirror_mode": {
    "name": "ipython",
    "version": 3
   },
   "file_extension": ".py",
   "mimetype": "text/x-python",
   "name": "python",
   "nbconvert_exporter": "python",
   "pygments_lexer": "ipython3",
   "version": "3.7.10"
  }
 },
 "nbformat": 4,
 "nbformat_minor": 5
}
