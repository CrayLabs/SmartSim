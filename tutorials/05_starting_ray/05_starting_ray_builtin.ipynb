{
 "cells": [
  {
   "cell_type": "markdown",
   "id": "76f1ed01",
   "metadata": {},
   "source": [
    "# Setting up a Ray cluster with SmartSim"
   ]
  },
  {
   "cell_type": "markdown",
   "id": "00808c8e",
   "metadata": {},
   "source": [
    "## 1. Start the cluster\n",
    "We set up a SmartSim experiment, which will handle the launch of the Ray cluster.\n",
    "\n",
    "First we import the relevant modules."
   ]
  },
  {
   "cell_type": "code",
   "execution_count": 5,
   "id": "50ff8143",
   "metadata": {},
   "outputs": [],
   "source": [
    "from smartsim import Experiment, slurm\n",
    "from smartsim.ray import RayCluster\n",
    "\n",
    "NUM_WORKERS = 5\n",
    "alloc=None"
   ]
  },
  {
   "cell_type": "code",
   "execution_count": 6,
   "id": "2cb3a6ed-b7c1-45b6-868b-d445e7bca9d8",
   "metadata": {
    "tags": []
   },
   "outputs": [
    {
     "name": "stdout",
     "output_type": "stream",
     "text": [
      "12:33:29 osprey.us.cray.com SmartSim[35303] INFO Working in previously created experiment\n",
      "12:33:33 osprey.us.cray.com SmartSim[35303] INFO Ray cluster launched on nodes: ['prod-0001', 'prod-0003', 'prod-0006', 'prod-0005', 'prod-0004', 'prod-0002']\n"
     ]
    }
   ],
   "source": [
    "exp = Experiment(\"ray-cluster\", launcher='slurm')\n",
    "\n",
    "cluster = RayCluster(name=\"ray-cluster\", path='', launcher='slurm', workers=NUM_WORKERS, alloc=alloc, batch=True)\n",
    "exp.generate(cluster, overwrite=True)\n",
    "\n",
    "exp.start(cluster, block=False, summary=False)"
   ]
  },
  {
   "cell_type": "markdown",
   "id": "fc7c325d",
   "metadata": {},
   "source": [
    "## 2. Start the ray driver script"
   ]
  },
  {
   "cell_type": "code",
   "execution_count": 7,
   "id": "a6f1b316",
   "metadata": {},
   "outputs": [],
   "source": [
    "cluster.start_ray_job('/lus/sonexion/arigazzi/smartsim-dev/SmartSim/tutorials/05_starting_ray/templates/ppo_tune.py')"
   ]
  },
  {
   "cell_type": "markdown",
   "id": "4b226dbe",
   "metadata": {},
   "source": [
    "## 3. Stop cluster and release allocation"
   ]
  },
  {
   "cell_type": "code",
   "execution_count": 8,
   "id": "6e49e305",
   "metadata": {},
   "outputs": [
    {
     "name": "stdout",
     "output_type": "stream",
     "text": [
      "12:39:34 osprey.us.cray.com SmartSim[35303] INFO Stopping model workers with job name workers-CB76ZFTDRBUL\n",
      "12:39:46 osprey.us.cray.com SmartSim[35303] INFO Stopping model head with job name head-CB76ZEDP49HS\n"
     ]
    }
   ],
   "source": [
    "exp.stop(cluster)"
   ]
  },
  {
   "cell_type": "code",
   "execution_count": 9,
   "id": "e29b310f",
   "metadata": {},
   "outputs": [
    {
     "name": "stdout",
     "output_type": "stream",
     "text": [
      "05:51:53 osprey.us.cray.com SmartSim[131434] INFO Releasing allocation: 230194\n",
      "05:51:53 osprey.us.cray.com SmartSim[131434] INFO Successfully freed allocation 230194\n"
     ]
    }
   ],
   "source": [
    "# slurm.release_allocation(alloc)"
   ]
  },
  {
   "cell_type": "code",
   "execution_count": 4,
   "id": "6550ac66",
   "metadata": {},
   "outputs": [
    {
     "name": "stdout",
     "output_type": "stream",
     "text": [
      "             JOBID PARTITION     NAME     USER ST       TIME  NODES NODELIST(REASON)\n",
      "            231323     bdw18 Chpl-isx  chapelu  R      24:50     16 prod-[0015-0030]\n",
      "            231324     bdw18 interact  builder  R      19:11      8 prod-[0031-0038]\n",
      "            231327     bdw18 head-CB7 arigazzi  R       1:47      1 prod-0001\n",
      "            231328     bdw18 workers- arigazzi  R       1:44      5 prod-[0002-0006]\n"
     ]
    }
   ],
   "source": [
    "!squeue"
   ]
  },
  {
   "cell_type": "code",
   "execution_count": null,
   "id": "1a298902",
   "metadata": {},
   "outputs": [],
   "source": []
  }
 ],
 "metadata": {
  "kernelspec": {
   "display_name": "smartsim",
   "language": "python",
   "name": "smartsim"
  },
  "language_info": {
   "codemirror_mode": {
    "name": "ipython",
    "version": 3
   },
   "file_extension": ".py",
   "mimetype": "text/x-python",
   "name": "python",
   "nbconvert_exporter": "python",
   "pygments_lexer": "ipython3",
   "version": "3.7.10"
  }
 },
 "nbformat": 4,
 "nbformat_minor": 5
}
