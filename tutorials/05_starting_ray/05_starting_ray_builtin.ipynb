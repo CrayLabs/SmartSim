{
 "cells": [
  {
   "cell_type": "markdown",
   "id": "42905082",
   "metadata": {},
   "source": [
    "# Setting up a Ray cluster with SmartSim"
   ]
  },
  {
   "cell_type": "markdown",
   "id": "a3dc796b",
   "metadata": {},
   "source": [
    "## 1. Start the cluster\n",
    "We set up a SmartSim experiment, which will handle the launch of the Ray cluster.\n",
    "\n",
    "First we import the relevant modules."
   ]
  },
  {
   "cell_type": "code",
   "execution_count": 1,
   "id": "74c17fe8",
   "metadata": {},
   "outputs": [],
   "source": [
    "from smartsim import Experiment, slurm\n",
    "from smartsim.ray import RayCluster\n",
    "\n",
    "NUM_WORKERS = 2\n",
    "alloc=None #slurm.get_allocation(nodes=1+NUM_WORKERS, time=\"12:00:00\", options={\"ntasks\": str(1+NUM_WORKERS), \"partition\": \"spider\", \"C\": \"V100\"})"
   ]
  },
  {
   "cell_type": "code",
   "execution_count": 2,
   "id": "e6a69118",
   "metadata": {
    "tags": []
   },
   "outputs": [
    {
     "name": "stdout",
     "output_type": "stream",
     "text": [
      "11:52:03 nid00000 SmartSim[29596] INFO Working in previously created experiment\n"
     ]
    }
   ],
   "source": [
    "exp = Experiment(\"ray-cluster\", launcher='slurm')\n",
    "cluster = RayCluster(name=\"ray-cluster\", run_args={\"time\":\"06:00:00\", \"unbuffered\": None}, path='',\n",
    "                     launcher='slurm', workers=NUM_WORKERS, alloc=alloc, batch=False, ray_num_cpus=56)\n",
    "\n",
    "if cluster.batch:\n",
    "    cluster.head_model.batch_settings._preamble = [\"source ~/.bashrc\", \"conda activate smartsim\"]\n",
    "    if NUM_WORKERS:\n",
    "        cluster.worker_model.batch_settings._preamble = [\"source ~/.bashrc\", \"conda activate smartsim\"]\n",
    "\n",
    "exp.generate(cluster, overwrite=True)"
   ]
  },
  {
   "cell_type": "code",
   "execution_count": 3,
   "id": "b255fa37",
   "metadata": {
    "tags": []
   },
   "outputs": [
    {
     "name": "stdout",
     "output_type": "stream",
     "text": [
      "11:52:15 nid00000 SmartSim[29596] INFO Ray cluster launched on nodes: ['nid00000', 'nid00002', 'nid00001']\n"
     ]
    }
   ],
   "source": [
    "exp.start(cluster, block=False, summary=False)"
   ]
  },
  {
   "cell_type": "markdown",
   "id": "f0af6be4",
   "metadata": {},
   "source": [
    "## 2. Start the ray driver script"
   ]
  },
  {
   "cell_type": "code",
   "execution_count": 4,
   "id": "4faf9607",
   "metadata": {},
   "outputs": [
    {
     "name": "stdout",
     "output_type": "stream",
     "text": [
      "12:14:48 nid00000 SmartSim[29596] WARNING workers(1292874.32): Failed\n",
      "12:14:48 nid00000 SmartSim[29596] WARNING workers failed. See below for details \n",
      "RayWorker workers produced the following error \n",
      "Error: srun: error: nid00002: task 1: Exited with exit code 1\n",
      "srun: launch/slurm: _step_signal: Terminating StepId=1292874.32\n",
      "srun: error: nid00001: task 0: Exited with exit code 1\n",
      " \n",
      "Job status at failure: Failed \n",
      "Launcher status at failure: FAILED \n",
      "Job returncode: 1 \n",
      "Error and output file located at: /lus/cls01029/arigazzi/smartsim-dev/SmartSim/tutorials/05_starting_ray/ray-cluster/workers\n"
     ]
    }
   ],
   "source": [
    "cluster.start_ray_job('/lus/scratch/arigazzi/smartsim-dev/SmartSim/tutorials/05_starting_ray/templates/ppo_tune.py')"
   ]
  },
  {
   "cell_type": "code",
   "execution_count": 30,
   "id": "cc5afafa-61bd-49d6-8162-1dc3cad4ecdd",
   "metadata": {},
   "outputs": [],
   "source": [
    "cluster.start_ray_job('/lus/scratch/arigazzi/smartsim-dev/SmartSim/tutorials/05_starting_ray/templates/ppo_train.py')"
   ]
  },
  {
   "cell_type": "code",
   "execution_count": 5,
   "id": "c3a5d5af",
   "metadata": {},
   "outputs": [],
   "source": [
    "cluster.start_ray_job('/lus/scratch/arigazzi/smartsim-dev/SmartSim/tutorials/05_starting_ray/templates/mnist_pytorch_trainable.py')"
   ]
  },
  {
   "cell_type": "markdown",
   "id": "4742ce83",
   "metadata": {},
   "source": [
    "## 3. Stop cluster and release allocation"
   ]
  },
  {
   "cell_type": "code",
   "execution_count": 5,
   "id": "100a7123",
   "metadata": {},
   "outputs": [
    {
     "name": "stdout",
     "output_type": "stream",
     "text": [
      "12:30:50 nid00000 SmartSim[29596] INFO Stopping model head with job name head-CBD4HIKDML7J\n"
     ]
    }
   ],
   "source": [
    "exp.stop(cluster)"
   ]
  },
  {
   "cell_type": "code",
   "execution_count": 6,
   "id": "24151d8f",
   "metadata": {},
   "outputs": [
    {
     "name": "stdout",
     "output_type": "stream",
     "text": [
      "13:49:36 osprey.us.cray.com SmartSim[119244] INFO Releasing allocation: 242490\n",
      "13:49:36 osprey.us.cray.com SmartSim[119244] INFO Successfully freed allocation 242490\n"
     ]
    }
   ],
   "source": [
    "if alloc:\n",
    "    slurm.release_allocation(alloc)"
   ]
  },
  {
   "cell_type": "code",
   "execution_count": 6,
   "id": "514ffc63",
   "metadata": {},
   "outputs": [
    {
     "name": "stdout",
     "output_type": "stream",
     "text": [
      "             JOBID PARTITION     NAME     USER ST       TIME  NODES NODELIST(REASON)\n",
      "            242403     bdw18  Chpl-ep  chapelu  R       6:04     16 prod-[0001-0016]\n",
      "            242404     bdw18 head-CBC arigazzi  R       2:57      1 prod-0017\n",
      "            242394     clx28 sstsim.x visharma  R      40:31     32 prod-[0065-0096]\n"
     ]
    }
   ],
   "source": [
    "!squeue"
   ]
  },
  {
   "cell_type": "code",
   "execution_count": 7,
   "id": "64a98698",
   "metadata": {},
   "outputs": [
    {
     "name": "stdout",
     "output_type": "stream",
     "text": [
      "11:26:17 osprey.us.cray.com SmartSim[75449] INFO head(242404): Failed\n"
     ]
    }
   ],
   "source": [
    "!scancel 242404\n"
   ]
  },
  {
   "cell_type": "code",
   "execution_count": null,
   "id": "68019ac7",
   "metadata": {},
   "outputs": [],
   "source": []
  }
 ],
 "metadata": {
  "kernelspec": {
   "display_name": "smartsim",
   "language": "python",
   "name": "smartsim"
  },
  "language_info": {
   "codemirror_mode": {
    "name": "ipython",
    "version": 3
   },
   "file_extension": ".py",
   "mimetype": "text/x-python",
   "name": "python",
   "nbconvert_exporter": "python",
   "pygments_lexer": "ipython3",
   "version": "3.8.8"
  }
 },
 "nbformat": 4,
 "nbformat_minor": 5
}
