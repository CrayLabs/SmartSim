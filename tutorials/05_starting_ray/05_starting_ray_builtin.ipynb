{
 "cells": [
  {
   "cell_type": "markdown",
   "source": [
    "# Setting up a Ray cluster with SmartSim"
   ],
   "metadata": {}
  },
  {
   "cell_type": "markdown",
   "source": [
    "## 1. Start the cluster\n",
    "We set up a SmartSim experiment, which will handle the launch of the Ray cluster.\n",
    "\n",
    "First we import the relevant modules and set up variables. `NUM_WORKERS` is the number of worker nodes: in total, we will spin a Ray cluster of `NUM_WORKERS+1` nodes (one node is the head node)."
   ],
   "metadata": {}
  },
  {
   "cell_type": "code",
   "execution_count": null,
   "source": [
    "import numpy as np\n",
    "import ray\n",
    "from ray import tune\n",
    "import ray.util\n",
    "\n",
    "from smartsim import Experiment\n",
    "from smartsim.exp.ray import RayCluster\n",
    "\n",
    "NUM_WORKERS = 3\n",
    "CPUS_PER_WORKER = 18\n",
    "launcher='slurm'"
   ],
   "outputs": [],
   "metadata": {
    "tags": []
   }
  },
  {
   "cell_type": "markdown",
   "source": [
    "Now we define a SmartSim experiment which will spin the Ray cluster. The output files will be located in the `ray-cluster` directory (relative to the path from where we are executing this notebook). We are limiting the number each ray node can use to `CPUS_PER_WORKER`: if we wanted to let it use all the cpus, it would suffice not to pass `ray_args`.\n",
    "Notice that the cluster will be password-protected (the password, generated internally, will be shared with worker nodes).\n",
    "\n",
    "If the hosts are attached to multiple interfaces (e.g. `ib`, `eth0`, ...) we can specify to which one the Ray nodes should bind: it is recommended to always choose the one offering the best performances. On a Cray XC, for example, this will be `ipogif0`. \n",
    "\n",
    "To connect to the cluster, we will use the Ray client. Note that this approach only works with `ray>=1.6`, for previous versions, one has to add `password=None` to the `RayCluster` constructor."
   ],
   "metadata": {}
  },
  {
   "cell_type": "code",
   "execution_count": null,
   "source": [
    "exp = Experiment(\"ray-cluster\", launcher=launcher)\n",
    "cluster = RayCluster(name=\"ray-cluster\", run_args={}, ray_args={\"num-cpus\": CPUS_PER_WORKER},\n",
    "                     launcher=launcher, workers=NUM_WORKERS, batch=False, interface=\"ipogif0\")"
   ],
   "outputs": [],
   "metadata": {
    "tags": []
   }
  },
  {
   "cell_type": "markdown",
   "source": [
    "We now generate the needed directories. If an experiment with the same name already exists, this call will fail, to avoid overwriting existing results. If we want to overwrite, we can simply pass `overwrite=True` to `exp.generate()`."
   ],
   "metadata": {}
  },
  {
   "cell_type": "code",
   "execution_count": null,
   "source": [
    "exp.generate(cluster, overwrite=True)"
   ],
   "outputs": [],
   "metadata": {
    "tags": []
   }
  },
  {
   "cell_type": "markdown",
   "source": [
    "Now we are ready to start the cluster!"
   ],
   "metadata": {}
  },
  {
   "cell_type": "code",
   "execution_count": null,
   "source": [
    "exp.start(cluster, block=False, summary=True)"
   ],
   "outputs": [],
   "metadata": {
    "tags": []
   }
  },
  {
   "cell_type": "markdown",
   "source": [
    "## 2. Start the ray driver script\n",
    "\n",
    "Now we can just connect to our running server."
   ],
   "metadata": {}
  },
  {
   "cell_type": "code",
   "execution_count": null,
   "source": [
    "ray.init(\"ray://\"+cluster.get_head_address()+\":10001\")"
   ],
   "outputs": [],
   "metadata": {
    "tags": []
   }
  },
  {
   "cell_type": "markdown",
   "source": [
    "Now we check that all resources are set properly."
   ],
   "metadata": {}
  },
  {
   "cell_type": "code",
   "execution_count": null,
   "source": [
    "print('''This cluster consists of\n",
    "    {} nodes in total\n",
    "    {} CPU resources in total\n",
    "'''.format(len(ray.nodes()), ray.cluster_resources()['CPU']))\n"
   ],
   "outputs": [],
   "metadata": {
    "tags": []
   }
  },
  {
   "cell_type": "markdown",
   "source": [
    "And we can run a Ray Tune example, to see that everything is working!"
   ],
   "metadata": {}
  },
  {
   "cell_type": "code",
   "execution_count": null,
   "source": [
    "tune.run(\n",
    "    \"PPO\",\n",
    "    stop={\"episode_reward_max\": 200},\n",
    "    config={\n",
    "        \"framework\": \"torch\",\n",
    "        \"env\": \"CartPole-v0\",\n",
    "        \"num_gpus\": 0,\n",
    "        \"lr\": tune.grid_search(np.linspace (0.001, 0.01, 50).tolist()),\n",
    "        \"log_level\": \"ERROR\",\n",
    "    },\n",
    "    local_dir=\"/lus/scratch/arigazzi/ray_local/\",\n",
    "    verbose=0,\n",
    "    fail_fast=True,\n",
    "    log_to_file=True,\n",
    ")"
   ],
   "outputs": [],
   "metadata": {
    "tags": []
   }
  },
  {
   "cell_type": "markdown",
   "source": [
    "## 3. Stop cluster and release allocation"
   ],
   "metadata": {}
  },
  {
   "cell_type": "code",
   "execution_count": null,
   "source": [
    "ray.shutdown()\n",
    "ray.disconnect()\n",
    "exp.stop(cluster)"
   ],
   "outputs": [],
   "metadata": {
    "tags": []
   }
  },
  {
   "cell_type": "code",
   "execution_count": null,
   "source": [],
   "outputs": [],
   "metadata": {}
  }
 ],
 "metadata": {
  "interpreter": {
   "hash": "b738ecfe013e3ceede67431676fa5746fa1d95dad4240bd1c29430e75f30557e"
  },
  "kernelspec": {
   "display_name": "smartsim",
   "language": "python",
   "name": "smartsim"
  },
  "language_info": {
   "codemirror_mode": {
    "name": "ipython",
    "version": 3
   },
   "file_extension": ".py",
   "mimetype": "text/x-python",
   "name": "python",
   "nbconvert_exporter": "python",
   "pygments_lexer": "ipython3",
   "version": "3.8.8"
  }
 },
 "nbformat": 4,
 "nbformat_minor": 5
}