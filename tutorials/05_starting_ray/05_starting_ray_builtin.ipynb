{
 "cells": [
  {
   "cell_type": "markdown",
   "id": "9f0c7286",
   "metadata": {},
   "source": [
    "# Setting up a Ray cluster with SmartSim"
   ]
  },
  {
   "cell_type": "markdown",
   "id": "a2e409fa",
   "metadata": {},
   "source": [
    "## 1. Start the cluster\n",
    "We set up a SmartSim experiment, which will handle the launch of the Ray cluster.\n",
    "\n",
    "First we import the relevant modules."
   ]
  },
  {
   "cell_type": "code",
   "execution_count": 1,
   "id": "3bf79631",
   "metadata": {},
   "outputs": [
    {
     "name": "stdout",
     "output_type": "stream",
     "text": [
      "11:29:54 osprey.us.cray.com SmartSim[139114] INFO Allocation successful with Job ID: 247529\n"
     ]
    }
   ],
   "source": [
    "from smartsim import Experiment, slurm\n",
    "from smartsim.ray import RayCluster\n",
    "\n",
    "NUM_WORKERS = 3\n",
    "alloc=slurm.get_allocation(nodes=1+NUM_WORKERS, time=\"12:00:00\", options={\"ntasks\": str(1+NUM_WORKERS), \"partition\": \"spider\", \"C\": \"V100\"})"
   ]
  },
  {
   "cell_type": "code",
   "execution_count": 2,
   "id": "d03bc81b",
   "metadata": {
    "tags": []
   },
   "outputs": [
    {
     "name": "stdout",
     "output_type": "stream",
     "text": [
      "11:29:54 osprey.us.cray.com SmartSim[139114] INFO Working in previously created experiment\n"
     ]
    }
   ],
   "source": [
    "exp = Experiment(\"ray-cluster\", launcher='slurm')\n",
    "cluster = RayCluster(name=\"ray-cluster\", run_args={\"time\":\"06:00:00\", \"unbuffered\": None}, path='',\n",
    "                     launcher='slurm', workers=NUM_WORKERS, alloc=alloc, batch=False, ray_num_cpus=36)\n",
    "\n",
    "if cluster.batch:\n",
    "    cluster.head_model.batch_settings._preamble = [\"source ~/.bashrc\", \"conda activate smartsim\"]\n",
    "    if NUM_WORKERS:\n",
    "        cluster.worker_model.batch_settings._preamble = [\"source ~/.bashrc\", \"conda activate smartsim\"]\n",
    "\n",
    "exp.generate(cluster, overwrite=True)"
   ]
  },
  {
   "cell_type": "code",
   "execution_count": 3,
   "id": "4aac5087",
   "metadata": {
    "tags": []
   },
   "outputs": [
    {
     "name": "stdout",
     "output_type": "stream",
     "text": [
      "11:30:01 osprey.us.cray.com SmartSim[139114] INFO Ray cluster launched on nodes: ['spider-0006', 'spider-0007', 'spider-0009', 'spider-0008']\n"
     ]
    }
   ],
   "source": [
    "exp.start(cluster, block=False, summary=False)"
   ]
  },
  {
   "cell_type": "markdown",
   "id": "1ec77c0b",
   "metadata": {},
   "source": [
    "## 2. Start the ray driver script"
   ]
  },
  {
   "cell_type": "code",
   "execution_count": 8,
   "id": "1212fd49",
   "metadata": {},
   "outputs": [],
   "source": [
    "cluster.start_ray_job('/lus/scratch/arigazzi/smartsim-dev/SmartSim/tutorials/05_starting_ray/templates/ppo_tune.py')"
   ]
  },
  {
   "cell_type": "code",
   "execution_count": 30,
   "id": "9df6d8f0",
   "metadata": {},
   "outputs": [],
   "source": [
    "cluster.start_ray_job('/lus/scratch/arigazzi/smartsim-dev/SmartSim/tutorials/05_starting_ray/templates/ppo_train.py')"
   ]
  },
  {
   "cell_type": "code",
   "execution_count": 4,
   "id": "5ac3254c",
   "metadata": {},
   "outputs": [],
   "source": [
    "cluster.start_ray_job('/lus/scratch/arigazzi/smartsim-dev/SmartSim/tutorials/05_starting_ray/templates/mnist_pytorch_trainable.py')"
   ]
  },
  {
   "cell_type": "markdown",
   "id": "b9fa8610",
   "metadata": {},
   "source": [
    "## 3. Stop cluster and release allocation"
   ]
  },
  {
   "cell_type": "code",
   "execution_count": 32,
   "id": "f71d5ad5",
   "metadata": {},
   "outputs": [
    {
     "name": "stdout",
     "output_type": "stream",
     "text": [
      "11:29:32 osprey.us.cray.com SmartSim[85487] INFO Stopping model workers with job name workers-CBFNVCH1UMPX\n",
      "11:29:32 osprey.us.cray.com SmartSim[85487] INFO Stopping model head with job name head-CBFNVAHRSZHG\n"
     ]
    }
   ],
   "source": [
    "exp.stop(cluster)"
   ]
  },
  {
   "cell_type": "code",
   "execution_count": 33,
   "id": "f55dbf09",
   "metadata": {},
   "outputs": [
    {
     "name": "stdout",
     "output_type": "stream",
     "text": [
      "11:29:34 osprey.us.cray.com SmartSim[85487] INFO Releasing allocation: 247528\n",
      "11:29:34 osprey.us.cray.com SmartSim[85487] INFO Successfully freed allocation 247528\n"
     ]
    }
   ],
   "source": [
    "if alloc:\n",
    "    slurm.release_allocation(alloc)"
   ]
  },
  {
   "cell_type": "code",
   "execution_count": 13,
   "id": "a3fd6ba4",
   "metadata": {
    "tags": []
   },
   "outputs": [
    {
     "name": "stdout",
     "output_type": "stream",
     "text": [
      "\u001b[2m\u001b[36m(pid=35264)\u001b[0m <IPython.core.display.HTML object>\n",
      "\u001b[2m\u001b[36m(pid=35264)\u001b[0m <IPython.core.display.HTML object>\n"
     ]
    },
    {
     "name": "stderr",
     "output_type": "stream",
     "text": [
      "\u001b[2m\u001b[36m(pid=37955, ip=10.10.2.74)\u001b[0m 2021-05-17 12:26:25,775\tINFO trainer.py:696 -- Current log_level is ERROR. For more information, set 'log_level': 'INFO' / 'DEBUG' or use the -v and -vv flags.\n",
      "\u001b[2m\u001b[36m(pid=37962, ip=10.10.2.74)\u001b[0m 2021-05-17 12:26:25,839\tINFO trainer.py:696 -- Current log_level is ERROR. For more information, set 'log_level': 'INFO' / 'DEBUG' or use the -v and -vv flags.\n",
      "\u001b[2m\u001b[36m(pid=37966, ip=10.10.2.74)\u001b[0m 2021-05-17 12:26:26,000\tINFO trainer.py:696 -- Current log_level is ERROR. For more information, set 'log_level': 'INFO' / 'DEBUG' or use the -v and -vv flags.\n",
      "\u001b[2m\u001b[36m(pid=37969, ip=10.10.2.74)\u001b[0m 2021-05-17 12:26:26,011\tINFO trainer.py:696 -- Current log_level is ERROR. For more information, set 'log_level': 'INFO' / 'DEBUG' or use the -v and -vv flags.\n",
      "\u001b[2m\u001b[36m(pid=67573)\u001b[0m 2021-05-17 12:26:26,062\tINFO trainer.py:696 -- Current log_level is ERROR. For more information, set 'log_level': 'INFO' / 'DEBUG' or use the -v and -vv flags.\n",
      "\u001b[2m\u001b[36m(pid=67569)\u001b[0m 2021-05-17 12:26:26,072\tINFO trainer.py:696 -- Current log_level is ERROR. For more information, set 'log_level': 'INFO' / 'DEBUG' or use the -v and -vv flags.\n",
      "\u001b[2m\u001b[36m(pid=67580)\u001b[0m 2021-05-17 12:26:26,140\tINFO trainer.py:696 -- Current log_level is ERROR. For more information, set 'log_level': 'INFO' / 'DEBUG' or use the -v and -vv flags.\n",
      "\u001b[2m\u001b[36m(pid=67582)\u001b[0m 2021-05-17 12:26:26,137\tINFO trainer.py:696 -- Current log_level is ERROR. For more information, set 'log_level': 'INFO' / 'DEBUG' or use the -v and -vv flags.\n",
      "\u001b[2m\u001b[36m(pid=34488, ip=10.10.2.75)\u001b[0m 2021-05-17 12:26:26,208\tINFO trainer.py:696 -- Current log_level is ERROR. For more information, set 'log_level': 'INFO' / 'DEBUG' or use the -v and -vv flags.\n",
      "\u001b[2m\u001b[36m(pid=34500, ip=10.10.2.75)\u001b[0m 2021-05-17 12:26:26,280\tINFO trainer.py:696 -- Current log_level is ERROR. For more information, set 'log_level': 'INFO' / 'DEBUG' or use the -v and -vv flags.\n",
      "\u001b[2m\u001b[36m(pid=34496, ip=10.10.2.75)\u001b[0m 2021-05-17 12:26:26,309\tINFO trainer.py:696 -- Current log_level is ERROR. For more information, set 'log_level': 'INFO' / 'DEBUG' or use the -v and -vv flags.\n",
      "\u001b[2m\u001b[36m(pid=34503, ip=10.10.2.75)\u001b[0m 2021-05-17 12:26:26,317\tINFO trainer.py:696 -- Current log_level is ERROR. For more information, set 'log_level': 'INFO' / 'DEBUG' or use the -v and -vv flags.\n",
      "\u001b[2m\u001b[36m(pid=37139, ip=10.10.2.73)\u001b[0m 2021-05-17 12:26:26,406\tINFO trainer.py:696 -- Current log_level is ERROR. For more information, set 'log_level': 'INFO' / 'DEBUG' or use the -v and -vv flags.\n",
      "\u001b[2m\u001b[36m(pid=37143, ip=10.10.2.73)\u001b[0m 2021-05-17 12:26:26,402\tINFO trainer.py:696 -- Current log_level is ERROR. For more information, set 'log_level': 'INFO' / 'DEBUG' or use the -v and -vv flags.\n",
      "\u001b[2m\u001b[36m(pid=37147, ip=10.10.2.73)\u001b[0m 2021-05-17 12:26:26,431\tINFO trainer.py:696 -- Current log_level is ERROR. For more information, set 'log_level': 'INFO' / 'DEBUG' or use the -v and -vv flags.\n",
      "\u001b[2m\u001b[36m(pid=37149, ip=10.10.2.73)\u001b[0m 2021-05-17 12:26:26,461\tINFO trainer.py:696 -- Current log_level is ERROR. For more information, set 'log_level': 'INFO' / 'DEBUG' or use the -v and -vv flags.\n",
      "\u001b[2m\u001b[36m(pid=38081, ip=10.10.2.74)\u001b[0m 2021-05-17 12:26:26,732\tINFO trainer.py:696 -- Current log_level is ERROR. For more information, set 'log_level': 'INFO' / 'DEBUG' or use the -v and -vv flags.\n",
      "\u001b[2m\u001b[36m(pid=38219, ip=10.10.2.74)\u001b[0m 2021-05-17 12:26:26,777\tINFO trainer.py:696 -- Current log_level is ERROR. For more information, set 'log_level': 'INFO' / 'DEBUG' or use the -v and -vv flags.\n",
      "\u001b[2m\u001b[36m(pid=38188, ip=10.10.2.74)\u001b[0m 2021-05-17 12:26:26,830\tINFO trainer.py:696 -- Current log_level is ERROR. For more information, set 'log_level': 'INFO' / 'DEBUG' or use the -v and -vv flags.\n",
      "\u001b[2m\u001b[36m(pid=38137, ip=10.10.2.74)\u001b[0m 2021-05-17 12:26:26,839\tINFO trainer.py:696 -- Current log_level is ERROR. For more information, set 'log_level': 'INFO' / 'DEBUG' or use the -v and -vv flags.\n",
      "\u001b[2m\u001b[36m(pid=38197, ip=10.10.2.74)\u001b[0m 2021-05-17 12:26:26,860\tINFO trainer.py:696 -- Current log_level is ERROR. For more information, set 'log_level': 'INFO' / 'DEBUG' or use the -v and -vv flags.\n",
      "\u001b[2m\u001b[36m(pid=38278, ip=10.10.2.74)\u001b[0m 2021-05-17 12:26:26,878\tINFO trainer.py:696 -- Current log_level is ERROR. For more information, set 'log_level': 'INFO' / 'DEBUG' or use the -v and -vv flags.\n",
      "\u001b[2m\u001b[36m(pid=38280, ip=10.10.2.74)\u001b[0m 2021-05-17 12:26:26,851\tINFO trainer.py:696 -- Current log_level is ERROR. For more information, set 'log_level': 'INFO' / 'DEBUG' or use the -v and -vv flags.\n",
      "\u001b[2m\u001b[36m(pid=38263, ip=10.10.2.74)\u001b[0m 2021-05-17 12:26:26,912\tINFO trainer.py:696 -- Current log_level is ERROR. For more information, set 'log_level': 'INFO' / 'DEBUG' or use the -v and -vv flags.\n",
      "\u001b[2m\u001b[36m(pid=67775)\u001b[0m 2021-05-17 12:26:26,998\tINFO trainer.py:696 -- Current log_level is ERROR. For more information, set 'log_level': 'INFO' / 'DEBUG' or use the -v and -vv flags.\n",
      "\u001b[2m\u001b[36m(pid=67719)\u001b[0m 2021-05-17 12:26:27,007\tINFO trainer.py:696 -- Current log_level is ERROR. For more information, set 'log_level': 'INFO' / 'DEBUG' or use the -v and -vv flags.\n",
      "\u001b[2m\u001b[36m(pid=67866)\u001b[0m 2021-05-17 12:26:27,015\tINFO trainer.py:696 -- Current log_level is ERROR. For more information, set 'log_level': 'INFO' / 'DEBUG' or use the -v and -vv flags.\n",
      "\u001b[2m\u001b[36m(pid=67851)\u001b[0m 2021-05-17 12:26:26,986\tINFO trainer.py:696 -- Current log_level is ERROR. For more information, set 'log_level': 'INFO' / 'DEBUG' or use the -v and -vv flags.\n",
      "\u001b[2m\u001b[36m(pid=67903)\u001b[0m 2021-05-17 12:26:27,023\tINFO trainer.py:696 -- Current log_level is ERROR. For more information, set 'log_level': 'INFO' / 'DEBUG' or use the -v and -vv flags.\n",
      "\u001b[2m\u001b[36m(pid=67859)\u001b[0m 2021-05-17 12:26:27,016\tINFO trainer.py:696 -- Current log_level is ERROR. For more information, set 'log_level': 'INFO' / 'DEBUG' or use the -v and -vv flags.\n",
      "\u001b[2m\u001b[36m(pid=67875)\u001b[0m 2021-05-17 12:26:27,002\tINFO trainer.py:696 -- Current log_level is ERROR. For more information, set 'log_level': 'INFO' / 'DEBUG' or use the -v and -vv flags.\n",
      "\u001b[2m\u001b[36m(pid=67860)\u001b[0m 2021-05-17 12:26:27,095\tINFO trainer.py:696 -- Current log_level is ERROR. For more information, set 'log_level': 'INFO' / 'DEBUG' or use the -v and -vv flags.\n",
      "\u001b[2m\u001b[36m(pid=34632, ip=10.10.2.75)\u001b[0m 2021-05-17 12:26:27,091\tINFO trainer.py:696 -- Current log_level is ERROR. For more information, set 'log_level': 'INFO' / 'DEBUG' or use the -v and -vv flags.\n",
      "\u001b[2m\u001b[36m(pid=34757, ip=10.10.2.75)\u001b[0m 2021-05-17 12:26:27,114\tINFO trainer.py:696 -- Current log_level is ERROR. For more information, set 'log_level': 'INFO' / 'DEBUG' or use the -v and -vv flags.\n",
      "\u001b[2m\u001b[36m(pid=34806, ip=10.10.2.75)\u001b[0m 2021-05-17 12:26:27,123\tINFO trainer.py:696 -- Current log_level is ERROR. For more information, set 'log_level': 'INFO' / 'DEBUG' or use the -v and -vv flags.\n",
      "\u001b[2m\u001b[36m(pid=34769, ip=10.10.2.75)\u001b[0m 2021-05-17 12:26:27,123\tINFO trainer.py:696 -- Current log_level is ERROR. For more information, set 'log_level': 'INFO' / 'DEBUG' or use the -v and -vv flags.\n",
      "\u001b[2m\u001b[36m(pid=34751, ip=10.10.2.75)\u001b[0m 2021-05-17 12:26:27,146\tINFO trainer.py:696 -- Current log_level is ERROR. For more information, set 'log_level': 'INFO' / 'DEBUG' or use the -v and -vv flags.\n",
      "\u001b[2m\u001b[36m(pid=34739, ip=10.10.2.75)\u001b[0m 2021-05-17 12:26:27,154\tINFO trainer.py:696 -- Current log_level is ERROR. For more information, set 'log_level': 'INFO' / 'DEBUG' or use the -v and -vv flags.\n",
      "\u001b[2m\u001b[36m(pid=34786, ip=10.10.2.75)\u001b[0m 2021-05-17 12:26:27,166\tINFO trainer.py:696 -- Current log_level is ERROR. For more information, set 'log_level': 'INFO' / 'DEBUG' or use the -v and -vv flags.\n",
      "\u001b[2m\u001b[36m(pid=34787, ip=10.10.2.75)\u001b[0m 2021-05-17 12:26:27,151\tINFO trainer.py:696 -- Current log_level is ERROR. For more information, set 'log_level': 'INFO' / 'DEBUG' or use the -v and -vv flags.\n",
      "\u001b[2m\u001b[36m(pid=37320, ip=10.10.2.73)\u001b[0m 2021-05-17 12:26:27,304\tINFO trainer.py:696 -- Current log_level is ERROR. For more information, set 'log_level': 'INFO' / 'DEBUG' or use the -v and -vv flags.\n",
      "\u001b[2m\u001b[36m(pid=37341, ip=10.10.2.73)\u001b[0m 2021-05-17 12:26:27,293\tINFO trainer.py:696 -- Current log_level is ERROR. For more information, set 'log_level': 'INFO' / 'DEBUG' or use the -v and -vv flags.\n",
      "\u001b[2m\u001b[36m(pid=37327, ip=10.10.2.73)\u001b[0m 2021-05-17 12:26:27,300\tINFO trainer.py:696 -- Current log_level is ERROR. For more information, set 'log_level': 'INFO' / 'DEBUG' or use the -v and -vv flags.\n",
      "\u001b[2m\u001b[36m(pid=37400, ip=10.10.2.73)\u001b[0m 2021-05-17 12:26:27,325\tINFO trainer.py:696 -- Current log_level is ERROR. For more information, set 'log_level': 'INFO' / 'DEBUG' or use the -v and -vv flags.\n",
      "\u001b[2m\u001b[36m(pid=37452, ip=10.10.2.73)\u001b[0m 2021-05-17 12:26:27,350\tINFO trainer.py:696 -- Current log_level is ERROR. For more information, set 'log_level': 'INFO' / 'DEBUG' or use the -v and -vv flags.\n",
      "\u001b[2m\u001b[36m(pid=37393, ip=10.10.2.73)\u001b[0m 2021-05-17 12:26:27,402\tINFO trainer.py:696 -- Current log_level is ERROR. For more information, set 'log_level': 'INFO' / 'DEBUG' or use the -v and -vv flags.\n",
      "\u001b[2m\u001b[36m(pid=37421, ip=10.10.2.73)\u001b[0m 2021-05-17 12:26:27,362\tINFO trainer.py:696 -- Current log_level is ERROR. For more information, set 'log_level': 'INFO' / 'DEBUG' or use the -v and -vv flags.\n",
      "\u001b[2m\u001b[36m(pid=37461, ip=10.10.2.73)\u001b[0m 2021-05-17 12:26:27,439\tINFO trainer.py:696 -- Current log_level is ERROR. For more information, set 'log_level': 'INFO' / 'DEBUG' or use the -v and -vv flags.\n"
     ]
    },
    {
     "name": "stdout",
     "output_type": "stream",
     "text": [
      "\u001b[2m\u001b[36m(pid=35264)\u001b[0m <IPython.core.display.HTML object>\n",
      "\u001b[2m\u001b[36m(pid=35264)\u001b[0m <IPython.core.display.HTML object>\n",
      "\u001b[2m\u001b[36m(pid=35264)\u001b[0m <IPython.core.display.HTML object>\n"
     ]
    },
    {
     "name": "stderr",
     "output_type": "stream",
     "text": [
      "\u001b[2m\u001b[36m(pid=39482, ip=10.10.2.74)\u001b[0m 2021-05-17 12:27:05,611\tINFO trainer.py:696 -- Current log_level is ERROR. For more information, set 'log_level': 'INFO' / 'DEBUG' or use the -v and -vv flags.\n",
      "\u001b[2m\u001b[36m(pid=39484, ip=10.10.2.74)\u001b[0m 2021-05-17 12:27:05,634\tINFO trainer.py:696 -- Current log_level is ERROR. For more information, set 'log_level': 'INFO' / 'DEBUG' or use the -v and -vv flags.\n"
     ]
    },
    {
     "name": "stdout",
     "output_type": "stream",
     "text": [
      "\u001b[2m\u001b[36m(pid=35264)\u001b[0m <IPython.core.display.HTML object>\n"
     ]
    },
    {
     "name": "stderr",
     "output_type": "stream",
     "text": [
      "\u001b[2m\u001b[36m(pid=39518, ip=10.10.2.74)\u001b[0m 2021-05-17 12:27:05,995\tINFO trainer.py:696 -- Current log_level is ERROR. For more information, set 'log_level': 'INFO' / 'DEBUG' or use the -v and -vv flags.\n",
      "\u001b[2m\u001b[36m(pid=38673, ip=10.10.2.73)\u001b[0m 2021-05-17 12:27:06,049\tINFO trainer.py:696 -- Current log_level is ERROR. For more information, set 'log_level': 'INFO' / 'DEBUG' or use the -v and -vv flags.\n",
      "\u001b[2m\u001b[36m(pid=38692, ip=10.10.2.73)\u001b[0m 2021-05-17 12:27:06,297\tINFO trainer.py:696 -- Current log_level is ERROR. For more information, set 'log_level': 'INFO' / 'DEBUG' or use the -v and -vv flags.\n",
      "\u001b[2m\u001b[36m(pid=38690, ip=10.10.2.73)\u001b[0m 2021-05-17 12:27:06,317\tINFO trainer.py:696 -- Current log_level is ERROR. For more information, set 'log_level': 'INFO' / 'DEBUG' or use the -v and -vv flags.\n",
      "\u001b[2m\u001b[36m(pid=38705, ip=10.10.2.73)\u001b[0m 2021-05-17 12:27:06,569\tINFO trainer.py:696 -- Current log_level is ERROR. For more information, set 'log_level': 'INFO' / 'DEBUG' or use the -v and -vv flags.\n",
      "\u001b[2m\u001b[36m(pid=36059, ip=10.10.2.75)\u001b[0m 2021-05-17 12:27:07,965\tINFO trainer.py:696 -- Current log_level is ERROR. For more information, set 'log_level': 'INFO' / 'DEBUG' or use the -v and -vv flags.\n",
      "\u001b[2m\u001b[36m(pid=36062, ip=10.10.2.75)\u001b[0m 2021-05-17 12:27:07,947\tINFO trainer.py:696 -- Current log_level is ERROR. For more information, set 'log_level': 'INFO' / 'DEBUG' or use the -v and -vv flags.\n",
      "\u001b[2m\u001b[36m(pid=36064, ip=10.10.2.75)\u001b[0m 2021-05-17 12:27:07,975\tINFO trainer.py:696 -- Current log_level is ERROR. For more information, set 'log_level': 'INFO' / 'DEBUG' or use the -v and -vv flags.\n",
      "\u001b[2m\u001b[36m(pid=70015)\u001b[0m 2021-05-17 12:27:08,627\tINFO trainer.py:696 -- Current log_level is ERROR. For more information, set 'log_level': 'INFO' / 'DEBUG' or use the -v and -vv flags.\n",
      "\u001b[2m\u001b[36m(pid=70017)\u001b[0m 2021-05-17 12:27:08,655\tINFO trainer.py:696 -- Current log_level is ERROR. For more information, set 'log_level': 'INFO' / 'DEBUG' or use the -v and -vv flags.\n",
      "\u001b[2m\u001b[36m(pid=70083)\u001b[0m 2021-05-17 12:27:09,081\tINFO trainer.py:696 -- Current log_level is ERROR. For more information, set 'log_level': 'INFO' / 'DEBUG' or use the -v and -vv flags.\n"
     ]
    },
    {
     "name": "stdout",
     "output_type": "stream",
     "text": [
      "\u001b[2m\u001b[36m(pid=35264)\u001b[0m <IPython.core.display.HTML object>\n"
     ]
    },
    {
     "name": "stderr",
     "output_type": "stream",
     "text": [
      "\u001b[2m\u001b[36m(pid=40505, ip=10.10.2.74)\u001b[0m 2021-05-17 12:27:20,178\tINFO trainer.py:696 -- Current log_level is ERROR. For more information, set 'log_level': 'INFO' / 'DEBUG' or use the -v and -vv flags.\n",
      "\u001b[2m\u001b[36m(pid=40509, ip=10.10.2.74)\u001b[0m 2021-05-17 12:27:20,218\tINFO trainer.py:696 -- Current log_level is ERROR. For more information, set 'log_level': 'INFO' / 'DEBUG' or use the -v and -vv flags.\n",
      "\u001b[2m\u001b[36m(pid=40510, ip=10.10.2.74)\u001b[0m 2021-05-17 12:27:20,251\tINFO trainer.py:696 -- Current log_level is ERROR. For more information, set 'log_level': 'INFO' / 'DEBUG' or use the -v and -vv flags.\n",
      "\u001b[2m\u001b[36m(pid=40528, ip=10.10.2.74)\u001b[0m 2021-05-17 12:27:20,427\tINFO trainer.py:696 -- Current log_level is ERROR. For more information, set 'log_level': 'INFO' / 'DEBUG' or use the -v and -vv flags.\n",
      "\u001b[2m\u001b[36m(pid=40564, ip=10.10.2.74)\u001b[0m 2021-05-17 12:27:20,650\tINFO trainer.py:696 -- Current log_level is ERROR. For more information, set 'log_level': 'INFO' / 'DEBUG' or use the -v and -vv flags.\n",
      "\u001b[2m\u001b[36m(pid=40574, ip=10.10.2.74)\u001b[0m 2021-05-17 12:27:20,665\tINFO trainer.py:696 -- Current log_level is ERROR. For more information, set 'log_level': 'INFO' / 'DEBUG' or use the -v and -vv flags.\n",
      "\u001b[2m\u001b[36m(pid=40578, ip=10.10.2.74)\u001b[0m 2021-05-17 12:27:20,684\tINFO trainer.py:696 -- Current log_level is ERROR. For more information, set 'log_level': 'INFO' / 'DEBUG' or use the -v and -vv flags.\n",
      "\u001b[2m\u001b[36m(pid=40611, ip=10.10.2.74)\u001b[0m 2021-05-17 12:27:20,818\tINFO trainer.py:696 -- Current log_level is ERROR. For more information, set 'log_level': 'INFO' / 'DEBUG' or use the -v and -vv flags.\n",
      "\u001b[2m\u001b[36m(pid=40686, ip=10.10.2.74)\u001b[0m 2021-05-17 12:27:21,079\tINFO trainer.py:696 -- Current log_level is ERROR. For more information, set 'log_level': 'INFO' / 'DEBUG' or use the -v and -vv flags.\n",
      "\u001b[2m\u001b[36m(pid=37081, ip=10.10.2.75)\u001b[0m 2021-05-17 12:27:21,309\tINFO trainer.py:696 -- Current log_level is ERROR. For more information, set 'log_level': 'INFO' / 'DEBUG' or use the -v and -vv flags.\n",
      "\u001b[2m\u001b[36m(pid=37086, ip=10.10.2.75)\u001b[0m 2021-05-17 12:27:21,334\tINFO trainer.py:696 -- Current log_level is ERROR. For more information, set 'log_level': 'INFO' / 'DEBUG' or use the -v and -vv flags.\n",
      "\u001b[2m\u001b[36m(pid=37087, ip=10.10.2.75)\u001b[0m 2021-05-17 12:27:21,389\tINFO trainer.py:696 -- Current log_level is ERROR. For more information, set 'log_level': 'INFO' / 'DEBUG' or use the -v and -vv flags.\n",
      "\u001b[2m\u001b[36m(pid=39603, ip=10.10.2.73)\u001b[0m 2021-05-17 12:27:21,412\tINFO trainer.py:696 -- Current log_level is ERROR. For more information, set 'log_level': 'INFO' / 'DEBUG' or use the -v and -vv flags.\n",
      "\u001b[2m\u001b[36m(pid=39602, ip=10.10.2.73)\u001b[0m 2021-05-17 12:27:21,418\tINFO trainer.py:696 -- Current log_level is ERROR. For more information, set 'log_level': 'INFO' / 'DEBUG' or use the -v and -vv flags.\n",
      "\u001b[2m\u001b[36m(pid=39605, ip=10.10.2.73)\u001b[0m 2021-05-17 12:27:21,430\tINFO trainer.py:696 -- Current log_level is ERROR. For more information, set 'log_level': 'INFO' / 'DEBUG' or use the -v and -vv flags.\n",
      "\u001b[2m\u001b[36m(pid=37109, ip=10.10.2.75)\u001b[0m 2021-05-17 12:27:21,598\tINFO trainer.py:696 -- Current log_level is ERROR. For more information, set 'log_level': 'INFO' / 'DEBUG' or use the -v and -vv flags.\n",
      "\u001b[2m\u001b[36m(pid=39633, ip=10.10.2.73)\u001b[0m 2021-05-17 12:27:21,674\tINFO trainer.py:696 -- Current log_level is ERROR. For more information, set 'log_level': 'INFO' / 'DEBUG' or use the -v and -vv flags.\n",
      "\u001b[2m\u001b[36m(pid=39632, ip=10.10.2.73)\u001b[0m 2021-05-17 12:27:21,734\tINFO trainer.py:696 -- Current log_level is ERROR. For more information, set 'log_level': 'INFO' / 'DEBUG' or use the -v and -vv flags.\n",
      "\u001b[2m\u001b[36m(pid=37129, ip=10.10.2.75)\u001b[0m 2021-05-17 12:27:21,898\tINFO trainer.py:696 -- Current log_level is ERROR. For more information, set 'log_level': 'INFO' / 'DEBUG' or use the -v and -vv flags.\n",
      "\u001b[2m\u001b[36m(pid=37128, ip=10.10.2.75)\u001b[0m 2021-05-17 12:27:21,928\tINFO trainer.py:696 -- Current log_level is ERROR. For more information, set 'log_level': 'INFO' / 'DEBUG' or use the -v and -vv flags.\n",
      "\u001b[2m\u001b[36m(pid=37158, ip=10.10.2.75)\u001b[0m 2021-05-17 12:27:22,053\tINFO trainer.py:696 -- Current log_level is ERROR. For more information, set 'log_level': 'INFO' / 'DEBUG' or use the -v and -vv flags.\n",
      "\u001b[2m\u001b[36m(pid=37163, ip=10.10.2.75)\u001b[0m 2021-05-17 12:27:22,051\tINFO trainer.py:696 -- Current log_level is ERROR. For more information, set 'log_level': 'INFO' / 'DEBUG' or use the -v and -vv flags.\n",
      "\u001b[2m\u001b[36m(pid=39688, ip=10.10.2.73)\u001b[0m 2021-05-17 12:27:22,144\tINFO trainer.py:696 -- Current log_level is ERROR. For more information, set 'log_level': 'INFO' / 'DEBUG' or use the -v and -vv flags.\n",
      "\u001b[2m\u001b[36m(pid=39687, ip=10.10.2.73)\u001b[0m 2021-05-17 12:27:22,148\tINFO trainer.py:696 -- Current log_level is ERROR. For more information, set 'log_level': 'INFO' / 'DEBUG' or use the -v and -vv flags.\n",
      "\u001b[2m\u001b[36m(pid=39689, ip=10.10.2.73)\u001b[0m 2021-05-17 12:27:22,139\tINFO trainer.py:696 -- Current log_level is ERROR. For more information, set 'log_level': 'INFO' / 'DEBUG' or use the -v and -vv flags.\n"
     ]
    },
    {
     "name": "stdout",
     "output_type": "stream",
     "text": [
      "\u001b[2m\u001b[36m(pid=35264)\u001b[0m <IPython.core.display.HTML object>\n"
     ]
    },
    {
     "name": "stderr",
     "output_type": "stream",
     "text": [
      "\u001b[2m\u001b[36m(pid=71868)\u001b[0m 2021-05-17 12:27:25,443\tINFO trainer.py:696 -- Current log_level is ERROR. For more information, set 'log_level': 'INFO' / 'DEBUG' or use the -v and -vv flags.\n",
      "\u001b[2m\u001b[36m(pid=71870)\u001b[0m 2021-05-17 12:27:25,703\tINFO trainer.py:696 -- Current log_level is ERROR. For more information, set 'log_level': 'INFO' / 'DEBUG' or use the -v and -vv flags.\n",
      "\u001b[2m\u001b[36m(pid=71942)\u001b[0m 2021-05-17 12:27:26,957\tINFO trainer.py:696 -- Current log_level is ERROR. For more information, set 'log_level': 'INFO' / 'DEBUG' or use the -v and -vv flags.\n",
      "\u001b[2m\u001b[36m(pid=71941)\u001b[0m 2021-05-17 12:27:28,586\tINFO trainer.py:696 -- Current log_level is ERROR. For more information, set 'log_level': 'INFO' / 'DEBUG' or use the -v and -vv flags.\n",
      "\u001b[2m\u001b[36m(pid=71938)\u001b[0m 2021-05-17 12:27:28,589\tINFO trainer.py:696 -- Current log_level is ERROR. For more information, set 'log_level': 'INFO' / 'DEBUG' or use the -v and -vv flags.\n",
      "\u001b[2m\u001b[36m(pid=72027)\u001b[0m 2021-05-17 12:27:28,626\tINFO trainer.py:696 -- Current log_level is ERROR. For more information, set 'log_level': 'INFO' / 'DEBUG' or use the -v and -vv flags.\n"
     ]
    },
    {
     "name": "stdout",
     "output_type": "stream",
     "text": [
      "\u001b[2m\u001b[36m(pid=35264)\u001b[0m <IPython.core.display.HTML object>\n"
     ]
    },
    {
     "name": "stderr",
     "output_type": "stream",
     "text": [
      "\u001b[2m\u001b[36m(pid=72771)\u001b[0m 2021-05-17 12:27:30,320\tINFO trainer.py:696 -- Current log_level is ERROR. For more information, set 'log_level': 'INFO' / 'DEBUG' or use the -v and -vv flags.\n",
      "\u001b[2m\u001b[36m(pid=72772)\u001b[0m 2021-05-17 12:27:30,333\tINFO trainer.py:696 -- Current log_level is ERROR. For more information, set 'log_level': 'INFO' / 'DEBUG' or use the -v and -vv flags.\n",
      "\u001b[2m\u001b[36m(pid=72773)\u001b[0m 2021-05-17 12:27:30,383\tINFO trainer.py:696 -- Current log_level is ERROR. For more information, set 'log_level': 'INFO' / 'DEBUG' or use the -v and -vv flags.\n",
      "\u001b[2m\u001b[36m(pid=38119, ip=10.10.2.75)\u001b[0m 2021-05-17 12:27:36,625\tINFO trainer.py:696 -- Current log_level is ERROR. For more information, set 'log_level': 'INFO' / 'DEBUG' or use the -v and -vv flags.\n"
     ]
    },
    {
     "name": "stdout",
     "output_type": "stream",
     "text": [
      "\u001b[2m\u001b[36m(pid=35264)\u001b[0m <IPython.core.display.HTML object>\n",
      "\u001b[2m\u001b[36m(pid=35264)\u001b[0m <IPython.core.display.HTML object>\n",
      "\u001b[2m\u001b[36m(pid=35264)\u001b[0m <IPython.core.display.HTML object>\n"
     ]
    },
    {
     "name": "stderr",
     "output_type": "stream",
     "text": [
      "\u001b[2m\u001b[36m(pid=38975, ip=10.10.2.75)\u001b[0m 2021-05-17 12:27:49,432\tINFO trainer.py:696 -- Current log_level is ERROR. For more information, set 'log_level': 'INFO' / 'DEBUG' or use the -v and -vv flags.\n",
      "\u001b[2m\u001b[36m(pid=35264)\u001b[0m 2021-05-17 12:27:52,894\tWARNING util.py:162 -- The `callbacks.on_trial_result` operation took 0.732 s, which may be a performance bottleneck.\n",
      "\u001b[2m\u001b[36m(pid=35264)\u001b[0m 2021-05-17 12:27:52,898\tWARNING util.py:162 -- The `process_trial_result` operation took 0.738 s, which may be a performance bottleneck.\n",
      "\u001b[2m\u001b[36m(pid=35264)\u001b[0m 2021-05-17 12:27:52,898\tWARNING util.py:162 -- Processing trial results took 0.738 s, which may be a performance bottleneck. Please consider reporting results less frequently to Ray Tune.\n",
      "\u001b[2m\u001b[36m(pid=35264)\u001b[0m 2021-05-17 12:27:52,898\tWARNING util.py:162 -- The `process_trial` operation took 0.739 s, which may be a performance bottleneck.\n"
     ]
    },
    {
     "name": "stdout",
     "output_type": "stream",
     "text": [
      "\u001b[2m\u001b[36m(pid=35264)\u001b[0m <IPython.core.display.HTML object>\n",
      "\u001b[2m\u001b[36m(pid=35264)\u001b[0m <IPython.core.display.HTML object>\n"
     ]
    },
    {
     "name": "stderr",
     "output_type": "stream",
     "text": [
      "\u001b[2m\u001b[36m(pid=42704, ip=10.10.2.74)\u001b[0m 2021-05-17 12:27:59,588\tINFO trainer.py:696 -- Current log_level is ERROR. For more information, set 'log_level': 'INFO' / 'DEBUG' or use the -v and -vv flags.\n",
      "\u001b[2m\u001b[36m(pid=42705, ip=10.10.2.74)\u001b[0m 2021-05-17 12:27:59,562\tINFO trainer.py:696 -- Current log_level is ERROR. For more information, set 'log_level': 'INFO' / 'DEBUG' or use the -v and -vv flags.\n",
      "\u001b[2m\u001b[36m(pid=40991, ip=10.10.2.73)\u001b[0m 2021-05-17 12:28:00,574\tINFO trainer.py:696 -- Current log_level is ERROR. For more information, set 'log_level': 'INFO' / 'DEBUG' or use the -v and -vv flags.\n"
     ]
    },
    {
     "name": "stdout",
     "output_type": "stream",
     "text": [
      "\u001b[2m\u001b[36m(pid=35264)\u001b[0m <IPython.core.display.HTML object>\n",
      "\u001b[2m\u001b[36m(pid=35264)\u001b[0m <IPython.core.display.HTML object>\n",
      "\u001b[2m\u001b[36m(pid=35264)\u001b[0m <IPython.core.display.HTML object>\n",
      "\u001b[2m\u001b[36m(pid=35264)\u001b[0m <IPython.core.display.HTML object>\n",
      "\u001b[2m\u001b[36m(pid=35264)\u001b[0m <IPython.core.display.HTML object>\n",
      "\u001b[2m\u001b[36m(pid=35264)\u001b[0m <IPython.core.display.HTML object>\n",
      "\u001b[2m\u001b[36m(pid=35264)\u001b[0m <IPython.core.display.HTML object>\n",
      "\u001b[2m\u001b[36m(pid=35264)\u001b[0m <IPython.core.display.HTML object>\n"
     ]
    },
    {
     "name": "stderr",
     "output_type": "stream",
     "text": [
      "\u001b[2m\u001b[36m(pid=35264)\u001b[0m 2021-05-17 12:28:44,158\tINFO tune.py:549 -- Total run time: 144.96 seconds (144.14 seconds for the tuning loop).\n"
     ]
    },
    {
     "name": "stdout",
     "output_type": "stream",
     "text": [
      "<ray.tune.analysis.experiment_analysis.ExperimentAnalysis object at 0x7fd06f0b2050>\n"
     ]
    }
   ],
   "source": [
    "import ray\n",
    "from ray import tune\n",
    "import ray.util\n",
    "import time\n",
    "import numpy as np\n",
    "import argparse\n",
    "import os\n",
    "from ray.tune.progress_reporter import JupyterNotebookReporter\n",
    "\n",
    "if not connected:\n",
    "    connected = True\n",
    "    ray.util.connect(cluster.head_model.address +\":10001\")\n",
    "    print(\"connected\")\n",
    "#ray.init(address=args.ray_address, _redis_password=args.redis_password)\n",
    "\n",
    "reporter = JupyterNotebookReporter(overwrite=False)\n",
    "\n",
    "tune.run(\n",
    "    \"PPO\",\n",
    "    stop={\"episode_reward_max\": 200},\n",
    "    config={\n",
    "        \"framework\": \"torch\",\n",
    "        \"env\": \"CartPole-v0\",\n",
    "        \"num_gpus\": 0,\n",
    "        \"lr\": tune.grid_search(np.linspace (0.001, 0.01, 100).tolist()),\n",
    "        \"log_level\": \"ERROR\",\n",
    "        \"num_cpus_per_worker\": 1,\n",
    "        \"num_cpus_for_driver\": 1,\n",
    "    },\n",
    "    local_dir=\"/lus/scratch/arigazzi/ray_local/\",\n",
    "    verbose=1,\n",
    "    fail_fast=True,\n",
    "    progress_reporter = reporter,\n",
    "    log_to_file=True,\n",
    ")"
   ]
  },
  {
   "cell_type": "code",
   "execution_count": 4,
   "id": "8a0e16b1",
   "metadata": {},
   "outputs": [],
   "source": [
    "connected=False"
   ]
  },
  {
   "cell_type": "code",
   "execution_count": 7,
   "id": "4ab417e5-d6fc-478b-9fd8-6116f440defb",
   "metadata": {},
   "outputs": [],
   "source": [
    "from IPython.display import display, HTML"
   ]
  },
  {
   "cell_type": "code",
   "execution_count": null,
   "id": "89ad1c9b-b4f2-4f69-87c9-d2c9f0c7f316",
   "metadata": {},
   "outputs": [],
   "source": []
  }
 ],
 "metadata": {
  "kernelspec": {
   "display_name": "smartsim",
   "language": "python",
   "name": "smartsim"
  },
  "language_info": {
   "codemirror_mode": {
    "name": "ipython",
    "version": 3
   },
   "file_extension": ".py",
   "mimetype": "text/x-python",
   "name": "python",
   "nbconvert_exporter": "python",
   "pygments_lexer": "ipython3",
   "version": "3.7.10"
  }
 },
 "nbformat": 4,
 "nbformat_minor": 5
}
