{
 "cells": [
  {
   "cell_type": "markdown",
   "id": "c4b25b57",
   "metadata": {},
   "source": [
    "# Setting up a Ray cluster with SmartSim\n",
    "\n",
    "In this notebook we will see how to set up a Ray cluster on a system using SLURM as workload manager (WLM).\n",
    "\n",
    "This notebook is based on [this github repo by NERSC](https://github.com/NERSC/slurm-ray-cluster/blob/master/submit-ray-cluster.sbatch) and on [this stack overflow post](https://github.com/ray-project/ray/issues/826#issuecomment-522116599).\n",
    "\n",
    "We will have to do four steps:\n",
    "1. Start the head node\n",
    "2. Start the workers\n",
    "3. Run a test workload\n",
    "4. Stop all nodes"
   ]
  },
  {
   "cell_type": "markdown",
   "id": "82922361",
   "metadata": {},
   "source": [
    "## 1. Start the head node\n",
    "We set up a SmartSim experiment, which will handle the launch of the ray head node."
   ]
  },
  {
   "cell_type": "code",
   "execution_count": 1,
   "id": "3a62c6db",
   "metadata": {},
   "outputs": [],
   "source": [
    "import os\n",
    "from smartsim import Experiment\n",
    "from smartsim.settings import SbatchSettings, SrunSettings, RunSettings\n",
    "from smartsim.ray import RayCluster\n",
    "import time\n",
    "import uuid\n",
    "import re"
   ]
  },
  {
   "cell_type": "code",
   "execution_count": 2,
   "id": "4aae9c48-1e2b-495c-bedf-867f21babcfb",
   "metadata": {},
   "outputs": [
    {
     "name": "stdout",
     "output_type": "stream",
     "text": [
      "16:54:28 osprey.us.cray.com SmartSim[36185] INFO /lus/sonexion/arigazzi/smartsim-dev/SmartSim/smartsim/ray/rayserverstarter.py --ray-num-cpus=12 --ray-port=6780 --ray-password=6462a2f1-fecf-47b3-bb3a-f0d4c420216c --zmq-port=6788\n"
     ]
    }
   ],
   "source": [
    "# The experiment is local because we are on a compute node\n",
    "exp = Experiment(\"ray-cluster\", launcher='slurm')\n",
    "\n",
    "cluster = RayCluster(name=\"ray-cluster\", path='./RAYCLUSTER', launcher='slurm')"
   ]
  },
  {
   "cell_type": "code",
   "execution_count": 3,
   "id": "7905fa69-f14b-441d-b516-74074a784c43",
   "metadata": {},
   "outputs": [
    {
     "name": "stdout",
     "output_type": "stream",
     "text": [
      "16:54:29 osprey.us.cray.com SmartSim[36185] INFO Working in previously created experiment\n",
      "16:54:35 osprey.us.cray.com SmartSim[36185] INFO ray-cluster(227845): New\n",
      "16:54:40 osprey.us.cray.com SmartSim[36185] INFO ray-cluster(227845): New\n",
      "16:54:46 osprey.us.cray.com SmartSim[36185] INFO ray-cluster(227845): Running\n",
      "16:54:51 osprey.us.cray.com SmartSim[36185] INFO ray-cluster(227845): Running\n",
      "16:54:56 osprey.us.cray.com SmartSim[36185] INFO ray-cluster(227845): Running\n",
      "16:55:01 osprey.us.cray.com SmartSim[36185] INFO ray-cluster(227845): Running\n",
      "16:55:06 osprey.us.cray.com SmartSim[36185] INFO ray-cluster(227845): Running\n",
      "16:55:11 osprey.us.cray.com SmartSim[36185] INFO ray-cluster(227845): Running\n",
      "16:55:16 osprey.us.cray.com SmartSim[36185] INFO ray-cluster(227845): Running\n",
      "16:55:21 osprey.us.cray.com SmartSim[36185] INFO ray-cluster(227845): Running\n",
      "16:55:26 osprey.us.cray.com SmartSim[36185] INFO ray-cluster(227845): Running\n",
      "16:55:31 osprey.us.cray.com SmartSim[36185] INFO ray-cluster(227845): Running\n",
      "16:55:36 osprey.us.cray.com SmartSim[36185] INFO ray-cluster(227845): Running\n",
      "16:55:41 osprey.us.cray.com SmartSim[36185] INFO ray-cluster(227845): Running\n",
      "16:55:46 osprey.us.cray.com SmartSim[36185] INFO ray-cluster(227845): Running\n",
      "16:55:51 osprey.us.cray.com SmartSim[36185] INFO ray-cluster(227845): Running\n",
      "16:55:56 osprey.us.cray.com SmartSim[36185] INFO ray-cluster(227845): Running\n",
      "16:56:01 osprey.us.cray.com SmartSim[36185] INFO ray-cluster(227845): Running\n",
      "16:56:06 osprey.us.cray.com SmartSim[36185] INFO ray-cluster(227845): Running\n",
      "16:56:11 osprey.us.cray.com SmartSim[36185] INFO ray-cluster(227845): Running\n",
      "16:56:16 osprey.us.cray.com SmartSim[36185] INFO ray-cluster(227845): Running\n",
      "16:56:21 osprey.us.cray.com SmartSim[36185] INFO ray-cluster(227845): Running\n",
      "16:56:26 osprey.us.cray.com SmartSim[36185] INFO ray-cluster(227845): Running\n",
      "16:56:31 osprey.us.cray.com SmartSim[36185] INFO ray-cluster(227845): Running\n",
      "16:56:36 osprey.us.cray.com SmartSim[36185] INFO ray-cluster(227845): Running\n",
      "16:56:41 osprey.us.cray.com SmartSim[36185] INFO ray-cluster(227845): Running\n",
      "16:56:46 osprey.us.cray.com SmartSim[36185] INFO ray-cluster(227845): Running\n",
      "16:56:51 osprey.us.cray.com SmartSim[36185] INFO ray-cluster(227845): Running\n",
      "16:56:56 osprey.us.cray.com SmartSim[36185] INFO ray-cluster(227845): Running\n",
      "16:57:01 osprey.us.cray.com SmartSim[36185] INFO ray-cluster(227845): Running\n",
      "16:57:06 osprey.us.cray.com SmartSim[36185] INFO ray-cluster(227845): Running\n",
      "16:57:11 osprey.us.cray.com SmartSim[36185] INFO ray-cluster(227845): Running\n",
      "16:57:16 osprey.us.cray.com SmartSim[36185] INFO ray-cluster(227845): Running\n",
      "16:57:21 osprey.us.cray.com SmartSim[36185] INFO ray-cluster(227845): Running\n",
      "16:57:26 osprey.us.cray.com SmartSim[36185] INFO ray-cluster(227845): Running\n",
      "16:57:31 osprey.us.cray.com SmartSim[36185] INFO ray-cluster(227845): Running\n",
      "16:57:36 osprey.us.cray.com SmartSim[36185] INFO ray-cluster(227845): Running\n",
      "16:57:41 osprey.us.cray.com SmartSim[36185] INFO ray-cluster(227845): Running\n",
      "16:57:46 osprey.us.cray.com SmartSim[36185] INFO ray-cluster(227845): Running\n",
      "16:57:51 osprey.us.cray.com SmartSim[36185] INFO ray-cluster(227845): Running\n",
      "16:57:56 osprey.us.cray.com SmartSim[36185] INFO ray-cluster(227845): Running\n",
      "16:58:01 osprey.us.cray.com SmartSim[36185] INFO ray-cluster(227845): Running\n",
      "16:58:06 osprey.us.cray.com SmartSim[36185] INFO ray-cluster(227845): Running\n",
      "16:58:11 osprey.us.cray.com SmartSim[36185] INFO ray-cluster(227845): Running\n",
      "16:58:16 osprey.us.cray.com SmartSim[36185] INFO ray-cluster(227845): Running\n",
      "16:58:21 osprey.us.cray.com SmartSim[36185] INFO ray-cluster(227845): Running\n",
      "16:58:26 osprey.us.cray.com SmartSim[36185] INFO ray-cluster(227845): Running\n",
      "16:58:31 osprey.us.cray.com SmartSim[36185] INFO ray-cluster(227845): Running\n",
      "16:58:36 osprey.us.cray.com SmartSim[36185] INFO ray-cluster(227845): Running\n",
      "16:58:41 osprey.us.cray.com SmartSim[36185] INFO ray-cluster(227845): Running\n",
      "16:58:46 osprey.us.cray.com SmartSim[36185] INFO ray-cluster(227845): Running\n",
      "16:58:51 osprey.us.cray.com SmartSim[36185] INFO ray-cluster(227845): Running\n",
      "16:58:56 osprey.us.cray.com SmartSim[36185] INFO ray-cluster(227845): Running\n",
      "16:59:01 osprey.us.cray.com SmartSim[36185] INFO ray-cluster(227845): Running\n",
      "16:59:06 osprey.us.cray.com SmartSim[36185] INFO ray-cluster(227845): Running\n",
      "16:59:11 osprey.us.cray.com SmartSim[36185] INFO ray-cluster(227845): Running\n",
      "16:59:16 osprey.us.cray.com SmartSim[36185] INFO ray-cluster(227845): Running\n",
      "16:59:21 osprey.us.cray.com SmartSim[36185] INFO ray-cluster(227845): Running\n",
      "16:59:26 osprey.us.cray.com SmartSim[36185] INFO ray-cluster(227845): Running\n",
      "16:59:31 osprey.us.cray.com SmartSim[36185] INFO ray-cluster(227845): Running\n",
      "16:59:36 osprey.us.cray.com SmartSim[36185] INFO ray-cluster(227845): Running\n",
      "16:59:41 osprey.us.cray.com SmartSim[36185] INFO ray-cluster(227845): Running\n",
      "16:59:46 osprey.us.cray.com SmartSim[36185] INFO ray-cluster(227845): Running\n",
      "16:59:51 osprey.us.cray.com SmartSim[36185] INFO ray-cluster(227845): Running\n",
      "16:59:56 osprey.us.cray.com SmartSim[36185] INFO ray-cluster(227845): Running\n",
      "17:00:01 osprey.us.cray.com SmartSim[36185] INFO ray-cluster(227845): Running\n",
      "17:00:06 osprey.us.cray.com SmartSim[36185] INFO ray-cluster(227845): Running\n",
      "17:00:11 osprey.us.cray.com SmartSim[36185] INFO ray-cluster(227845): Running\n",
      "17:00:16 osprey.us.cray.com SmartSim[36185] INFO ray-cluster(227845): Running\n",
      "17:00:21 osprey.us.cray.com SmartSim[36185] INFO ray-cluster(227845): Running\n",
      "17:00:26 osprey.us.cray.com SmartSim[36185] INFO ray-cluster(227845): Running\n",
      "17:00:31 osprey.us.cray.com SmartSim[36185] INFO ray-cluster(227845): Running\n",
      "17:00:36 osprey.us.cray.com SmartSim[36185] INFO ray-cluster(227845): Running\n",
      "17:00:41 osprey.us.cray.com SmartSim[36185] INFO ray-cluster(227845): Running\n",
      "17:00:46 osprey.us.cray.com SmartSim[36185] INFO ray-cluster(227845): Running\n",
      "17:00:51 osprey.us.cray.com SmartSim[36185] INFO ray-cluster(227845): Running\n",
      "17:00:56 osprey.us.cray.com SmartSim[36185] INFO ray-cluster(227845): Running\n",
      "17:01:01 osprey.us.cray.com SmartSim[36185] INFO ray-cluster(227845): Running\n",
      "17:01:06 osprey.us.cray.com SmartSim[36185] INFO ray-cluster(227845): Running\n",
      "17:01:11 osprey.us.cray.com SmartSim[36185] INFO ray-cluster(227845): Running\n",
      "17:01:16 osprey.us.cray.com SmartSim[36185] INFO ray-cluster(227845): Running\n",
      "17:01:21 osprey.us.cray.com SmartSim[36185] INFO ray-cluster(227845): Running\n",
      "17:01:27 osprey.us.cray.com SmartSim[36185] INFO ray-cluster(227845): Running\n",
      "17:01:32 osprey.us.cray.com SmartSim[36185] INFO ray-cluster(227845): Running\n",
      "17:01:37 osprey.us.cray.com SmartSim[36185] INFO ray-cluster(227845): Running\n",
      "17:01:42 osprey.us.cray.com SmartSim[36185] INFO ray-cluster(227845): Running\n",
      "17:01:47 osprey.us.cray.com SmartSim[36185] INFO ray-cluster(227845): Running\n",
      "17:01:52 osprey.us.cray.com SmartSim[36185] INFO ray-cluster(227845): Running\n",
      "17:01:57 osprey.us.cray.com SmartSim[36185] INFO ray-cluster(227845): Running\n",
      "17:02:02 osprey.us.cray.com SmartSim[36185] INFO ray-cluster(227845): Running\n",
      "17:02:07 osprey.us.cray.com SmartSim[36185] INFO ray-cluster(227845): Running\n",
      "17:02:12 osprey.us.cray.com SmartSim[36185] INFO ray-cluster(227845): Running\n",
      "17:02:17 osprey.us.cray.com SmartSim[36185] INFO ray-cluster(227845): Running\n",
      "17:02:22 osprey.us.cray.com SmartSim[36185] INFO ray-cluster(227845): Running\n",
      "17:02:27 osprey.us.cray.com SmartSim[36185] INFO ray-cluster(227845): Running\n",
      "17:02:32 osprey.us.cray.com SmartSim[36185] INFO ray-cluster(227845): Running\n",
      "17:02:37 osprey.us.cray.com SmartSim[36185] INFO ray-cluster(227845): Running\n",
      "17:02:42 osprey.us.cray.com SmartSim[36185] INFO ray-cluster(227845): Running\n",
      "17:02:47 osprey.us.cray.com SmartSim[36185] INFO ray-cluster(227845): Running\n",
      "17:02:52 osprey.us.cray.com SmartSim[36185] INFO ray-cluster(227845): Running\n",
      "17:02:57 osprey.us.cray.com SmartSim[36185] INFO ray-cluster(227845): Running\n",
      "17:03:02 osprey.us.cray.com SmartSim[36185] INFO ray-cluster(227845): Running\n",
      "17:03:07 osprey.us.cray.com SmartSim[36185] INFO ray-cluster(227845): Running\n",
      "17:03:12 osprey.us.cray.com SmartSim[36185] INFO ray-cluster(227845): Running\n",
      "17:03:17 osprey.us.cray.com SmartSim[36185] INFO ray-cluster(227845): Running\n",
      "17:03:22 osprey.us.cray.com SmartSim[36185] INFO ray-cluster(227845): Running\n",
      "17:03:27 osprey.us.cray.com SmartSim[36185] INFO ray-cluster(227845): Running\n",
      "17:03:32 osprey.us.cray.com SmartSim[36185] INFO ray-cluster(227845): Running\n",
      "17:03:37 osprey.us.cray.com SmartSim[36185] INFO ray-cluster(227845): Running\n",
      "17:03:42 osprey.us.cray.com SmartSim[36185] INFO ray-cluster(227845): Running\n",
      "17:03:47 osprey.us.cray.com SmartSim[36185] INFO ray-cluster(227845): Running\n",
      "17:03:52 osprey.us.cray.com SmartSim[36185] INFO ray-cluster(227845): Running\n",
      "17:03:57 osprey.us.cray.com SmartSim[36185] INFO ray-cluster(227845): Running\n",
      "17:04:02 osprey.us.cray.com SmartSim[36185] INFO ray-cluster(227845): Running\n",
      "17:04:07 osprey.us.cray.com SmartSim[36185] INFO ray-cluster(227845): Running\n",
      "17:04:12 osprey.us.cray.com SmartSim[36185] INFO ray-cluster(227845): Running\n",
      "17:04:17 osprey.us.cray.com SmartSim[36185] INFO ray-cluster(227845): Running\n",
      "17:04:22 osprey.us.cray.com SmartSim[36185] INFO ray-cluster(227845): Running\n",
      "17:04:27 osprey.us.cray.com SmartSim[36185] INFO ray-cluster(227845): Running\n",
      "17:04:32 osprey.us.cray.com SmartSim[36185] INFO ray-cluster(227845): Running\n",
      "17:04:37 osprey.us.cray.com SmartSim[36185] INFO ray-cluster(227845): Running\n",
      "17:04:42 osprey.us.cray.com SmartSim[36185] INFO ray-cluster(227845): Running\n",
      "17:04:47 osprey.us.cray.com SmartSim[36185] INFO ray-cluster(227845): Running\n",
      "17:04:52 osprey.us.cray.com SmartSim[36185] INFO ray-cluster(227845): Running\n",
      "17:04:57 osprey.us.cray.com SmartSim[36185] INFO ray-cluster(227845): Running\n",
      "17:05:02 osprey.us.cray.com SmartSim[36185] INFO ray-cluster(227845): Running\n",
      "17:05:07 osprey.us.cray.com SmartSim[36185] INFO ray-cluster(227845): Running\n",
      "17:05:12 osprey.us.cray.com SmartSim[36185] INFO ray-cluster(227845): Running\n",
      "17:05:17 osprey.us.cray.com SmartSim[36185] INFO ray-cluster(227845): Running\n",
      "17:05:22 osprey.us.cray.com SmartSim[36185] INFO ray-cluster(227845): Running\n",
      "17:05:27 osprey.us.cray.com SmartSim[36185] INFO ray-cluster(227845): Running\n",
      "17:05:32 osprey.us.cray.com SmartSim[36185] INFO ray-cluster(227845): Running\n",
      "17:05:37 osprey.us.cray.com SmartSim[36185] INFO ray-cluster(227845): Running\n",
      "17:05:42 osprey.us.cray.com SmartSim[36185] INFO ray-cluster(227845): Running\n"
     ]
    },
    {
     "ename": "KeyboardInterrupt",
     "evalue": "",
     "output_type": "error",
     "traceback": [
      "\u001b[0;31m---------------------------------------------------------------------------\u001b[0m",
      "\u001b[0;31mKeyboardInterrupt\u001b[0m                         Traceback (most recent call last)",
      "\u001b[0;32m<ipython-input-3-6cbae28da82d>\u001b[0m in \u001b[0;36m<module>\u001b[0;34m\u001b[0m\n\u001b[1;32m      1\u001b[0m \u001b[0mexp\u001b[0m\u001b[0;34m.\u001b[0m\u001b[0mgenerate\u001b[0m\u001b[0;34m(\u001b[0m\u001b[0mcluster\u001b[0m\u001b[0;34m,\u001b[0m \u001b[0moverwrite\u001b[0m\u001b[0;34m=\u001b[0m\u001b[0;32mTrue\u001b[0m\u001b[0;34m)\u001b[0m\u001b[0;34m\u001b[0m\u001b[0;34m\u001b[0m\u001b[0m\n\u001b[0;32m----> 2\u001b[0;31m \u001b[0mexp\u001b[0m\u001b[0;34m.\u001b[0m\u001b[0mstart\u001b[0m\u001b[0;34m(\u001b[0m\u001b[0mcluster\u001b[0m\u001b[0;34m,\u001b[0m \u001b[0mblock\u001b[0m\u001b[0;34m=\u001b[0m\u001b[0;32mTrue\u001b[0m\u001b[0;34m,\u001b[0m \u001b[0msummary\u001b[0m\u001b[0;34m=\u001b[0m\u001b[0;32mFalse\u001b[0m\u001b[0;34m)\u001b[0m\u001b[0;34m\u001b[0m\u001b[0;34m\u001b[0m\u001b[0m\n\u001b[0m",
      "\u001b[0;32m/lus/sonexion/arigazzi/smartsim-dev/SmartSim/smartsim/experiment.py\u001b[0m in \u001b[0;36mstart\u001b[0;34m(self, block, summary, *args)\u001b[0m\n\u001b[1;32m     93\u001b[0m             \u001b[0;32mif\u001b[0m \u001b[0msummary\u001b[0m\u001b[0;34m:\u001b[0m\u001b[0;34m\u001b[0m\u001b[0;34m\u001b[0m\u001b[0m\n\u001b[1;32m     94\u001b[0m                 \u001b[0mself\u001b[0m\u001b[0;34m.\u001b[0m\u001b[0m_launch_summary\u001b[0m\u001b[0;34m(\u001b[0m\u001b[0;34m*\u001b[0m\u001b[0margs\u001b[0m\u001b[0;34m)\u001b[0m\u001b[0;34m\u001b[0m\u001b[0;34m\u001b[0m\u001b[0m\n\u001b[0;32m---> 95\u001b[0;31m             \u001b[0mself\u001b[0m\u001b[0;34m.\u001b[0m\u001b[0m_control\u001b[0m\u001b[0;34m.\u001b[0m\u001b[0mstart\u001b[0m\u001b[0;34m(\u001b[0m\u001b[0;34m*\u001b[0m\u001b[0margs\u001b[0m\u001b[0;34m,\u001b[0m \u001b[0mblock\u001b[0m\u001b[0;34m=\u001b[0m\u001b[0mblock\u001b[0m\u001b[0;34m)\u001b[0m\u001b[0;34m\u001b[0m\u001b[0;34m\u001b[0m\u001b[0m\n\u001b[0m\u001b[1;32m     96\u001b[0m         \u001b[0;32mexcept\u001b[0m \u001b[0mSmartSimError\u001b[0m \u001b[0;32mas\u001b[0m \u001b[0me\u001b[0m\u001b[0;34m:\u001b[0m\u001b[0;34m\u001b[0m\u001b[0;34m\u001b[0m\u001b[0m\n\u001b[1;32m     97\u001b[0m             \u001b[0mlogger\u001b[0m\u001b[0;34m.\u001b[0m\u001b[0merror\u001b[0m\u001b[0;34m(\u001b[0m\u001b[0me\u001b[0m\u001b[0;34m)\u001b[0m\u001b[0;34m\u001b[0m\u001b[0;34m\u001b[0m\u001b[0m\n",
      "\u001b[0;32m/lus/sonexion/arigazzi/smartsim-dev/SmartSim/smartsim/control/controller.py\u001b[0m in \u001b[0;36mstart\u001b[0;34m(self, block, *args)\u001b[0m\n\u001b[1;32m     81\u001b[0m         \u001b[0;31m# block until all non-database jobs are complete\u001b[0m\u001b[0;34m\u001b[0m\u001b[0;34m\u001b[0m\u001b[0;34m\u001b[0m\u001b[0m\n\u001b[1;32m     82\u001b[0m         \u001b[0;32mif\u001b[0m \u001b[0mblock\u001b[0m\u001b[0;34m:\u001b[0m\u001b[0;34m\u001b[0m\u001b[0;34m\u001b[0m\u001b[0m\n\u001b[0;32m---> 83\u001b[0;31m             \u001b[0mself\u001b[0m\u001b[0;34m.\u001b[0m\u001b[0mpoll\u001b[0m\u001b[0;34m(\u001b[0m\u001b[0;36m5\u001b[0m\u001b[0;34m,\u001b[0m \u001b[0;32mTrue\u001b[0m\u001b[0;34m)\u001b[0m\u001b[0;34m\u001b[0m\u001b[0;34m\u001b[0m\u001b[0m\n\u001b[0m\u001b[1;32m     84\u001b[0m \u001b[0;34m\u001b[0m\u001b[0m\n\u001b[1;32m     85\u001b[0m     \u001b[0;34m@\u001b[0m\u001b[0mproperty\u001b[0m\u001b[0;34m\u001b[0m\u001b[0;34m\u001b[0m\u001b[0m\n",
      "\u001b[0;32m/lus/sonexion/arigazzi/smartsim-dev/SmartSim/smartsim/control/controller.py\u001b[0m in \u001b[0;36mpoll\u001b[0;34m(self, interval, verbose)\u001b[0m\n\u001b[1;32m    103\u001b[0m         \u001b[0mto_monitor\u001b[0m \u001b[0;34m=\u001b[0m \u001b[0mself\u001b[0m\u001b[0;34m.\u001b[0m\u001b[0m_jobs\u001b[0m\u001b[0;34m.\u001b[0m\u001b[0mjobs\u001b[0m\u001b[0;34m\u001b[0m\u001b[0;34m\u001b[0m\u001b[0m\n\u001b[1;32m    104\u001b[0m         \u001b[0;32mwhile\u001b[0m \u001b[0mlen\u001b[0m\u001b[0;34m(\u001b[0m\u001b[0mto_monitor\u001b[0m\u001b[0;34m)\u001b[0m \u001b[0;34m>\u001b[0m \u001b[0;36m0\u001b[0m\u001b[0;34m:\u001b[0m\u001b[0;34m\u001b[0m\u001b[0;34m\u001b[0m\u001b[0m\n\u001b[0;32m--> 105\u001b[0;31m             \u001b[0mtime\u001b[0m\u001b[0;34m.\u001b[0m\u001b[0msleep\u001b[0m\u001b[0;34m(\u001b[0m\u001b[0minterval\u001b[0m\u001b[0;34m)\u001b[0m\u001b[0;34m\u001b[0m\u001b[0;34m\u001b[0m\u001b[0m\n\u001b[0m\u001b[1;32m    106\u001b[0m \u001b[0;34m\u001b[0m\u001b[0m\n\u001b[1;32m    107\u001b[0m             \u001b[0;31m# acquire lock to avoid \"dictionary changed during iteration\" error\u001b[0m\u001b[0;34m\u001b[0m\u001b[0;34m\u001b[0m\u001b[0;34m\u001b[0m\u001b[0m\n",
      "\u001b[0;31mKeyboardInterrupt\u001b[0m: "
     ]
    }
   ],
   "source": [
    "exp.generate(cluster, overwrite=True)\n",
    "exp.start(cluster, block=False, summary=False)"
   ]
  },
  {
   "cell_type": "code",
   "execution_count": 4,
   "id": "a22d7536",
   "metadata": {},
   "outputs": [
    {
     "name": "stdout",
     "output_type": "stream",
     "text": [
      "17:05:54 osprey.us.cray.com SmartSim[36185] INFO Stopping model ray-cluster with job name ray-cluster-CB5NA5J8OC8R\n"
     ]
    }
   ],
   "source": [
    "exp.stop(cluster)"
   ]
  },
  {
   "cell_type": "markdown",
   "id": "5d3ef1eb",
   "metadata": {},
   "source": [
    "We now have started the head node, the next step is to start the workers!\n",
    "\n",
    "# 2. Start the worker nodes\n",
    "\n",
    "We will start the workers as a batch. Each worker has to start on a different node, as a single task. We will rely on `srun` for this."
   ]
  },
  {
   "cell_type": "code",
   "execution_count": 3,
   "id": "6c0a7947",
   "metadata": {},
   "outputs": [
    {
     "name": "stdout",
     "output_type": "stream",
     "text": [
      "12:02:01 osprey.us.cray.com SmartSim[83421] INFO Working in previously created experiment\n",
      "12:02:01 osprey.us.cray.com SmartSim[83421] INFO Empty ensemble created for batch launch\n"
     ]
    }
   ],
   "source": [
    "exp_workers = Experiment(\"ray-worker\", launcher='slurm')\n",
    "\n",
    "num_worker_nodes = 2\n",
    "worker_run_args = {\"nodes\": num_worker_nodes,\n",
    "                   \"ntasks-per-node\": 1, # Ray will take care of resources.\n",
    "                   \"ntasks\": num_worker_nodes,\n",
    "                   \"oversubscribe\": None,\n",
    "                   \"overcommit\": None,\n",
    "                   \"time\": \"01:00:00\",\n",
    "                   \"unbuffered\": None,\n",
    "                   \"cpus-per-task\": 26}\n",
    "\n",
    "worker_settings = SrunSettings(\"bash\", \"start-worker.sh\",\n",
    "                               block_in_batch=False, run_args=worker_run_args)\n",
    "\n",
    "worker_node_params = {\"HEAD_ADDRESS\": head_ip+\":\"+str(RAY_PORT), \"REDIS_PASSWORD\": REDIS_PW, \"CONDA_ENV\": \"smartsim\"}\n",
    "worker_node_model = exp_workers.create_model(\"worker_nodes\", path='/lus/sonexion/arigazzi/smartsim-dev/SmartSim/tutorials/05_starting_ray/head_exp',\n",
    "                                   run_settings=worker_settings, params=worker_node_params)\n",
    "worker_node_model.attach_generator_files(to_configure=['./templates/start-worker.sh'])\n",
    "exp_workers.generate(worker_node_model, overwrite=True)\n",
    "    \n",
    "worker_batch = SbatchSettings(nodes=num_worker_nodes, time=\"01:00:00\")\n",
    "worker_ensemble = exp.create_ensemble(\"worker-ens\", batch_settings=worker_batch)\n",
    "worker_ensemble.add_model(worker_node_model)\n",
    "\n",
    "exp_workers.start(worker_ensemble, block=False, summary=False)"
   ]
  },
  {
   "cell_type": "code",
   "execution_count": 15,
   "id": "1e248686",
   "metadata": {},
   "outputs": [
    {
     "ename": "KeyError",
     "evalue": "",
     "output_type": "error",
     "traceback": [
      "\u001b[0;31m---------------------------------------------------------------------------\u001b[0m",
      "\u001b[0;31mKeyError\u001b[0m                                  Traceback (most recent call last)",
      "\u001b[0;32m<ipython-input-15-4a236ea235d9>\u001b[0m in \u001b[0;36m<module>\u001b[0;34m\u001b[0m\n\u001b[0;32m----> 1\u001b[0;31m \u001b[0mexp\u001b[0m\u001b[0;34m.\u001b[0m\u001b[0mstop\u001b[0m\u001b[0;34m(\u001b[0m\u001b[0mworker_ensemble\u001b[0m\u001b[0;34m)\u001b[0m\u001b[0;34m\u001b[0m\u001b[0;34m\u001b[0m\u001b[0m\n\u001b[0m",
      "\u001b[0;32m/lus/sonexion/arigazzi/smartsim-dev/SmartSim/smartsim/experiment.py\u001b[0m in \u001b[0;36mstop\u001b[0;34m(self, *args)\u001b[0m\n\u001b[1;32m    112\u001b[0m                     \u001b[0mself\u001b[0m\u001b[0;34m.\u001b[0m\u001b[0m_control\u001b[0m\u001b[0;34m.\u001b[0m\u001b[0mstop_entity\u001b[0m\u001b[0;34m(\u001b[0m\u001b[0mentity\u001b[0m\u001b[0;34m)\u001b[0m\u001b[0;34m\u001b[0m\u001b[0;34m\u001b[0m\u001b[0m\n\u001b[1;32m    113\u001b[0m                 \u001b[0;32melif\u001b[0m \u001b[0misinstance\u001b[0m\u001b[0;34m(\u001b[0m\u001b[0mentity\u001b[0m\u001b[0;34m,\u001b[0m \u001b[0mEntityList\u001b[0m\u001b[0;34m)\u001b[0m\u001b[0;34m:\u001b[0m\u001b[0;34m\u001b[0m\u001b[0;34m\u001b[0m\u001b[0m\n\u001b[0;32m--> 114\u001b[0;31m                     \u001b[0mself\u001b[0m\u001b[0;34m.\u001b[0m\u001b[0m_control\u001b[0m\u001b[0;34m.\u001b[0m\u001b[0mstop_entity_list\u001b[0m\u001b[0;34m(\u001b[0m\u001b[0mentity\u001b[0m\u001b[0;34m)\u001b[0m\u001b[0;34m\u001b[0m\u001b[0;34m\u001b[0m\u001b[0m\n\u001b[0m\u001b[1;32m    115\u001b[0m                 \u001b[0;32melse\u001b[0m\u001b[0;34m:\u001b[0m\u001b[0;34m\u001b[0m\u001b[0;34m\u001b[0m\u001b[0m\n\u001b[1;32m    116\u001b[0m                     raise TypeError(\n",
      "\u001b[0;32m/lus/sonexion/arigazzi/smartsim-dev/SmartSim/smartsim/control/controller.py\u001b[0m in \u001b[0;36mstop_entity_list\u001b[0;34m(self, entity_list)\u001b[0m\n\u001b[1;32m    176\u001b[0m         \"\"\"\n\u001b[1;32m    177\u001b[0m         \u001b[0;32mif\u001b[0m \u001b[0mentity_list\u001b[0m\u001b[0;34m.\u001b[0m\u001b[0mbatch\u001b[0m\u001b[0;34m:\u001b[0m\u001b[0;34m\u001b[0m\u001b[0;34m\u001b[0m\u001b[0m\n\u001b[0;32m--> 178\u001b[0;31m             \u001b[0mself\u001b[0m\u001b[0;34m.\u001b[0m\u001b[0mstop_entity\u001b[0m\u001b[0;34m(\u001b[0m\u001b[0mentity_list\u001b[0m\u001b[0;34m)\u001b[0m\u001b[0;34m\u001b[0m\u001b[0;34m\u001b[0m\u001b[0m\n\u001b[0m\u001b[1;32m    179\u001b[0m         \u001b[0;32melse\u001b[0m\u001b[0;34m:\u001b[0m\u001b[0;34m\u001b[0m\u001b[0;34m\u001b[0m\u001b[0m\n\u001b[1;32m    180\u001b[0m             \u001b[0;32mfor\u001b[0m \u001b[0mentity\u001b[0m \u001b[0;32min\u001b[0m \u001b[0mentity_list\u001b[0m\u001b[0;34m.\u001b[0m\u001b[0mentities\u001b[0m\u001b[0;34m:\u001b[0m\u001b[0;34m\u001b[0m\u001b[0;34m\u001b[0m\u001b[0m\n",
      "\u001b[0;32m/lus/sonexion/arigazzi/smartsim-dev/SmartSim/smartsim/control/controller.py\u001b[0m in \u001b[0;36mstop_entity\u001b[0;34m(self, entity)\u001b[0m\n\u001b[1;32m    149\u001b[0m         \u001b[0mJM_LOCK\u001b[0m\u001b[0;34m.\u001b[0m\u001b[0macquire\u001b[0m\u001b[0;34m(\u001b[0m\u001b[0;34m)\u001b[0m\u001b[0;34m\u001b[0m\u001b[0;34m\u001b[0m\u001b[0m\n\u001b[1;32m    150\u001b[0m         \u001b[0;32mtry\u001b[0m\u001b[0;34m:\u001b[0m\u001b[0;34m\u001b[0m\u001b[0;34m\u001b[0m\u001b[0m\n\u001b[0;32m--> 151\u001b[0;31m             \u001b[0mjob\u001b[0m \u001b[0;34m=\u001b[0m \u001b[0mself\u001b[0m\u001b[0;34m.\u001b[0m\u001b[0m_jobs\u001b[0m\u001b[0;34m[\u001b[0m\u001b[0mentity\u001b[0m\u001b[0;34m.\u001b[0m\u001b[0mname\u001b[0m\u001b[0;34m]\u001b[0m\u001b[0;34m\u001b[0m\u001b[0;34m\u001b[0m\u001b[0m\n\u001b[0m\u001b[1;32m    152\u001b[0m             \u001b[0;32mif\u001b[0m \u001b[0mjob\u001b[0m\u001b[0;34m.\u001b[0m\u001b[0mstatus\u001b[0m \u001b[0;32mnot\u001b[0m \u001b[0;32min\u001b[0m \u001b[0mTERMINAL_STATUSES\u001b[0m\u001b[0;34m:\u001b[0m\u001b[0;34m\u001b[0m\u001b[0;34m\u001b[0m\u001b[0m\n\u001b[1;32m    153\u001b[0m                 logger.info(\n",
      "\u001b[0;32m/lus/sonexion/arigazzi/smartsim-dev/SmartSim/smartsim/control/jobmanager.py\u001b[0m in \u001b[0;36m__getitem__\u001b[0;34m(self, entity_name)\u001b[0m\n\u001b[1;32m    153\u001b[0m             \u001b[0;32mif\u001b[0m \u001b[0mentity_name\u001b[0m \u001b[0;32min\u001b[0m \u001b[0mself\u001b[0m\u001b[0;34m.\u001b[0m\u001b[0mcompleted\u001b[0m\u001b[0;34m.\u001b[0m\u001b[0mkeys\u001b[0m\u001b[0;34m(\u001b[0m\u001b[0;34m)\u001b[0m\u001b[0;34m:\u001b[0m\u001b[0;34m\u001b[0m\u001b[0;34m\u001b[0m\u001b[0m\n\u001b[1;32m    154\u001b[0m                 \u001b[0;32mreturn\u001b[0m \u001b[0mself\u001b[0m\u001b[0;34m.\u001b[0m\u001b[0mcompleted\u001b[0m\u001b[0;34m[\u001b[0m\u001b[0mentity_name\u001b[0m\u001b[0;34m]\u001b[0m\u001b[0;34m\u001b[0m\u001b[0;34m\u001b[0m\u001b[0m\n\u001b[0;32m--> 155\u001b[0;31m             \u001b[0;32mraise\u001b[0m \u001b[0mKeyError\u001b[0m\u001b[0;34m\u001b[0m\u001b[0;34m\u001b[0m\u001b[0m\n\u001b[0m\u001b[1;32m    156\u001b[0m         \u001b[0;32mfinally\u001b[0m\u001b[0;34m:\u001b[0m\u001b[0;34m\u001b[0m\u001b[0;34m\u001b[0m\u001b[0m\n\u001b[1;32m    157\u001b[0m             \u001b[0mself\u001b[0m\u001b[0;34m.\u001b[0m\u001b[0m_lock\u001b[0m\u001b[0;34m.\u001b[0m\u001b[0mrelease\u001b[0m\u001b[0;34m(\u001b[0m\u001b[0;34m)\u001b[0m\u001b[0;34m\u001b[0m\u001b[0;34m\u001b[0m\u001b[0m\n",
      "\u001b[0;31mKeyError\u001b[0m: "
     ]
    }
   ],
   "source": [
    "exp.stop(worker_ensemble)"
   ]
  },
  {
   "cell_type": "code",
   "execution_count": 27,
   "id": "8c56fd3b",
   "metadata": {},
   "outputs": [
    {
     "name": "stdout",
     "output_type": "stream",
     "text": [
      "['__class__', '__delattr__', '__dict__', '__dir__', '__doc__', '__eq__', '__format__', '__ge__', '__getattribute__', '__getitem__', '__gt__', '__hash__', '__init__', '__init_subclass__', '__iter__', '__le__', '__len__', '__lt__', '__module__', '__ne__', '__new__', '__reduce__', '__reduce_ex__', '__repr__', '__setattr__', '__sizeof__', '__str__', '__subclasshook__', '__weakref__', '_initialize_entities', '_key_prefixing_enabled', '_read_model_parameters', '_set_strategy', 'add_model', 'attach_generator_files', 'batch', 'batch_settings', 'enable_key_prefixing', 'entities', 'models', 'name', 'params', 'path', 'query_key_prefixing', 'register_incoming_entity', 'run_settings', 'set_path', 'type']\n",
      "218778\n"
     ]
    }
   ],
   "source": [
    "print(dir(head_ensemble))\n",
    "for job in exp._control._jobs.jobs.values():\n",
    "    print(job.jid)"
   ]
  },
  {
   "cell_type": "markdown",
   "id": "de7ee151",
   "metadata": {},
   "source": [
    "and the workers are running! Now let's run a test script!\n",
    "\n",
    "# 3. Execute script\n",
    "\n",
    "The script will run an MNIST training. It will start locally, distributing the work across workers. We will just need to supply the cluster address. "
   ]
  },
  {
   "cell_type": "code",
   "execution_count": 17,
   "id": "e7353267-4e53-4f6e-8126-bb24d421c41e",
   "metadata": {},
   "outputs": [
    {
     "name": "stdout",
     "output_type": "stream",
     "text": [
      "Ready to import ray\n",
      "2021-05-02 14:17:47,744\tINFO worker.py:655 -- Connecting to existing Ray cluster at address: 10.10.1.21:6379\n"
     ]
    }
   ],
   "source": [
    "!/lus/scratch/arigazzi/anaconda3/envs/smartsim/bin/python MNIST/MNIST-test/ppo_tune.py --ray-address=10.10.1.21:6379 --redis-password=2ad6b162-5008-45ae-a15e-e6891d1b1a06"
   ]
  },
  {
   "cell_type": "code",
   "execution_count": 36,
   "id": "fb37b46a",
   "metadata": {},
   "outputs": [
    {
     "name": "stdout",
     "output_type": "stream",
     "text": [
      "14:58:56 osprey.us.cray.com SmartSim[111781] INFO Working in previously created experiment\n",
      "\n",
      "\n",
      "\u001b[36;1m=== LAUNCH SUMMARY ===\u001b[0m\n",
      "\u001b[32;1mExperiment: MNIST\u001b[0m\n",
      "\u001b[32mExperiment Path: /lus/sonexion/arigazzi/smartsim-dev/SmartSim/tutorials/05_starting_ray/MNIST\u001b[0m\n",
      "\u001b[32mLaunching with: local\u001b[0m\n",
      "\u001b[32m# of Ensembles: 0\u001b[0m\n",
      "\u001b[32m# of Models: 1\u001b[0m\n",
      "\u001b[32mDatabase: no\u001b[0m\n",
      "\n",
      "\u001b[36;1m=== MODELS ===\u001b[0m\n",
      "\u001b[32;1mMNIST-test\u001b[0m\n",
      "\u001b[32mModel Parameters: \n",
      "{}\u001b[0m\n",
      "\u001b[32mModel Run Settings: \n",
      "Executable: /lus/scratch/arigazzi/anaconda3/envs/smartsim/bin/python\n",
      "Executable arguments: ['ppo_tune.py', '--ray-address=10.10.4.206:6380', '--redis-password=ALABAMA']\n",
      "\u001b[0m\n",
      "\n",
      "\n",
      "\n",
      "\n"
     ]
    },
    {
     "name": "stderr",
     "output_type": "stream",
     "text": [
      "                                                                                \r"
     ]
    },
    {
     "name": "stdout",
     "output_type": "stream",
     "text": [
      "14:59:12 osprey.us.cray.com SmartSim[111781] INFO MNIST-test(66593): Running\n",
      "14:59:17 osprey.us.cray.com SmartSim[111781] INFO MNIST-test(66593): Running\n",
      "14:59:22 osprey.us.cray.com SmartSim[111781] INFO MNIST-test(66593): Running\n",
      "14:59:25 osprey.us.cray.com SmartSim[111781] WARNING MNIST-test(66593): Failed\n",
      "14:59:25 osprey.us.cray.com SmartSim[111781] WARNING MNIST-test failed. See below for details \n",
      "Job status at failure: Failed \n",
      "Launcher status at failure: Failed \n",
      "Job returncode: -6 \n",
      "Error and output file located at: /lus/sonexion/arigazzi/smartsim-dev/SmartSim/tutorials/05_starting_ray/MNIST/MNIST-test\n"
     ]
    }
   ],
   "source": [
    "mnist_exp = Experiment(\"MNIST\", launcher='local')\n",
    "\n",
    "\n",
    "mnist_exe_args = \"start-script.sh\"\n",
    "mnist_exe_args = f\"ppo_tune.py --ray-address={head_ip}:{RAY_PORT} --redis-password={REDIS_PW}\"\n",
    "\n",
    "#ppo_exe_args = f\"--jobid 218778 /lus/scratch/arigazzi/anaconda3/envs/smartsim/bin/python ppo_tune.py --ray-address={head_ip}:{RAY_PORT} --redis-password={REDIS_PW}\"\n",
    "    \n",
    "# mnist_run_args = {\"nodes\": 1,\n",
    "#                    \"ntasks-per-node\": 1, # Ray will take care of resources.\n",
    "#                    \"ntasks\": 1,\n",
    "#                    \"oversubscribe\": None,\n",
    "#                    \"overcommit\": None,\n",
    "#                    \"time\": \"01:00:00\",\n",
    "#                    \"unbuffered\": None,\n",
    "#                    \"cpus-per-task\": 36}\n",
    "\n",
    "#mnist_params = {\"HEAD_ADDRESS\": head_ip+\":\"+str(RAY_PORT), \"REDIS_PASSWORD\": REDIS_PW}\n",
    "mnist_settings = RunSettings(\"/lus/scratch/arigazzi/anaconda3/envs/smartsim/bin/python\", mnist_exe_args, expand_exe=False)#, run_args=mnist_run_args)\n",
    "mnist_model = mnist_exp.create_model(\"MNIST-test\", path='./mnist_test',\n",
    "                                     run_settings = mnist_settings)#, params=mnist_params)\n",
    "mnist_model.attach_generator_files(to_copy=['./templates/ppo_tune.py'])#, to_configure=['./templates/start-script.sh'])\n",
    "mnist_exp.generate(mnist_model, overwrite=True)\n",
    "mnist_exp.start(mnist_model, summary=True, block=True)"
   ]
  },
  {
   "cell_type": "code",
   "execution_count": 32,
   "id": "ef4f15f7",
   "metadata": {},
   "outputs": [
    {
     "name": "stdout",
     "output_type": "stream",
     "text": [
      "12:24:47 osprey.us.cray.com SmartSim[83421] INFO Stopping model MNIST-test with job name MNIST-test-CB0DLJAMTB06\n"
     ]
    }
   ],
   "source": [
    "mnist_exp.stop(mnist_model)\n",
    "\n",
    "# exp.stop(worker_ensemble)\n",
    "# exp.stop(head_ensemble)"
   ]
  },
  {
   "cell_type": "code",
   "execution_count": 36,
   "id": "f1550d6f",
   "metadata": {},
   "outputs": [
    {
     "name": "stdout",
     "output_type": "stream",
     "text": [
      "12:52:43 osprey.us.cray.com SmartSim[83421] INFO MNIST-test(61071): Running\n",
      "12:52:53 osprey.us.cray.com SmartSim[83421] INFO MNIST-test(61071): Running\n",
      "12:53:03 osprey.us.cray.com SmartSim[83421] INFO MNIST-test(61071): Running\n",
      "12:53:13 osprey.us.cray.com SmartSim[83421] INFO MNIST-test(61071): Running\n",
      "12:53:23 osprey.us.cray.com SmartSim[83421] INFO MNIST-test(61071): Running\n",
      "12:53:33 osprey.us.cray.com SmartSim[83421] INFO MNIST-test(61071): Running\n",
      "12:53:43 osprey.us.cray.com SmartSim[83421] INFO MNIST-test(61071): Running\n",
      "12:53:53 osprey.us.cray.com SmartSim[83421] INFO MNIST-test(61071): Running\n",
      "12:54:03 osprey.us.cray.com SmartSim[83421] INFO MNIST-test(61071): Running\n",
      "12:54:13 osprey.us.cray.com SmartSim[83421] INFO MNIST-test(61071): Running\n",
      "12:54:23 osprey.us.cray.com SmartSim[83421] INFO MNIST-test(61071): Running\n",
      "12:54:33 osprey.us.cray.com SmartSim[83421] INFO MNIST-test(61071): Running\n",
      "12:54:43 osprey.us.cray.com SmartSim[83421] INFO MNIST-test(61071): Running\n",
      "12:54:53 osprey.us.cray.com SmartSim[83421] INFO MNIST-test(61071): Running\n",
      "12:55:03 osprey.us.cray.com SmartSim[83421] INFO MNIST-test(61071): Running\n",
      "12:55:13 osprey.us.cray.com SmartSim[83421] INFO MNIST-test(61071): Running\n",
      "12:55:23 osprey.us.cray.com SmartSim[83421] INFO MNIST-test(61071): Running\n",
      "12:55:33 osprey.us.cray.com SmartSim[83421] INFO MNIST-test(61071): Running\n",
      "12:55:43 osprey.us.cray.com SmartSim[83421] INFO MNIST-test(61071): Running\n",
      "12:55:53 osprey.us.cray.com SmartSim[83421] INFO MNIST-test(61071): Running\n",
      "12:56:03 osprey.us.cray.com SmartSim[83421] INFO MNIST-test(61071): Running\n",
      "12:56:13 osprey.us.cray.com SmartSim[83421] INFO MNIST-test(61071): Running\n",
      "12:56:23 osprey.us.cray.com SmartSim[83421] INFO MNIST-test(61071): Running\n",
      "12:56:33 osprey.us.cray.com SmartSim[83421] INFO MNIST-test(61071): Running\n",
      "12:56:43 osprey.us.cray.com SmartSim[83421] INFO MNIST-test(61071): Running\n",
      "12:56:53 osprey.us.cray.com SmartSim[83421] INFO MNIST-test(61071): Running\n",
      "12:57:03 osprey.us.cray.com SmartSim[83421] INFO MNIST-test(61071): Running\n",
      "12:57:13 osprey.us.cray.com SmartSim[83421] INFO MNIST-test(61071): Running\n",
      "12:57:23 osprey.us.cray.com SmartSim[83421] INFO MNIST-test(61071): Running\n",
      "12:57:33 osprey.us.cray.com SmartSim[83421] INFO MNIST-test(61071): Running\n",
      "12:57:43 osprey.us.cray.com SmartSim[83421] INFO MNIST-test(61071): Running\n",
      "12:57:53 osprey.us.cray.com SmartSim[83421] INFO MNIST-test(61071): Running\n",
      "12:58:03 osprey.us.cray.com SmartSim[83421] INFO MNIST-test(61071): Running\n",
      "12:58:13 osprey.us.cray.com SmartSim[83421] INFO MNIST-test(61071): Running\n",
      "12:58:23 osprey.us.cray.com SmartSim[83421] INFO MNIST-test(61071): Running\n",
      "12:58:33 osprey.us.cray.com SmartSim[83421] INFO MNIST-test(61071): Running\n",
      "12:58:43 osprey.us.cray.com SmartSim[83421] INFO MNIST-test(61071): Running\n",
      "12:58:53 osprey.us.cray.com SmartSim[83421] INFO MNIST-test(61071): Running\n",
      "12:59:03 osprey.us.cray.com SmartSim[83421] INFO MNIST-test(61071): Running\n",
      "12:59:13 osprey.us.cray.com SmartSim[83421] INFO MNIST-test(61071): Running\n",
      "12:59:23 osprey.us.cray.com SmartSim[83421] INFO MNIST-test(61071): Running\n",
      "12:59:33 osprey.us.cray.com SmartSim[83421] INFO MNIST-test(61071): Running\n",
      "12:59:43 osprey.us.cray.com SmartSim[83421] INFO MNIST-test(61071): Running\n",
      "12:59:53 osprey.us.cray.com SmartSim[83421] INFO MNIST-test(61071): Running\n",
      "13:00:03 osprey.us.cray.com SmartSim[83421] INFO MNIST-test(61071): Running\n",
      "13:00:13 osprey.us.cray.com SmartSim[83421] INFO MNIST-test(61071): Running\n",
      "13:00:23 osprey.us.cray.com SmartSim[83421] INFO MNIST-test(61071): Running\n",
      "13:00:33 osprey.us.cray.com SmartSim[83421] INFO MNIST-test(61071): Running\n",
      "13:00:43 osprey.us.cray.com SmartSim[83421] INFO MNIST-test(61071): Running\n",
      "13:00:53 osprey.us.cray.com SmartSim[83421] INFO MNIST-test(61071): Running\n",
      "13:01:03 osprey.us.cray.com SmartSim[83421] INFO MNIST-test(61071): Running\n",
      "13:01:13 osprey.us.cray.com SmartSim[83421] INFO MNIST-test(61071): Running\n",
      "13:01:23 osprey.us.cray.com SmartSim[83421] INFO MNIST-test(61071): Running\n",
      "13:01:33 osprey.us.cray.com SmartSim[83421] INFO MNIST-test(61071): Running\n",
      "13:01:43 osprey.us.cray.com SmartSim[83421] INFO MNIST-test(61071): Running\n",
      "13:01:53 osprey.us.cray.com SmartSim[83421] INFO MNIST-test(61071): Running\n",
      "13:02:03 osprey.us.cray.com SmartSim[83421] INFO MNIST-test(61071): Running\n",
      "13:02:13 osprey.us.cray.com SmartSim[83421] INFO MNIST-test(61071): Running\n",
      "13:02:23 osprey.us.cray.com SmartSim[83421] WARNING MNIST-test(61071): Failed\n",
      "13:02:23 osprey.us.cray.com SmartSim[83421] WARNING MNIST-test failed. See below for details \n",
      "Job status at failure: Failed \n",
      "Launcher status at failure: Failed \n",
      "Job returncode: 1 \n",
      "Error and output file located at: /lus/sonexion/arigazzi/smartsim-dev/SmartSim/tutorials/05_starting_ray/MNIST/MNIST-test\n",
      "13:02:28 osprey.us.cray.com SmartSim[83421] INFO worker-ens(218779): Completed\n"
     ]
    }
   ],
   "source": [
    "mnist_exp.poll()"
   ]
  },
  {
   "cell_type": "code",
   "execution_count": 37,
   "id": "a7f3a124",
   "metadata": {},
   "outputs": [
    {
     "name": "stdout",
     "output_type": "stream",
     "text": [
      "             JOBID PARTITION     NAME     USER ST       TIME  NODES NODELIST(REASON)\n",
      "            218778     bdw18 head-ens arigazzi  R    1:09:18      1 prod-0017\n",
      "            218804     bdw18 Chpl-isx  chapelu  R      24:50     16 prod-[0001-0016]\n"
     ]
    }
   ],
   "source": [
    "!squeue"
   ]
  },
  {
   "cell_type": "code",
   "execution_count": 8,
   "id": "c1e900a2",
   "metadata": {},
   "outputs": [],
   "source": [
    "!scancel 214555"
   ]
  },
  {
   "cell_type": "code",
   "execution_count": null,
   "id": "22a67204",
   "metadata": {},
   "outputs": [],
   "source": []
  }
 ],
 "metadata": {
  "kernelspec": {
   "display_name": "smartsim",
   "language": "python",
   "name": "smartsim"
  },
  "language_info": {
   "codemirror_mode": {
    "name": "ipython",
    "version": 3
   },
   "file_extension": ".py",
   "mimetype": "text/x-python",
   "name": "python",
   "nbconvert_exporter": "python",
   "pygments_lexer": "ipython3",
   "version": "3.7.10"
  }
 },
 "nbformat": 4,
 "nbformat_minor": 5
}
