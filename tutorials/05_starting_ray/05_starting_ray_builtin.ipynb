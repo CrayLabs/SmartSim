{
 "cells": [
  {
   "cell_type": "markdown",
   "id": "42905082",
   "metadata": {},
   "source": [
    "# Setting up a Ray cluster with SmartSim"
   ]
  },
  {
   "cell_type": "markdown",
   "id": "a3dc796b",
   "metadata": {},
   "source": [
    "## 1. Start the cluster\n",
    "We set up a SmartSim experiment, which will handle the launch of the Ray cluster.\n",
    "\n",
    "First we import the relevant modules."
   ]
  },
  {
   "cell_type": "code",
   "execution_count": 1,
   "id": "74c17fe8",
   "metadata": {},
   "outputs": [
    {
     "name": "stdout",
     "output_type": "stream",
     "text": [
      "13:49:52 osprey.us.cray.com SmartSim[120927] INFO Allocation successful with Job ID: 242491\n"
     ]
    }
   ],
   "source": [
    "from smartsim import Experiment, slurm\n",
    "from smartsim.ray import RayCluster\n",
    "\n",
    "NUM_WORKERS = 3\n",
    "alloc=slurm.get_allocation(nodes=1+NUM_WORKERS, time=\"12:00:00\", options={\"ntasks\": str(1+NUM_WORKERS), \"partition\": \"spider\", \"C\": \"V100\"})"
   ]
  },
  {
   "cell_type": "code",
   "execution_count": 2,
   "id": "e6a69118",
   "metadata": {
    "tags": []
   },
   "outputs": [
    {
     "name": "stdout",
     "output_type": "stream",
     "text": [
      "13:49:55 osprey.us.cray.com SmartSim[120927] INFO Working in previously created experiment\n"
     ]
    }
   ],
   "source": [
    "exp = Experiment(\"ray-cluster\", launcher='slurm')\n",
    "cluster = RayCluster(name=\"ray-cluster\", run_args={\"time\":\"06:00:00\"}, path='',\n",
    "                     launcher='slurm', workers=NUM_WORKERS, alloc=alloc, batch=False, ray_num_cpus=8)\n",
    "\n",
    "if cluster.batch:\n",
    "    cluster.head_model.batch_settings._preamble = [\n",
    "                                                   #\"module load ccm\",\n",
    "                                                    \"source ~/.bashrc\",\n",
    "                                                   \"conda activate smartsim\",\n",
    "                                                   \"ulimit -s unlimited\", \"ulimit -u unlimited\",\n",
    "                                                   \"ulimit -n unlimited\", \"ulimit -c unlimited\",\n",
    "                                                   \"ulimit -a\"]\n",
    "\n",
    "# if NUM_WORKERS:\n",
    "#     cluster.worker_model.batch_settings._preamble = [\"source ~/.bashrc\", \"conda activate smartsim\"]\n",
    "exp.generate(cluster, overwrite=True)"
   ]
  },
  {
   "cell_type": "code",
   "execution_count": 3,
   "id": "b255fa37",
   "metadata": {
    "tags": []
   },
   "outputs": [
    {
     "name": "stdout",
     "output_type": "stream",
     "text": [
      "13:50:05 osprey.us.cray.com SmartSim[120927] INFO Ray cluster launched on nodes: ['spider-0002', 'spider-0003', 'spider-0004', 'spider-0005']\n"
     ]
    }
   ],
   "source": [
    "exp.start(cluster, block=False, summary=False)"
   ]
  },
  {
   "cell_type": "markdown",
   "id": "f0af6be4",
   "metadata": {},
   "source": [
    "## 2. Start the ray driver script"
   ]
  },
  {
   "cell_type": "code",
   "execution_count": 4,
   "id": "4faf9607",
   "metadata": {},
   "outputs": [],
   "source": [
    "cluster.start_ray_job('/lus/scratch/arigazzi/smartsim-dev/SmartSim/tutorials/05_starting_ray/templates/ppo_tune.py')"
   ]
  },
  {
   "cell_type": "code",
   "execution_count": 30,
   "id": "cc5afafa-61bd-49d6-8162-1dc3cad4ecdd",
   "metadata": {},
   "outputs": [],
   "source": [
    "cluster.start_ray_job('/lus/scratch/arigazzi/smartsim-dev/SmartSim/tutorials/05_starting_ray/templates/ppo_train.py')"
   ]
  },
  {
   "cell_type": "code",
   "execution_count": 5,
   "id": "c3a5d5af",
   "metadata": {},
   "outputs": [],
   "source": [
    "cluster.start_ray_job('/lus/scratch/arigazzi/smartsim-dev/SmartSim/tutorials/05_starting_ray/templates/mnist_pytorch_trainable.py')"
   ]
  },
  {
   "cell_type": "markdown",
   "id": "4742ce83",
   "metadata": {},
   "source": [
    "## 3. Stop cluster and release allocation"
   ]
  },
  {
   "cell_type": "code",
   "execution_count": 5,
   "id": "100a7123",
   "metadata": {},
   "outputs": [
    {
     "name": "stdout",
     "output_type": "stream",
     "text": [
      "13:49:30 osprey.us.cray.com SmartSim[119244] INFO Stopping model workers with job name workers-CBCC1IKDXXGX\n",
      "13:49:32 osprey.us.cray.com SmartSim[119244] INFO Stopping model head with job name head-CBCC1A59C9F1\n"
     ]
    }
   ],
   "source": [
    "exp.stop(cluster)"
   ]
  },
  {
   "cell_type": "code",
   "execution_count": 6,
   "id": "24151d8f",
   "metadata": {},
   "outputs": [
    {
     "name": "stdout",
     "output_type": "stream",
     "text": [
      "13:49:36 osprey.us.cray.com SmartSim[119244] INFO Releasing allocation: 242490\n",
      "13:49:36 osprey.us.cray.com SmartSim[119244] INFO Successfully freed allocation 242490\n"
     ]
    }
   ],
   "source": [
    "if alloc:\n",
    "    slurm.release_allocation(alloc)"
   ]
  },
  {
   "cell_type": "code",
   "execution_count": 6,
   "id": "514ffc63",
   "metadata": {},
   "outputs": [
    {
     "name": "stdout",
     "output_type": "stream",
     "text": [
      "             JOBID PARTITION     NAME     USER ST       TIME  NODES NODELIST(REASON)\n",
      "            242403     bdw18  Chpl-ep  chapelu  R       6:04     16 prod-[0001-0016]\n",
      "            242404     bdw18 head-CBC arigazzi  R       2:57      1 prod-0017\n",
      "            242394     clx28 sstsim.x visharma  R      40:31     32 prod-[0065-0096]\n"
     ]
    }
   ],
   "source": [
    "!squeue%clear"
   ]
  },
  {
   "cell_type": "code",
   "execution_count": 7,
   "id": "64a98698",
   "metadata": {},
   "outputs": [
    {
     "name": "stdout",
     "output_type": "stream",
     "text": [
      "11:26:17 osprey.us.cray.com SmartSim[75449] INFO head(242404): Failed\n"
     ]
    }
   ],
   "source": [
    "!scancel 242404\n"
   ]
  },
  {
   "cell_type": "code",
   "execution_count": null,
   "id": "68019ac7",
   "metadata": {},
   "outputs": [],
   "source": []
  }
 ],
 "metadata": {
  "kernelspec": {
   "display_name": "smartsim",
   "language": "python",
   "name": "smartsim"
  },
  "language_info": {
   "codemirror_mode": {
    "name": "ipython",
    "version": 3
   },
   "file_extension": ".py",
   "mimetype": "text/x-python",
   "name": "python",
   "nbconvert_exporter": "python",
   "pygments_lexer": "ipython3",
   "version": "3.7.10"
  }
 },
 "nbformat": 4,
 "nbformat_minor": 5
}
