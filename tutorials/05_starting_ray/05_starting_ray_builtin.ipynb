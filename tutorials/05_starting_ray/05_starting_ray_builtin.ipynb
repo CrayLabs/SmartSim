{
 "cells": [
  {
   "cell_type": "markdown",
   "id": "76f1ed01",
   "metadata": {},
   "source": [
    "# Setting up a Ray cluster with SmartSim"
   ]
  },
  {
   "cell_type": "markdown",
   "id": "00808c8e",
   "metadata": {},
   "source": [
    "## 1. Start the cluster\n",
    "We set up a SmartSim experiment, which will handle the launch of the Ray cluster.\n",
    "\n",
    "First we import the relevant modules."
   ]
  },
  {
   "cell_type": "code",
   "execution_count": 1,
   "id": "50ff8143",
   "metadata": {},
   "outputs": [],
   "source": [
    "from smartsim import Experiment, slurm\n",
    "from smartsim.ray import RayCluster"
   ]
  },
  {
   "cell_type": "markdown",
   "id": "37e96388-e009-4c70-972f-d5b8077b76a3",
   "metadata": {},
   "source": [
    "On a Slurm system, we need to get an allocation."
   ]
  },
  {
   "cell_type": "code",
   "execution_count": 2,
   "id": "aac2cc6a-b131-46bd-a58c-90676f2e74de",
   "metadata": {},
   "outputs": [
    {
     "name": "stdout",
     "output_type": "stream",
     "text": [
      "07:04:26 osprey.us.cray.com SmartSim[123519] INFO Allocation successful with Job ID: 230489\n"
     ]
    }
   ],
   "source": [
    "NUM_WORKERS = 5\n",
    "alloc = slurm.get_allocation(nodes=NUM_WORKERS+1, time=\"12:00:00\")"
   ]
  },
  {
   "cell_type": "code",
   "execution_count": 3,
   "id": "2cb3a6ed-b7c1-45b6-868b-d445e7bca9d8",
   "metadata": {
    "tags": []
   },
   "outputs": [
    {
     "name": "stdout",
     "output_type": "stream",
     "text": [
      "07:04:43 osprey.us.cray.com SmartSim[123519] INFO Working in previously created experiment\n",
      "07:05:15 osprey.us.cray.com SmartSim[123519] INFO Ray cluster launched on nodes: ['prod-0031', 'prod-0035', 'prod-0033', 'prod-0036', 'prod-0034', 'prod-0032']\n"
     ]
    }
   ],
   "source": [
    "exp = Experiment(\"ray-cluster\", launcher='slurm')\n",
    "\n",
    "cluster = RayCluster(name=\"ray-cluster\", path='', launcher='slurm', workers=NUM_WORKERS, alloc=alloc)\n",
    "exp.generate(cluster, overwrite=True)\n",
    "\n",
    "exp.start(cluster, block=False, summary=False)"
   ]
  },
  {
   "cell_type": "markdown",
   "id": "fc7c325d",
   "metadata": {},
   "source": [
    "## 2. Start the ray driver script"
   ]
  },
  {
   "cell_type": "code",
   "execution_count": 4,
   "id": "a6f1b316",
   "metadata": {},
   "outputs": [],
   "source": [
    "cluster.start_ray_job('/lus/sonexion/arigazzi/smartsim-dev/SmartSim/tutorials/05_starting_ray/templates/ppo_tune.py')"
   ]
  },
  {
   "cell_type": "markdown",
   "id": "4b226dbe",
   "metadata": {},
   "source": [
    "## 3. Stop cluster and release allocation"
   ]
  },
  {
   "cell_type": "code",
   "execution_count": 7,
   "id": "6e49e305",
   "metadata": {},
   "outputs": [
    {
     "name": "stdout",
     "output_type": "stream",
     "text": [
      "06:24:50 osprey.us.cray.com SmartSim[27790] INFO Stopping model worker_nodes with job name worker_nodes-CB6YHA9U2VXG\n",
      "06:24:53 osprey.us.cray.com SmartSim[27790] INFO Stopping model head_node with job name head_node-CB6YH8AR09GV\n"
     ]
    }
   ],
   "source": [
    "exp.stop(cluster)"
   ]
  },
  {
   "cell_type": "code",
   "execution_count": 9,
   "id": "e29b310f",
   "metadata": {},
   "outputs": [
    {
     "name": "stdout",
     "output_type": "stream",
     "text": [
      "05:51:53 osprey.us.cray.com SmartSim[131434] INFO Releasing allocation: 230194\n",
      "05:51:53 osprey.us.cray.com SmartSim[131434] INFO Successfully freed allocation 230194\n"
     ]
    }
   ],
   "source": [
    "slurm.release_allocation(alloc)"
   ]
  },
  {
   "cell_type": "code",
   "execution_count": 6,
   "id": "6550ac66",
   "metadata": {},
   "outputs": [
    {
     "name": "stdout",
     "output_type": "stream",
     "text": [
      "             JOBID PARTITION     NAME     USER ST       TIME  NODES NODELIST(REASON)\n",
      "            230066     bdw18 interact  builder  R    1:15:25      8 prod-[0001-0008]\n",
      "            230213     bdw18 SmartSim arigazzi  R      31:11      6 prod-[0031-0036]\n",
      "            230364     bdw18 Chpl-dis  chapelu  R       0:40     16 prod-[0037-0052]\n"
     ]
    }
   ],
   "source": [
    "!squeue"
   ]
  },
  {
   "cell_type": "code",
   "execution_count": null,
   "id": "1a298902",
   "metadata": {},
   "outputs": [],
   "source": []
  }
 ],
 "metadata": {
  "kernelspec": {
   "display_name": "smartsim",
   "language": "python",
   "name": "smartsim"
  },
  "language_info": {
   "codemirror_mode": {
    "name": "ipython",
    "version": 3
   },
   "file_extension": ".py",
   "mimetype": "text/x-python",
   "name": "python",
   "nbconvert_exporter": "python",
   "pygments_lexer": "ipython3",
   "version": "3.7.10"
  }
 },
 "nbformat": 4,
 "nbformat_minor": 5
}
