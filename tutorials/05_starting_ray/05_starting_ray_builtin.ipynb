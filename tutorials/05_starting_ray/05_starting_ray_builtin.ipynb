{
 "cells": [
  {
   "cell_type": "markdown",
   "id": "3284eb26",
   "metadata": {},
   "source": [
    "# Setting up a Ray cluster with SmartSim"
   ]
  },
  {
   "cell_type": "code",
   "execution_count": null,
   "id": "deb8cbac-e326-4e6c-b191-fac229fa3eb2",
   "metadata": {},
   "outputs": [],
   "source": [
    "%set_env SMARTSIM_LOG_LEVEL debug"
   ]
  },
  {
   "cell_type": "markdown",
   "id": "d7d2b233",
   "metadata": {},
   "source": [
    "## 1. Start the cluster\n",
    "We set up a SmartSim experiment, which will handle the launch of the Ray cluster.\n",
    "\n",
    "First we import the relevant modules and set up variables. `NUM_WORKERS` is the number of worker nodes: in total, we will spin a Ray cluster of `NUM_WORKERS+1` nodes (one node is the head node)."
   ]
  },
  {
   "cell_type": "code",
   "execution_count": null,
   "id": "074bd09c",
   "metadata": {
    "tags": []
   },
   "outputs": [],
   "source": [
    "import numpy as np\n",
    "import ray\n",
    "from ray import tune\n",
    "import ray.util\n",
    "\n",
    "from smartsim import Experiment\n",
    "from smartsim.ext.ray import RayCluster\n",
    "\n",
    "NUM_WORKERS = 3\n",
    "CPUS_PER_WORKER = 18\n",
    "alloc=None\n",
    "launcher='slurm'"
   ]
  },
  {
   "cell_type": "markdown",
   "id": "a8c3de07",
   "metadata": {},
   "source": [
    "Now we define a SmartSim experiment which will spin the Ray cluster. The output files will be located in the `ray-cluster` directory (relative to the path from where we are executing this notebook). We are limiting the number each ray node can use to `CPUS_PER_WORKER`: if we wanted to let it use all the cpus, it would suffice not to pass `ray_args`.\n",
    "Notice that the cluster will be password-protected (the password, generated internally, will be shared with worker nodes).\n",
    "\n",
    "If the hosts are attached to multiple interfaces (e.g. `ib`, `eth0`, ...) we can specify to which one the Ray nodes should bind: it is recommended to always choose the one offering the best performances. On an XC, for example, this will be `ipogif0`."
   ]
  },
  {
   "cell_type": "code",
   "execution_count": null,
   "id": "4caa6cd0",
   "metadata": {
    "tags": []
   },
   "outputs": [],
   "source": [
    "exp = Experiment(\"ray-cluster\", launcher=launcher)\n",
    "cluster = RayCluster(name=\"ray-cluster\", run_args={}, ray_args={\"num-cpus\": CPUS_PER_WORKER},\n",
    "                     launcher=launcher, workers=NUM_WORKERS, alloc=alloc, batch=False, interface=\"ib0\", password=None)"
   ]
  },
  {
   "cell_type": "markdown",
   "id": "669a71dc",
   "metadata": {
    "tags": []
   },
   "source": [
    "If the cluster has to be run as a batch, we might want to pass some preamble lines to the batch files, to setup modules and environments. If we are running this in an internal allocation, the environment will be automatically propagated."
   ]
  },
  {
   "cell_type": "code",
   "execution_count": null,
   "id": "dc50761e",
   "metadata": {
    "jupyter": {
     "source_hidden": true
    },
    "tags": []
   },
   "outputs": [],
   "source": [
    "if cluster.batch:\n",
    "    cluster.head_model.batch_settings.add_preamble( [\"source ~/.bashrc\", \"conda activate smartsim\"])\n",
    "    if NUM_WORKERS:\n",
    "        cluster.worker_model.batch_settings.add_preamble ( [\"source ~/.bashrc\", \"conda activate smartsim\"])"
   ]
  },
  {
   "cell_type": "markdown",
   "id": "04f74eed",
   "metadata": {},
   "source": [
    "We now generate the needed directories. If an experiment with the same name already exists, this call will fail, to avoid overwriting existing results. If we want to overwrite, we can simply pass `overwrite=True` to `exp.generate()`."
   ]
  },
  {
   "cell_type": "code",
   "execution_count": null,
   "id": "79e7996b",
   "metadata": {
    "tags": []
   },
   "outputs": [],
   "source": [
    "exp.generate(cluster, overwrite=True)"
   ]
  },
  {
   "cell_type": "markdown",
   "id": "7a36554a",
   "metadata": {},
   "source": [
    "Now we are ready to start the cluster!"
   ]
  },
  {
   "cell_type": "code",
   "execution_count": null,
   "id": "76107006",
   "metadata": {
    "tags": []
   },
   "outputs": [],
   "source": [
    "exp.start(cluster, block=False, summary=True)"
   ]
  },
  {
   "cell_type": "markdown",
   "id": "4010402f",
   "metadata": {},
   "source": [
    "## 2. Start the ray driver script\n",
    "\n",
    "Now we can just connect to our running server."
   ]
  },
  {
   "cell_type": "code",
   "execution_count": null,
   "id": "d59e8eb7",
   "metadata": {
    "tags": []
   },
   "outputs": [],
   "source": [
    "ray.init(\"ray://\"+cluster.get_head_address()+\":10001\")"
   ]
  },
  {
   "cell_type": "markdown",
   "id": "f4841c63",
   "metadata": {},
   "source": [
    "Now we check that all resources are set properly."
   ]
  },
  {
   "cell_type": "code",
   "execution_count": null,
   "id": "57905de3",
   "metadata": {
    "tags": []
   },
   "outputs": [],
   "source": [
    "print('''This cluster consists of\n",
    "    {} nodes in total\n",
    "    {} CPU resources in total\n",
    "'''.format(len(ray.nodes()), ray.cluster_resources()['CPU']))\n"
   ]
  },
  {
   "cell_type": "markdown",
   "id": "1eba51be-fb73-42dd-a67d-4de70d2840fb",
   "metadata": {},
   "source": [
    "And we can run a Ray Tune example, to see that everything is working!"
   ]
  },
  {
   "cell_type": "code",
   "execution_count": null,
   "id": "8fb9e2d7",
   "metadata": {
    "tags": []
   },
   "outputs": [],
   "source": [
    "tune.run(\n",
    "    \"PPO\",\n",
    "    stop={\"episode_reward_max\": 200},\n",
    "    config={\n",
    "        \"framework\": \"torch\",\n",
    "        \"env\": \"CartPole-v0\",\n",
    "        \"num_gpus\": 0,\n",
    "        \"lr\": tune.grid_search(np.linspace (0.001, 0.01, 50).tolist()),\n",
    "        \"log_level\": \"ERROR\",\n",
    "    },\n",
    "    local_dir=\"/lus/scratch/arigazzi/ray_local/\",\n",
    "    verbose=0,\n",
    "    fail_fast=True,\n",
    "    log_to_file=True,\n",
    ")"
   ]
  },
  {
   "cell_type": "markdown",
   "id": "29212811",
   "metadata": {},
   "source": [
    "## 3. Stop cluster and release allocation"
   ]
  },
  {
   "cell_type": "code",
   "execution_count": null,
   "id": "58774b6e",
   "metadata": {
    "tags": []
   },
   "outputs": [],
   "source": [
    "ray.util.disconnect()\n",
    "exp.stop(cluster)\n",
    "if alloc:\n",
    "    slurm.release_allocation(alloc)"
   ]
  },
  {
   "cell_type": "code",
   "execution_count": null,
   "id": "c2b3748a-dad4-46fa-9aa5-543c135e9b4b",
   "metadata": {},
   "outputs": [],
   "source": []
  }
 ],
 "metadata": {
  "interpreter": {
   "hash": "b738ecfe013e3ceede67431676fa5746fa1d95dad4240bd1c29430e75f30557e"
  },
  "kernelspec": {
   "display_name": "smartsim",
   "language": "python",
   "name": "smartsim"
  },
  "language_info": {
   "codemirror_mode": {
    "name": "ipython",
    "version": 3
   },
   "file_extension": ".py",
   "mimetype": "text/x-python",
   "name": "python",
   "nbconvert_exporter": "python",
   "pygments_lexer": "ipython3",
   "version": "3.7.10"
  }
 },
 "nbformat": 4,
 "nbformat_minor": 5
}
