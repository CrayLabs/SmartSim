{
 "cells": [
  {
   "cell_type": "markdown",
   "id": "42905082",
   "metadata": {},
   "source": [
    "# Setting up a Ray cluster with SmartSim"
   ]
  },
  {
   "cell_type": "markdown",
   "id": "a3dc796b",
   "metadata": {},
   "source": [
    "## 1. Start the cluster\n",
    "We set up a SmartSim experiment, which will handle the launch of the Ray cluster.\n",
    "\n",
    "First we import the relevant modules."
   ]
  },
  {
   "cell_type": "code",
   "execution_count": 6,
   "id": "74c17fe8",
   "metadata": {},
   "outputs": [],
   "source": [
    "from smartsim import Experiment, slurm\n",
    "from smartsim.ray import RayCluster\n",
    "\n",
    "NUM_WORKERS = 0\n",
    "alloc=None"
   ]
  },
  {
   "cell_type": "code",
   "execution_count": 7,
   "id": "e6a69118",
   "metadata": {
    "tags": []
   },
   "outputs": [
    {
     "name": "stdout",
     "output_type": "stream",
     "text": [
      "03:00:24 nid00152 SmartSim[9315] INFO Working in previously created experiment\n"
     ]
    }
   ],
   "source": [
    "exp = Experiment(\"ray-cluster\", launcher='slurm')\n",
    "cluster = RayCluster(name=\"ray-cluster\", run_args={\"partition\": \"ccm_queue\", \"time\":\"06:00:00\", \"exclusive\": None, \"hint\": \"nomultithread\"}, path='',\n",
    "                     launcher='slurm', workers=NUM_WORKERS, alloc=alloc, batch=False, ray_num_cpus=12)\n",
    "\n",
    "if cluster.batch:\n",
    "    cluster.head_model.batch_settings._preamble = [\"module load ccm\", \"source ~/.bashrc\",\n",
    "                                                   \"conda activate smartsim\",\n",
    "                                                   \"ulimit -s unlimited\", \"ulimit -u unlimited\",\n",
    "                                                   \"ulimit -n unlimited\", \"ulimit -c unlimited\",\n",
    "                                                   \"ulimit -a\"]\n",
    "\n",
    "# if NUM_WORKERS:\n",
    "#     cluster.worker_model.batch_settings._preamble = [\"source ~/.bashrc\", \"conda activate smartsim\"]\n",
    "exp.generate(cluster, overwrite=True)"
   ]
  },
  {
   "cell_type": "code",
   "execution_count": 8,
   "id": "b255fa37",
   "metadata": {
    "tags": []
   },
   "outputs": [
    {
     "name": "stdout",
     "output_type": "stream",
     "text": [
      "03:00:34 nid00152 SmartSim[9315] INFO Ray cluster launched on nodes: ['nid00152']\n"
     ]
    }
   ],
   "source": [
    "exp.start(cluster, block=False, summary=False)"
   ]
  },
  {
   "cell_type": "markdown",
   "id": "f0af6be4",
   "metadata": {},
   "source": [
    "## 2. Start the ray driver script"
   ]
  },
  {
   "cell_type": "code",
   "execution_count": 9,
   "id": "c3a5d5af",
   "metadata": {},
   "outputs": [],
   "source": [
    "cluster.start_ray_job('/lus/scratch/arigazzi/smartsim-dev/SmartSim/tutorials/05_starting_ray/templates/ppo_tune.py')"
   ]
  },
  {
   "cell_type": "markdown",
   "id": "4742ce83",
   "metadata": {},
   "source": [
    "## 3. Stop cluster and release allocation"
   ]
  },
  {
   "cell_type": "code",
   "execution_count": 5,
   "id": "100a7123",
   "metadata": {},
   "outputs": [
    {
     "name": "stdout",
     "output_type": "stream",
     "text": [
      "03:00:18 nid00152 SmartSim[9315] INFO Stopping model head with job name head-CBBY9A6N8OND\n"
     ]
    }
   ],
   "source": [
    "exp.stop(cluster)"
   ]
  },
  {
   "cell_type": "code",
   "execution_count": 9,
   "id": "24151d8f",
   "metadata": {},
   "outputs": [
    {
     "name": "stdout",
     "output_type": "stream",
     "text": [
      "05:51:53 osprey.us.cray.com SmartSim[131434] INFO Releasing allocation: 230194\n",
      "05:51:53 osprey.us.cray.com SmartSim[131434] INFO Successfully freed allocation 230194\n"
     ]
    }
   ],
   "source": [
    "# slurm.release_allocation(alloc)"
   ]
  },
  {
   "cell_type": "code",
   "execution_count": null,
   "id": "4faf9607",
   "metadata": {},
   "outputs": [],
   "source": []
  },
  {
   "cell_type": "code",
   "execution_count": 15,
   "id": "514ffc63",
   "metadata": {},
   "outputs": [
    {
     "name": "stdout",
     "output_type": "stream",
     "text": [
      "   JOBID     USER ACCOUNT           NAME  ST REASON    START_TIME                TIME  TIME_LEFT NODES CPUS\n",
      " 1288493    kshry  (null)   check-pstree   R None      2021-05-12T13:10:51       0:06      59:54     1  112\n",
      " 1288067 arigazzi  (null)    interactive   R None      2021-05-12T11:31:15    1:39:42   10:20:18     5  180\n",
      " 1212692     ssuj  (null)          aries  PD ReqNodeNo N/A                       0:00    1:00:00     1    1\n",
      " 1212693     ssuj  (null)          aries  PD ReqNodeNo N/A                       0:00    1:00:00     1    1\n",
      " 1244466     vers  (null)    xtmemtester  PD ReqNodeNo N/A                       0:00      20:00     1    1\n",
      " 1246955     vers  (null)    xtmemtester  PD ReqNodeNo N/A                       0:00      40:00     1    1\n",
      " 1256833     vers  (null)    xtmemtester  PD ReqNodeNo N/A                       0:00      40:00     1    1\n",
      " 1261674     vers  (null)    xtmemtester  PD ReqNodeNo N/A                       0:00      40:00     1    1\n",
      " 1267800     vers  (null)    xtmemtester  PD ReqNodeNo N/A                       0:00      20:00     1    1\n",
      " 1288494    kshry  (null)   check-pstree  PD Resources 2021-05-12T14:10:51       0:00    1:00:00     1  112\n",
      " 1288495    kshry  (null)   check-pstree  PD ReqNodeNo 2021-05-12T15:10:00       0:00    1:00:00     1  112\n"
     ]
    }
   ],
   "source": [
    "!squeue"
   ]
  },
  {
   "cell_type": "code",
   "execution_count": 6,
   "id": "64a98698",
   "metadata": {},
   "outputs": [],
   "source": [
    "!scancel 1277211\n"
   ]
  },
  {
   "cell_type": "code",
   "execution_count": null,
   "id": "68019ac7",
   "metadata": {},
   "outputs": [],
   "source": []
  }
 ],
 "metadata": {
  "kernelspec": {
   "display_name": "smartsim",
   "language": "python",
   "name": "smartsim"
  },
  "language_info": {
   "codemirror_mode": {
    "name": "ipython",
    "version": 3
   },
   "file_extension": ".py",
   "mimetype": "text/x-python",
   "name": "python",
   "nbconvert_exporter": "python",
   "pygments_lexer": "ipython3",
   "version": "3.8.8"
  }
 },
 "nbformat": 4,
 "nbformat_minor": 5
}
