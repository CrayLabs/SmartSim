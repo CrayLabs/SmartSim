{
 "cells": [
  {
   "cell_type": "markdown",
   "id": "481b74ba",
   "metadata": {},
   "source": [
    "# Setting up a Ray cluster with SmartSim\n",
    "\n",
    "In this notebook we will see how to set up a Ray cluster on a system using SLURM as workload manager (WLM).\n",
    "\n",
    "This notebook is based on [this github repo by NERSC](https://github.com/NERSC/slurm-ray-cluster/blob/master/submit-ray-cluster.sbatch) and on [this stack overflow post](https://github.com/ray-project/ray/issues/826#issuecomment-522116599).\n",
    "\n",
    "We will have to do four steps:\n",
    "1. Start the head node\n",
    "2. Start the workers\n",
    "3. Run a test workload\n",
    "4. Stop all nodes"
   ]
  },
  {
   "cell_type": "markdown",
   "id": "c6842142",
   "metadata": {},
   "source": [
    "## 1. Start the head node\n",
    "We set up a SmartSim experiment, which will handle the launch of the ray head node."
   ]
  },
  {
   "cell_type": "code",
   "execution_count": 1,
   "id": "5b1ef086",
   "metadata": {},
   "outputs": [],
   "source": [
    "import os\n",
    "from smartsim import Experiment\n",
    "from smartsim.settings import SbatchSettings, SrunSettings, RunSettings\n",
    "import time\n",
    "import uuid\n",
    "import re"
   ]
  },
  {
   "cell_type": "code",
   "execution_count": 2,
   "id": "3e3fc33d",
   "metadata": {},
   "outputs": [
    {
     "name": "stdout",
     "output_type": "stream",
     "text": [
      "08:56:40 prod-0001 SmartSim[21136] INFO Working in previously created experiment\n",
      "Ray cluster's head is running at 10.10.1.5\n"
     ]
    }
   ],
   "source": [
    "# The experiment is local because we are on a compute node\n",
    "exp = Experiment(\"ray_head_exp\", launcher='local')\n",
    "\n",
    "RAY_PORT=6379\n",
    "REDIS_PW=uuid.uuid4()\n",
    "\n",
    "shell_script = \"manual-start.sh\"\n",
    "shell_script = \"start-head.sh\"\n",
    "\n",
    "head_settings = RunSettings(\"bash\", shell_script)\n",
    "\n",
    "head_node_params = {\"RAY_PORT\": RAY_PORT, \"REDIS_PASSWORD\": REDIS_PW, \"CONDA_ENV\": \"smartsim\"}\n",
    "head_node_model = exp.create_model(\"head_node\", path='/lus/sonexion/arigazzi/smartsim-dev/SmartSim/tutorials/05_starting_ray/head_exp',\n",
    "                                   run_settings=head_settings, params=head_node_params)\n",
    "head_node_model.attach_generator_files(to_configure=['./templates/'+shell_script])\n",
    "exp.generate(head_node_model, overwrite=True)\n",
    "\n",
    "exp.start(head_node_model, block=False, summary=False)\n",
    "\n",
    "time.sleep(1)\n",
    "head_log = os.path.join(head_node_model.path, \"head_node.out\")\n",
    "while not os.path.isfile(head_log):\n",
    "    time.sleep(1)\n",
    "\n",
    "head_ip = None\n",
    "while head_ip is None:\n",
    "    time.sleep(5)\n",
    "    with open(head_log) as fp:\n",
    "        line = fp.readline()\n",
    "        while line:\n",
    "            plain_line = re.sub('\\033\\\\[([0-9]+)(;[0-9]+)*m', '', line) \n",
    "            if \"Local node IP:\" in plain_line:\n",
    "                matches=re.search(r'(?<=Local node IP: ).*', plain_line)\n",
    "                head_ip = matches.group()\n",
    "                print(f\"Ray cluster's head is running at {head_ip}\")\n",
    "            line = fp.readline()"
   ]
  },
  {
   "cell_type": "code",
   "execution_count": 36,
   "id": "07131dcd",
   "metadata": {},
   "outputs": [
    {
     "name": "stdout",
     "output_type": "stream",
     "text": [
      "13:52:12 prod-0125 SmartSim[3038] INFO Stopping model head_node with job name head_node-CAYQ3OBWQN8H\n"
     ]
    }
   ],
   "source": [
    "exp.stop(head_node_model)"
   ]
  },
  {
   "cell_type": "markdown",
   "id": "971db8d9",
   "metadata": {},
   "source": [
    "We now have started the head node, the next step is to start the workers!\n",
    "\n",
    "# 2. Start the worker nodes\n",
    "\n",
    "We will start the workers as a batch. Each worker has to start on a different node, as a single task. We will rely on `srun` for this."
   ]
  },
  {
   "cell_type": "code",
   "execution_count": 11,
   "id": "53628b72",
   "metadata": {},
   "outputs": [
    {
     "name": "stdout",
     "output_type": "stream",
     "text": [
      "10:27:41 prod-0001 SmartSim[21136] INFO Working in previously created experiment\n",
      "10:27:41 prod-0001 SmartSim[21136] INFO Empty ensemble created for batch launch\n"
     ]
    }
   ],
   "source": [
    "exp_workers = Experiment(\"ray_worker_exp\", launcher='slurm')\n",
    "\n",
    "num_worker_nodes = 16\n",
    "worker_run_args = {\"nodes\": num_worker_nodes,\n",
    "                   \"ntasks-per-node\": 1, # Ray will take care of resources.\n",
    "                   \"ntasks\": num_worker_nodes,\n",
    "                   \"oversubscribe\": None,\n",
    "                   \"overcommit\": None,\n",
    "                   \"time\": \"01:00:00\",\n",
    "                   \"unbuffered\": None,\n",
    "                   \"cpus-per-task\": 32}\n",
    "\n",
    "conda_settings_1 = RunSettings(\"source\", \"~/.bashrc\", block_in_batch=True, expand_exe=False)\n",
    "worker_settings = SrunSettings(\"bash\", \"start-worker.sh\",\n",
    "                               expand_exe=False, block_in_batch=False, run_args=worker_run_args)\n",
    "\n",
    "conda_model_1 = exp_workers.create_model(\"conda_sh\", path=\"/lus/sonexion/arigazzi/smartsim-dev/SmartSim/tutorials/05_starting_ray\",\n",
    "                                run_settings=conda_settings_1)\n",
    "\n",
    "\n",
    "worker_node_params = {\"HEAD_ADDRESS\": head_ip+\":\"+str(RAY_PORT), \"REDIS_PASSWORD\": REDIS_PW, \"CONDA_ENV\": \"smartsim\"}\n",
    "worker_node_model = exp_workers.create_model(\"worker_nodes\", path='/lus/sonexion/arigazzi/smartsim-dev/SmartSim/tutorials/05_starting_ray/head_exp',\n",
    "                                   run_settings=worker_settings, params=worker_node_params)\n",
    "worker_node_model.attach_generator_files(to_configure=['./templates/start-worker.sh'])\n",
    "exp_workers.generate(worker_node_model, overwrite=True)\n",
    "    \n",
    "worker_batch = SbatchSettings(nodes=num_worker_nodes, time=\"01:00:00\")\n",
    "worker_ensemble = exp.create_ensemble(\"worker-ens\", batch_settings=worker_batch)\n",
    "worker_ensemble.add_model(conda_model_1)\n",
    "worker_ensemble.add_model(worker_node_model)\n",
    "\n",
    "exp_workers.start(worker_ensemble, block=False, summary=False)"
   ]
  },
  {
   "cell_type": "code",
   "execution_count": 10,
   "id": "b2a197b2",
   "metadata": {},
   "outputs": [
    {
     "name": "stdout",
     "output_type": "stream",
     "text": [
      "10:27:04 prod-0001 SmartSim[21136] INFO Stopping model worker-ens with job name worker-ens-CAZFJNPKABQ2\n"
     ]
    }
   ],
   "source": [
    "exp_workers.stop(worker_ensemble)"
   ]
  },
  {
   "cell_type": "markdown",
   "id": "f5b0f501",
   "metadata": {},
   "source": [
    "and the workers are running! Now let's run a test script!\n",
    "\n",
    "# 3. Execute script\n",
    "\n",
    "The script will run an MNIST training. It will start locally, distributing the work across workers. We will just need to supply the cluster address. "
   ]
  },
  {
   "cell_type": "code",
   "execution_count": 12,
   "id": "c526953a",
   "metadata": {},
   "outputs": [
    {
     "name": "stdout",
     "output_type": "stream",
     "text": [
      "10:27:56 prod-0001 SmartSim[21136] INFO Working in previously created experiment\n",
      "\n",
      "\n",
      "\u001b[36;1m=== LAUNCH SUMMARY ===\u001b[0m\n",
      "\u001b[32;1mExperiment: MNIST\u001b[0m\n",
      "\u001b[32mExperiment Path: /lus/sonexion/arigazzi/smartsim-dev/SmartSim/tutorials/05_starting_ray/MNIST\u001b[0m\n",
      "\u001b[32mLaunching with: local\u001b[0m\n",
      "\u001b[32m# of Ensembles: 0\u001b[0m\n",
      "\u001b[32m# of Models: 1\u001b[0m\n",
      "\u001b[32mDatabase: no\u001b[0m\n",
      "\n",
      "\u001b[36;1m=== MODELS ===\u001b[0m\n",
      "\u001b[32;1mMNIST-test\u001b[0m\n",
      "\u001b[32mModel Parameters: \n",
      "{}\u001b[0m\n",
      "\u001b[32mModel Run Settings: \n",
      "Executable: /lus/scratch/arigazzi/anaconda3/envs/smartsim/bin/python\n",
      "Executable arguments: ['ppo_tune.py', '--ray-address=10.10.1.5:6379', '--redis-password=6389b11d-fcff-4125-ad82-13a3db92eefb']\n",
      "\u001b[0m\n",
      "\n",
      "\n",
      "\n",
      "\n"
     ]
    },
    {
     "name": "stderr",
     "output_type": "stream",
     "text": [
      "                                                                                \r"
     ]
    },
    {
     "name": "stdout",
     "output_type": "stream",
     "text": [
      "10:58:48 prod-0001 SmartSim[21136] INFO MNIST-test(34525): Completed\n"
     ]
    }
   ],
   "source": [
    "mnist_exp = Experiment(\"MNIST\", launcher='local')\n",
    "\n",
    "\n",
    "mnist_exe_args = \"start-script.sh\"\n",
    "mnist_exe_args = f\"ppo_tune.py --ray-address={head_ip}:{RAY_PORT} --redis-password={REDIS_PW}\"\n",
    "\n",
    "# mnist_run_args = {\"nodes\": 1,\n",
    "#                    \"ntasks-per-node\": 1, # Ray will take care of resources.\n",
    "#                    \"ntasks\": 1,\n",
    "#                    \"oversubscribe\": None,\n",
    "#                    \"overcommit\": None,\n",
    "#                    \"time\": \"01:00:00\",\n",
    "#                    \"unbuffered\": None,\n",
    "#                    \"cpus-per-task\": 36}\n",
    "\n",
    "#mnist_params = {\"HEAD_ADDRESS\": head_ip+\":\"+str(RAY_PORT), \"REDIS_PASSWORD\": REDIS_PW}\n",
    "mnist_settings = RunSettings(\"/lus/scratch/arigazzi/anaconda3/envs/smartsim/bin/python\", mnist_exe_args, expand_exe=False)#, run_args=mnist_run_args)\n",
    "mnist_model = mnist_exp.create_model(\"MNIST-test\", path='./mnist_test',\n",
    "                                     run_settings = mnist_settings)#, params=mnist_params)\n",
    "mnist_model.attach_generator_files(to_copy=['./templates/ppo_tune.py'])#, to_configure=['./templates/start-script.sh'])\n",
    "mnist_exp.generate(mnist_model, overwrite=True)\n",
    "mnist_exp.start(mnist_model, summary=True, block=False)"
   ]
  },
  {
   "cell_type": "code",
   "execution_count": 11,
   "id": "cd9a1184",
   "metadata": {},
   "outputs": [],
   "source": [
    "mnist_exp.stop(mnist_model)\n",
    "\n",
    "# exp.stop(worker_ensemble)\n",
    "# exp.stop(head_ensemble)"
   ]
  },
  {
   "cell_type": "code",
   "execution_count": 5,
   "id": "9d3f2c19",
   "metadata": {},
   "outputs": [],
   "source": [
    "mnist_exp.poll()"
   ]
  },
  {
   "cell_type": "code",
   "execution_count": 6,
   "id": "075d98c5",
   "metadata": {},
   "outputs": [
    {
     "name": "stdout",
     "output_type": "stream",
     "text": [
      "             JOBID PARTITION     NAME     USER ST       TIME  NODES NODELIST(REASON)\n",
      "            215589     bdw18 interact arigazzi  R      40:50      1 prod-0001\n",
      "            215592     bdw18 worker-e arigazzi  R      37:35      2 prod-[0018-0019]\n",
      "            215597    spider     make alazzaro  R      11:31      1 spider-0002\n"
     ]
    }
   ],
   "source": [
    "!squeue"
   ]
  },
  {
   "cell_type": "code",
   "execution_count": 8,
   "id": "85e44934",
   "metadata": {},
   "outputs": [],
   "source": [
    "!scancel 214555"
   ]
  },
  {
   "cell_type": "code",
   "execution_count": null,
   "id": "d5bc6586-e4d3-4ff1-978f-fe5790e58020",
   "metadata": {},
   "outputs": [],
   "source": []
  }
 ],
 "metadata": {
  "kernelspec": {
   "display_name": "smartsim",
   "language": "python",
   "name": "smartsim"
  },
  "language_info": {
   "codemirror_mode": {
    "name": "ipython",
    "version": 3
   },
   "file_extension": ".py",
   "mimetype": "text/x-python",
   "name": "python",
   "nbconvert_exporter": "python",
   "pygments_lexer": "ipython3",
   "version": "3.7.10"
  }
 },
 "nbformat": 4,
 "nbformat_minor": 5
}
