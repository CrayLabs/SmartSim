{
 "cells": [
  {
   "cell_type": "markdown",
   "id": "986aa579-ce26-4eae-9e99-e7163ce4b929",
   "metadata": {},
   "source": [
    "# Setting up a Ray cluster with SmartSim\n",
    "\n",
    "In this notebook we will see how to set up a Ray cluster on a system using SLURM as workload manager (WLM).\n",
    "\n",
    "This notebook is based on [this github repo by NERSC](https://github.com/NERSC/slurm-ray-cluster/blob/master/submit-ray-cluster.sbatch) and on [this stack overflow post](https://github.com/ray-project/ray/issues/826#issuecomment-522116599).\n",
    "\n",
    "We will have to do four steps:\n",
    "1. Start the head node\n",
    "2. Start the workers\n",
    "3. Run a test workload\n",
    "4. Stop all nodes"
   ]
  },
  {
   "cell_type": "markdown",
   "id": "8bae4218-c8d4-400c-9cc9-c3fd11529ecb",
   "metadata": {},
   "source": [
    "## 1. Start the head node\n",
    "We set up a SmartSim experiment, which will handle the launch of the ray head node."
   ]
  },
  {
   "cell_type": "code",
   "execution_count": 1,
   "id": "5d09e059-9e98-4ce6-aa79-8f06ca122023",
   "metadata": {},
   "outputs": [
    {
     "ename": "ImportError",
     "evalue": "cannot import name 'bytes' from 'redis._compat' (/lus/scratch/arigazzi/anaconda3/envs/smartsim/lib/python3.7/site-packages/redis/_compat.py)",
     "output_type": "error",
     "traceback": [
      "\u001b[0;31m---------------------------------------------------------------------------\u001b[0m",
      "\u001b[0;31mImportError\u001b[0m                               Traceback (most recent call last)",
      "\u001b[0;32m<ipython-input-1-744481909cf6>\u001b[0m in \u001b[0;36m<module>\u001b[0;34m\u001b[0m\n\u001b[1;32m      1\u001b[0m \u001b[0;32mimport\u001b[0m \u001b[0mos\u001b[0m\u001b[0;34m\u001b[0m\u001b[0;34m\u001b[0m\u001b[0m\n\u001b[0;32m----> 2\u001b[0;31m \u001b[0;32mfrom\u001b[0m \u001b[0msmartsim\u001b[0m \u001b[0;32mimport\u001b[0m \u001b[0mExperiment\u001b[0m\u001b[0;34m,\u001b[0m \u001b[0mconstants\u001b[0m\u001b[0;34m\u001b[0m\u001b[0;34m\u001b[0m\u001b[0m\n\u001b[0m\u001b[1;32m      3\u001b[0m \u001b[0;32mfrom\u001b[0m \u001b[0msmartsim\u001b[0m\u001b[0;34m.\u001b[0m\u001b[0msettings\u001b[0m \u001b[0;32mimport\u001b[0m \u001b[0mSbatchSettings\u001b[0m\u001b[0;34m,\u001b[0m \u001b[0mSrunSettings\u001b[0m\u001b[0;34m,\u001b[0m \u001b[0mRunSettings\u001b[0m\u001b[0;34m\u001b[0m\u001b[0;34m\u001b[0m\u001b[0m\n",
      "\u001b[0;32m/lus/sonexion/arigazzi/smartsim-dev/SmartSim/smartsim/__init__.py\u001b[0m in \u001b[0;36m<module>\u001b[0;34m\u001b[0m\n\u001b[1;32m     34\u001b[0m \u001b[0;34m\u001b[0m\u001b[0m\n\u001b[1;32m     35\u001b[0m \u001b[0;31m# Main API module\u001b[0m\u001b[0;34m\u001b[0m\u001b[0;34m\u001b[0m\u001b[0;34m\u001b[0m\u001b[0m\n\u001b[0;32m---> 36\u001b[0;31m \u001b[0;32mfrom\u001b[0m \u001b[0;34m.\u001b[0m\u001b[0mexperiment\u001b[0m \u001b[0;32mimport\u001b[0m \u001b[0mExperiment\u001b[0m\u001b[0;34m\u001b[0m\u001b[0;34m\u001b[0m\u001b[0m\n\u001b[0m\u001b[1;32m     37\u001b[0m \u001b[0;34m\u001b[0m\u001b[0m\n\u001b[1;32m     38\u001b[0m \u001b[0;31m# Slurm helpers\u001b[0m\u001b[0;34m\u001b[0m\u001b[0;34m\u001b[0m\u001b[0;34m\u001b[0m\u001b[0m\n",
      "\u001b[0;32m/lus/sonexion/arigazzi/smartsim-dev/SmartSim/smartsim/experiment.py\u001b[0m in \u001b[0;36m<module>\u001b[0;34m\u001b[0m\n\u001b[1;32m     33\u001b[0m \u001b[0;32mfrom\u001b[0m \u001b[0mtqdm\u001b[0m \u001b[0;32mimport\u001b[0m \u001b[0mtrange\u001b[0m\u001b[0;34m\u001b[0m\u001b[0;34m\u001b[0m\u001b[0m\n\u001b[1;32m     34\u001b[0m \u001b[0;34m\u001b[0m\u001b[0m\n\u001b[0;32m---> 35\u001b[0;31m \u001b[0;32mfrom\u001b[0m \u001b[0;34m.\u001b[0m\u001b[0mcontrol\u001b[0m \u001b[0;32mimport\u001b[0m \u001b[0mController\u001b[0m\u001b[0;34m\u001b[0m\u001b[0;34m\u001b[0m\u001b[0m\n\u001b[0m\u001b[1;32m     36\u001b[0m \u001b[0;32mfrom\u001b[0m \u001b[0;34m.\u001b[0m\u001b[0mentity\u001b[0m \u001b[0;32mimport\u001b[0m \u001b[0mEnsemble\u001b[0m\u001b[0;34m,\u001b[0m \u001b[0mEntityList\u001b[0m\u001b[0;34m,\u001b[0m \u001b[0mModel\u001b[0m\u001b[0;34m,\u001b[0m \u001b[0mSmartSimEntity\u001b[0m\u001b[0;34m\u001b[0m\u001b[0;34m\u001b[0m\u001b[0m\n\u001b[1;32m     37\u001b[0m \u001b[0;32mfrom\u001b[0m \u001b[0;34m.\u001b[0m\u001b[0merror\u001b[0m \u001b[0;32mimport\u001b[0m \u001b[0mSmartSimError\u001b[0m\u001b[0;34m\u001b[0m\u001b[0;34m\u001b[0m\u001b[0m\n",
      "\u001b[0;32m/lus/sonexion/arigazzi/smartsim-dev/SmartSim/smartsim/control/__init__.py\u001b[0m in \u001b[0;36m<module>\u001b[0;34m\u001b[0m\n\u001b[0;32m----> 1\u001b[0;31m \u001b[0;32mfrom\u001b[0m \u001b[0;34m.\u001b[0m\u001b[0mcontroller\u001b[0m \u001b[0;32mimport\u001b[0m \u001b[0mController\u001b[0m\u001b[0;34m\u001b[0m\u001b[0;34m\u001b[0m\u001b[0m\n\u001b[0m",
      "\u001b[0;32m/lus/sonexion/arigazzi/smartsim-dev/SmartSim/smartsim/control/controller.py\u001b[0m in \u001b[0;36m<module>\u001b[0;34m\u001b[0m\n\u001b[1;32m     32\u001b[0m \u001b[0;32mfrom\u001b[0m \u001b[0;34m.\u001b[0m\u001b[0;34m.\u001b[0m\u001b[0mconfig\u001b[0m \u001b[0;32mimport\u001b[0m \u001b[0mCONFIG\u001b[0m\u001b[0;34m\u001b[0m\u001b[0;34m\u001b[0m\u001b[0m\n\u001b[1;32m     33\u001b[0m \u001b[0;32mfrom\u001b[0m \u001b[0;34m.\u001b[0m\u001b[0;34m.\u001b[0m\u001b[0mconstants\u001b[0m \u001b[0;32mimport\u001b[0m \u001b[0mSTATUS_RUNNING\u001b[0m\u001b[0;34m,\u001b[0m \u001b[0mTERMINAL_STATUSES\u001b[0m\u001b[0;34m\u001b[0m\u001b[0;34m\u001b[0m\u001b[0m\n\u001b[0;32m---> 34\u001b[0;31m \u001b[0;32mfrom\u001b[0m \u001b[0;34m.\u001b[0m\u001b[0;34m.\u001b[0m\u001b[0mdatabase\u001b[0m \u001b[0;32mimport\u001b[0m \u001b[0mOrchestrator\u001b[0m\u001b[0;34m\u001b[0m\u001b[0;34m\u001b[0m\u001b[0m\n\u001b[0m\u001b[1;32m     35\u001b[0m \u001b[0;32mfrom\u001b[0m \u001b[0;34m.\u001b[0m\u001b[0;34m.\u001b[0m\u001b[0mentity\u001b[0m \u001b[0;32mimport\u001b[0m \u001b[0mDBNode\u001b[0m\u001b[0;34m,\u001b[0m \u001b[0mEntityList\u001b[0m\u001b[0;34m,\u001b[0m \u001b[0mSmartSimEntity\u001b[0m\u001b[0;34m\u001b[0m\u001b[0;34m\u001b[0m\u001b[0m\n\u001b[1;32m     36\u001b[0m \u001b[0;32mfrom\u001b[0m \u001b[0;34m.\u001b[0m\u001b[0;34m.\u001b[0m\u001b[0merror\u001b[0m \u001b[0;32mimport\u001b[0m \u001b[0mLauncherError\u001b[0m\u001b[0;34m,\u001b[0m \u001b[0mSmartSimError\u001b[0m\u001b[0;34m,\u001b[0m \u001b[0mSSConfigError\u001b[0m\u001b[0;34m,\u001b[0m \u001b[0mSSUnsupportedError\u001b[0m\u001b[0;34m\u001b[0m\u001b[0;34m\u001b[0m\u001b[0m\n",
      "\u001b[0;32m/lus/sonexion/arigazzi/smartsim-dev/SmartSim/smartsim/database/__init__.py\u001b[0m in \u001b[0;36m<module>\u001b[0;34m\u001b[0m\n\u001b[0;32m----> 1\u001b[0;31m \u001b[0;32mfrom\u001b[0m \u001b[0;34m.\u001b[0m\u001b[0mcobaltOrchestrator\u001b[0m \u001b[0;32mimport\u001b[0m \u001b[0mCobaltOrchestrator\u001b[0m\u001b[0;34m\u001b[0m\u001b[0;34m\u001b[0m\u001b[0m\n\u001b[0m\u001b[1;32m      2\u001b[0m \u001b[0;32mfrom\u001b[0m \u001b[0;34m.\u001b[0m\u001b[0morchestrator\u001b[0m \u001b[0;32mimport\u001b[0m \u001b[0mOrchestrator\u001b[0m\u001b[0;34m\u001b[0m\u001b[0;34m\u001b[0m\u001b[0m\n\u001b[1;32m      3\u001b[0m \u001b[0;32mfrom\u001b[0m \u001b[0;34m.\u001b[0m\u001b[0mpbsOrchestrator\u001b[0m \u001b[0;32mimport\u001b[0m \u001b[0mPBSOrchestrator\u001b[0m\u001b[0;34m\u001b[0m\u001b[0;34m\u001b[0m\u001b[0m\n\u001b[1;32m      4\u001b[0m \u001b[0;32mfrom\u001b[0m \u001b[0;34m.\u001b[0m\u001b[0mslurmOrchestrator\u001b[0m \u001b[0;32mimport\u001b[0m \u001b[0mSlurmOrchestrator\u001b[0m\u001b[0;34m\u001b[0m\u001b[0;34m\u001b[0m\u001b[0m\n",
      "\u001b[0;32m/lus/sonexion/arigazzi/smartsim-dev/SmartSim/smartsim/database/cobaltOrchestrator.py\u001b[0m in \u001b[0;36m<module>\u001b[0;34m\u001b[0m\n\u001b[1;32m     29\u001b[0m \u001b[0;32mfrom\u001b[0m \u001b[0;34m.\u001b[0m\u001b[0;34m.\u001b[0m\u001b[0merror\u001b[0m \u001b[0;32mimport\u001b[0m \u001b[0mSmartSimError\u001b[0m\u001b[0;34m,\u001b[0m \u001b[0mSSUnsupportedError\u001b[0m\u001b[0;34m\u001b[0m\u001b[0;34m\u001b[0m\u001b[0m\n\u001b[1;32m     30\u001b[0m \u001b[0;32mfrom\u001b[0m \u001b[0;34m.\u001b[0m\u001b[0;34m.\u001b[0m\u001b[0msettings\u001b[0m \u001b[0;32mimport\u001b[0m \u001b[0mAprunSettings\u001b[0m\u001b[0;34m,\u001b[0m \u001b[0mCobaltBatchSettings\u001b[0m\u001b[0;34m,\u001b[0m \u001b[0mMpirunSettings\u001b[0m\u001b[0;34m\u001b[0m\u001b[0;34m\u001b[0m\u001b[0m\n\u001b[0;32m---> 31\u001b[0;31m \u001b[0;32mfrom\u001b[0m \u001b[0;34m.\u001b[0m\u001b[0morchestrator\u001b[0m \u001b[0;32mimport\u001b[0m \u001b[0mOrchestrator\u001b[0m\u001b[0;34m\u001b[0m\u001b[0;34m\u001b[0m\u001b[0m\n\u001b[0m\u001b[1;32m     32\u001b[0m \u001b[0;34m\u001b[0m\u001b[0m\n\u001b[1;32m     33\u001b[0m \u001b[0;34m\u001b[0m\u001b[0m\n",
      "\u001b[0;32m/lus/sonexion/arigazzi/smartsim-dev/SmartSim/smartsim/database/orchestrator.py\u001b[0m in \u001b[0;36m<module>\u001b[0;34m\u001b[0m\n\u001b[1;32m     32\u001b[0m \u001b[0;32mfrom\u001b[0m \u001b[0mos\u001b[0m \u001b[0;32mimport\u001b[0m \u001b[0mgetcwd\u001b[0m\u001b[0;34m\u001b[0m\u001b[0;34m\u001b[0m\u001b[0m\n\u001b[1;32m     33\u001b[0m \u001b[0;34m\u001b[0m\u001b[0m\n\u001b[0;32m---> 34\u001b[0;31m \u001b[0;32mfrom\u001b[0m \u001b[0mrediscluster\u001b[0m \u001b[0;32mimport\u001b[0m \u001b[0mRedisCluster\u001b[0m\u001b[0;34m\u001b[0m\u001b[0;34m\u001b[0m\u001b[0m\n\u001b[0m\u001b[1;32m     35\u001b[0m \u001b[0;32mfrom\u001b[0m \u001b[0mrediscluster\u001b[0m\u001b[0;34m.\u001b[0m\u001b[0mexceptions\u001b[0m \u001b[0;32mimport\u001b[0m \u001b[0mClusterDownError\u001b[0m\u001b[0;34m\u001b[0m\u001b[0;34m\u001b[0m\u001b[0m\n\u001b[1;32m     36\u001b[0m \u001b[0;34m\u001b[0m\u001b[0m\n",
      "\u001b[0;32m/lus/scratch/arigazzi/anaconda3/envs/smartsim/lib/python3.7/site-packages/rediscluster/__init__.py\u001b[0m in \u001b[0;36m<module>\u001b[0;34m\u001b[0m\n\u001b[1;32m      5\u001b[0m \u001b[0;34m\u001b[0m\u001b[0m\n\u001b[1;32m      6\u001b[0m \u001b[0;31m# Import shortcut\u001b[0m\u001b[0;34m\u001b[0m\u001b[0;34m\u001b[0m\u001b[0;34m\u001b[0m\u001b[0m\n\u001b[0;32m----> 7\u001b[0;31m \u001b[0;32mfrom\u001b[0m \u001b[0;34m.\u001b[0m\u001b[0mclient\u001b[0m \u001b[0;32mimport\u001b[0m \u001b[0mRedisCluster\u001b[0m\u001b[0;34m\u001b[0m\u001b[0;34m\u001b[0m\u001b[0m\n\u001b[0m\u001b[1;32m      8\u001b[0m \u001b[0;32mfrom\u001b[0m \u001b[0;34m.\u001b[0m\u001b[0mpipeline\u001b[0m \u001b[0;32mimport\u001b[0m \u001b[0mClusterPipeline\u001b[0m\u001b[0;34m\u001b[0m\u001b[0;34m\u001b[0m\u001b[0m\n\u001b[1;32m      9\u001b[0m \u001b[0;32mfrom\u001b[0m \u001b[0;34m.\u001b[0m\u001b[0mpubsub\u001b[0m \u001b[0;32mimport\u001b[0m \u001b[0mClusterPubSub\u001b[0m\u001b[0;34m\u001b[0m\u001b[0;34m\u001b[0m\u001b[0m\n",
      "\u001b[0;32m/lus/scratch/arigazzi/anaconda3/envs/smartsim/lib/python3.7/site-packages/rediscluster/client.py\u001b[0m in \u001b[0;36m<module>\u001b[0;34m\u001b[0m\n\u001b[1;32m      9\u001b[0m \u001b[0;34m\u001b[0m\u001b[0m\n\u001b[1;32m     10\u001b[0m \u001b[0;31m# rediscluster imports\u001b[0m\u001b[0;34m\u001b[0m\u001b[0;34m\u001b[0m\u001b[0;34m\u001b[0m\u001b[0m\n\u001b[0;32m---> 11\u001b[0;31m from .connection import (\n\u001b[0m\u001b[1;32m     12\u001b[0m     \u001b[0mClusterConnectionPool\u001b[0m\u001b[0;34m,\u001b[0m\u001b[0;34m\u001b[0m\u001b[0;34m\u001b[0m\u001b[0m\n\u001b[1;32m     13\u001b[0m     \u001b[0mClusterReadOnlyConnectionPool\u001b[0m\u001b[0;34m,\u001b[0m\u001b[0;34m\u001b[0m\u001b[0;34m\u001b[0m\u001b[0m\n",
      "\u001b[0;32m/lus/scratch/arigazzi/anaconda3/envs/smartsim/lib/python3.7/site-packages/rediscluster/connection.py\u001b[0m in \u001b[0;36m<module>\u001b[0;34m\u001b[0m\n\u001b[1;32m     10\u001b[0m \u001b[0;34m\u001b[0m\u001b[0m\n\u001b[1;32m     11\u001b[0m \u001b[0;31m# rediscluster imports\u001b[0m\u001b[0;34m\u001b[0m\u001b[0;34m\u001b[0m\u001b[0;34m\u001b[0m\u001b[0m\n\u001b[0;32m---> 12\u001b[0;31m \u001b[0;32mfrom\u001b[0m \u001b[0;34m.\u001b[0m\u001b[0mnodemanager\u001b[0m \u001b[0;32mimport\u001b[0m \u001b[0mNodeManager\u001b[0m\u001b[0;34m\u001b[0m\u001b[0;34m\u001b[0m\u001b[0m\n\u001b[0m\u001b[1;32m     13\u001b[0m from .exceptions import (\n\u001b[1;32m     14\u001b[0m     \u001b[0mRedisClusterException\u001b[0m\u001b[0;34m,\u001b[0m \u001b[0mAskError\u001b[0m\u001b[0;34m,\u001b[0m \u001b[0mMovedError\u001b[0m\u001b[0;34m,\u001b[0m\u001b[0;34m\u001b[0m\u001b[0;34m\u001b[0m\u001b[0m\n",
      "\u001b[0;32m/lus/scratch/arigazzi/anaconda3/envs/smartsim/lib/python3.7/site-packages/rediscluster/nodemanager.py\u001b[0m in \u001b[0;36m<module>\u001b[0;34m\u001b[0m\n\u001b[1;32m     10\u001b[0m \u001b[0;31m# 3rd party imports\u001b[0m\u001b[0;34m\u001b[0m\u001b[0;34m\u001b[0m\u001b[0;34m\u001b[0m\u001b[0m\n\u001b[1;32m     11\u001b[0m \u001b[0;32mfrom\u001b[0m \u001b[0mredis\u001b[0m \u001b[0;32mimport\u001b[0m \u001b[0mRedis\u001b[0m\u001b[0;34m\u001b[0m\u001b[0;34m\u001b[0m\u001b[0m\n\u001b[0;32m---> 12\u001b[0;31m \u001b[0;32mfrom\u001b[0m \u001b[0mredis\u001b[0m\u001b[0;34m.\u001b[0m\u001b[0m_compat\u001b[0m \u001b[0;32mimport\u001b[0m \u001b[0municode\u001b[0m\u001b[0;34m,\u001b[0m \u001b[0mbytes\u001b[0m\u001b[0;34m,\u001b[0m \u001b[0mlong\u001b[0m\u001b[0;34m,\u001b[0m \u001b[0mbasestring\u001b[0m\u001b[0;34m\u001b[0m\u001b[0;34m\u001b[0m\u001b[0m\n\u001b[0m\u001b[1;32m     13\u001b[0m \u001b[0;32mfrom\u001b[0m \u001b[0mredis\u001b[0m\u001b[0;34m.\u001b[0m\u001b[0mconnection\u001b[0m \u001b[0;32mimport\u001b[0m \u001b[0mEncoder\u001b[0m\u001b[0;34m\u001b[0m\u001b[0;34m\u001b[0m\u001b[0m\n\u001b[1;32m     14\u001b[0m \u001b[0;32mfrom\u001b[0m \u001b[0mredis\u001b[0m \u001b[0;32mimport\u001b[0m \u001b[0mConnectionError\u001b[0m\u001b[0;34m,\u001b[0m \u001b[0mTimeoutError\u001b[0m\u001b[0;34m,\u001b[0m \u001b[0mResponseError\u001b[0m\u001b[0;34m\u001b[0m\u001b[0;34m\u001b[0m\u001b[0m\n",
      "\u001b[0;31mImportError\u001b[0m: cannot import name 'bytes' from 'redis._compat' (/lus/scratch/arigazzi/anaconda3/envs/smartsim/lib/python3.7/site-packages/redis/_compat.py)"
     ]
    }
   ],
   "source": [
    "import os\n",
    "from smartsim import Experiment, constants\n",
    "from smartsim.settings import SbatchSettings, SrunSettings, RunSettings"
   ]
  },
  {
   "cell_type": "code",
   "execution_count": 13,
   "id": "fd21994c-32c6-4cf7-a3f4-0e4310693242",
   "metadata": {},
   "outputs": [
    {
     "name": "stdout",
     "output_type": "stream",
     "text": [
      "10:54:17 spider-0001 SmartSim[22226] INFO Empty ensemble created for batch launch\n",
      "10:54:49 spider-0001 SmartSim[22226] INFO head-ens(189221): Completed\n"
     ]
    }
   ],
   "source": [
    "exp = Experiment(\"ray_head_exp\", launcher='slurm')\n",
    "head_dir = os.makedirs('./head_exp/head_exp', exist_ok=True)\n",
    "\n",
    "RAY_PORT=6379\n",
    "\n",
    "run_args = {\"nodes\": 1,\n",
    "           \"ntasks\": 1, # Ray will take care of resources.\n",
    "           \"time\": \"00:10:00\"}\n",
    "head_settings = SrunSettings(\"ray\", f\"start --head --port={RAY_PORT}\", run_args=run_args)\n",
    "sleep_settings = SrunSettings(\"sleep\", \"infinity\")\n",
    "\n",
    "head_node_model = exp.create_model(\"head_node\", path='./head_exp', run_settings=head_settings)\n",
    "sleep_model     = exp.create_model(\"head_sleep\", path='./head_exp', run_settings=sleep_settings)  \n",
    "head_batch = SbatchSettings(nodes=1, time=\"00:15:00\")\n",
    "\n",
    "head_ensemble = exp.create_ensemble(\"head-ens\", batch_settings=head_batch)\n",
    "head_ensemble.add_model(head_node_model)\n",
    "head_ensemble.add_model(sleep_model)\n",
    "exp.start(head_ensemble, block=False)"
   ]
  },
  {
   "cell_type": "code",
   "execution_count": 14,
   "id": "b4647ff8-0edb-417c-b7d6-50d47a4a2494",
   "metadata": {},
   "outputs": [],
   "source": [
    "exp.stop(head_ensemble)"
   ]
  },
  {
   "cell_type": "code",
   "execution_count": null,
   "id": "86c4adcb-b238-470f-a810-2f17fb2e9b20",
   "metadata": {},
   "outputs": [],
   "source": [
    "batch = SbatchSettings(nodes=2, time=\"00:01:00\")\n",
    "ensemble = exp.create_ensemble(\"batch-ens\", batch_settings=batch)\n",
    "ensemble.add_model(M1)\n",
    "ensemble.add_model(M2)\n",
    "ensemble.set_path(test_dir)\n",
    "\n",
    "exp.start(ensemble, block=True)\n",
    "statuses = exp.get_status(ensemble)\n",
    "assert all([stat == constants.STATUS_COMPLETED for stat in statuses])"
   ]
  }
 ],
 "metadata": {
  "kernelspec": {
   "display_name": "smartsim",
   "language": "python",
   "name": "smartsim"
  },
  "language_info": {
   "codemirror_mode": {
    "name": "ipython",
    "version": 3
   },
   "file_extension": ".py",
   "mimetype": "text/x-python",
   "name": "python",
   "nbconvert_exporter": "python",
   "pygments_lexer": "ipython3",
   "version": "3.7.10"
  }
 },
 "nbformat": 4,
 "nbformat_minor": 5
}
