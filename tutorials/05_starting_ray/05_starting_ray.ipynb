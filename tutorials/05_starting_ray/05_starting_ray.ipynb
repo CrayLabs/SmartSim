{
 "cells": [
  {
   "cell_type": "markdown",
   "metadata": {},
   "source": [
    "# Setting up a Ray cluster with SmartSim\n",
    "\n",
    "In this notebook we will see how to set up a Ray cluster on a system using SLURM as workload manager (WLM).\n",
    "\n",
    "This notebook is based on [this github repo by NERSC](https://github.com/NERSC/slurm-ray-cluster/blob/master/submit-ray-cluster.sbatch) and on [this stack overflow post](https://github.com/ray-project/ray/issues/826#issuecomment-522116599).\n",
    "\n",
    "We will have to do four steps:\n",
    "1. Start the head node\n",
    "2. Start the workers\n",
    "3. Run a test workload\n",
    "4. Stop all nodes"
   ]
  },
  {
   "cell_type": "markdown",
   "metadata": {},
   "source": [
    "## 1. Start the head node\n",
    "We set up a SmartSim experiment, which will handle the launch of the ray head node."
   ]
  },
  {
   "cell_type": "code",
   "execution_count": 1,
   "metadata": {},
   "outputs": [],
   "source": [
    "import os\n",
    "from smartsim import Experiment\n",
    "from smartsim.settings import SbatchSettings, SrunSettings, RunSettings\n",
    "import time\n",
    "import uuid\n",
    "import re"
   ]
  },
  {
   "cell_type": "code",
   "execution_count": 2,
   "metadata": {},
   "outputs": [
    {
     "name": "stdout",
     "output_type": "stream",
     "text": [
      "07:54:45 prod-0127 SmartSim[49455] INFO Working in previously created experiment\n",
      "Ray cluster's head is running at 10.10.2.67\n"
     ]
    }
   ],
   "source": [
    "# The experiment is local because we are on a compute node\n",
    "exp = Experiment(\"ray_head_exp\", launcher='local')\n",
    "\n",
    "RAY_PORT=6379\n",
    "REDIS_PW=uuid.uuid4()\n",
    "\n",
    "head_settings = RunSettings(\"bash\", \"start-head.sh\")\n",
    "\n",
    "head_node_params = {\"RAY_PORT\": RAY_PORT, \"REDIS_PASSWORD\": REDIS_PW, \"CONDA_ENV\": \"ray\"}\n",
    "head_node_model = exp.create_model(\"head_node\", path='/lus/sonexion/arigazzi/smartsim-dev/SmartSim/tutorials/05_starting_ray/head_exp',\n",
    "                                   run_settings=head_settings, params=head_node_params)\n",
    "head_node_model.attach_generator_files(to_configure=['./templates/start-head.sh'])\n",
    "exp.generate(head_node_model, overwrite=True)\n",
    "\n",
    "exp.start(head_node_model, block=False, summary=False)\n",
    "\n",
    "time.sleep(1)\n",
    "head_log = os.path.join(head_node_model.path, \"head_node.out\")\n",
    "while not os.path.isfile(head_log):\n",
    "    time.sleep(1)\n",
    "\n",
    "head_ip = None\n",
    "while head_ip is None:\n",
    "    time.sleep(5)\n",
    "    with open(head_log) as fp:\n",
    "        line = fp.readline()\n",
    "        while line:\n",
    "            plain_line = re.sub('\\033\\\\[([0-9]+)(;[0-9]+)*m', '', line) \n",
    "            if \"Local node IP:\" in plain_line:\n",
    "                matches=re.search(r'(?<=Local node IP: ).*', plain_line)\n",
    "                head_ip = matches.group()\n",
    "                print(f\"Ray cluster's head is running at {head_ip}\")\n",
    "            line = fp.readline()"
   ]
  },
  {
   "cell_type": "code",
   "execution_count": 24,
   "metadata": {},
   "outputs": [],
   "source": [
    "exp.stop(head_node_model)\n"
   ]
  },
  {
   "cell_type": "markdown",
   "metadata": {},
   "source": [
    "We now have started the head node, the next step is to start the workers!\n",
    "\n",
    "# 2. Start the worker nodes\n",
    "\n",
    "We will start the workers as a batch. Each worker has to start on a different node, as a single task. We will rely on `srun` for this."
   ]
  },
  {
   "cell_type": "code",
   "execution_count": 26,
   "metadata": {},
   "outputs": [
    {
     "name": "stdout",
     "output_type": "stream",
     "text": [
      "09:22:03 prod-0127 SmartSim[49455] INFO Working in previously created experiment\n",
      "09:22:03 prod-0127 SmartSim[49455] INFO Empty ensemble created for batch launch\n"
     ]
    }
   ],
   "source": [
    "exp_workers = Experiment(\"ray_worker_exp\", launcher='slurm')\n",
    "\n",
    "worker_run_args = {\"nodes\": 3,\n",
    "                   \"ntasks-per-node\": 1, # Ray will take care of resources.\n",
    "                   \"ntasks\": 3,\n",
    "                   \"oversubscribe\": None,\n",
    "                   \"overcommit\": None,\n",
    "                   \"time\": \"01:00:00\",\n",
    "                   \"unbuffered\": None,\n",
    "                   \"cpus-per-task\": 36}\n",
    "\n",
    "conda_settings_1 = RunSettings(\"source\", \"~/.bashrc\", block_in_batch=True, expand_exe=False)\n",
    "conda_settings_2 = RunSettings(\"conda\", \"activate ray\", block_in_batch=True, expand_exe=False)\n",
    "worker_settings = SrunSettings(\"bash\", \"start-worker.sh\",\n",
    "                               expand_exe=False, block_in_batch=False, run_args=worker_run_args)\n",
    "\n",
    "conda_model_1 = exp_workers.create_model(\"conda_sh\", path=\"/lus/sonexion/arigazzi/smartsim-dev/SmartSim/tutorials/05_starting_ray\",\n",
    "                                run_settings=conda_settings_1)\n",
    "conda_model_2 = exp_workers.create_model(\"conda_switch\", path=\"/lus/sonexion/arigazzi/smartsim-dev/SmartSim/tutorials/05_starting_ray\",\n",
    "                                 run_settings=conda_settings_2)\n",
    "\n",
    "worker_node_params = {\"HEAD_ADDRESS\": head_ip+\":\"+str(RAY_PORT), \"REDIS_PASSWORD\": REDIS_PW}\n",
    "worker_node_model = exp_workers.create_model(\"worker_nodes\", path='/lus/sonexion/arigazzi/smartsim-dev/SmartSim/tutorials/05_starting_ray/head_exp',\n",
    "                                   run_settings=worker_settings, params=worker_node_params)\n",
    "worker_node_model.attach_generator_files(to_configure=['./templates/start-worker.sh'])\n",
    "exp_workers.generate(worker_node_model, overwrite=True)\n",
    "    \n",
    "worker_batch = SbatchSettings(nodes=3, time=\"01:00:00\")\n",
    "worker_ensemble = exp.create_ensemble(\"worker-ens\", batch_settings=worker_batch)\n",
    "worker_ensemble.add_model(conda_model_1)\n",
    "worker_ensemble.add_model(conda_model_2)\n",
    "worker_ensemble.add_model(worker_node_model)\n",
    "\n",
    "exp_workers.start(worker_ensemble, block=False, summary=False)\n"
   ]
  },
  {
   "cell_type": "code",
   "execution_count": 27,
   "metadata": {},
   "outputs": [
    {
     "name": "stdout",
     "output_type": "stream",
     "text": [
      "09:23:05 prod-0127 SmartSim[49455] INFO Stopping model worker-ens with job name worker-ens-CAV657IHT3WI\n"
     ]
    }
   ],
   "source": [
    "exp_workers.stop(worker_ensemble)"
   ]
  },
  {
   "cell_type": "markdown",
   "metadata": {},
   "source": [
    "and the workers are running! Now let's run a test script!\n",
    "\n",
    "# 3. Execute script\n",
    "\n",
    "The script will run an MNIST training. It will start locally, distributing the work across workers. We will just need to supply the cluster address. "
   ]
  },
  {
   "cell_type": "code",
   "execution_count": 23,
   "metadata": {},
   "outputs": [
    {
     "name": "stdout",
     "output_type": "stream",
     "text": [
      "09:06:52 prod-0127 SmartSim[49455] INFO Working in previously created experiment\n",
      "\n",
      "\n",
      "\u001b[36;1m=== LAUNCH SUMMARY ===\u001b[0m\n",
      "\u001b[32;1mExperiment: MNIST\u001b[0m\n",
      "\u001b[32mExperiment Path: /lus/sonexion/arigazzi/smartsim-dev/SmartSim/tutorials/05_starting_ray/MNIST\u001b[0m\n",
      "\u001b[32mLaunching with: slurm\u001b[0m\n",
      "\u001b[32m# of Ensembles: 0\u001b[0m\n",
      "\u001b[32m# of Models: 1\u001b[0m\n",
      "\u001b[32mDatabase: no\u001b[0m\n",
      "\n",
      "\u001b[36;1m=== MODELS ===\u001b[0m\n",
      "\u001b[32;1mMNIST-test\u001b[0m\n",
      "\u001b[32mModel Parameters: \n",
      "{}\u001b[0m\n",
      "\u001b[32mModel Run Settings: \n",
      "Executable: conda\n",
      "Executable arguments: ['activate', 'ray', '&&', 'python', 'ppo_tune.py', '--ray-address=10.10.2.67:6379', '--redis-password=020c2b89-3506-42a8-b14d-2c448bc51ee7']\n",
      "Run Command: srun\n",
      "Run arguments: {'cpus-per-task': 36,\n",
      " 'nodes': 1,\n",
      " 'ntasks': 1,\n",
      " 'ntasks-per-node': 1,\n",
      " 'overcommit': None,\n",
      " 'oversubscribe': None,\n",
      " 'time': '01:00:00',\n",
      " 'unbuffered': None}\u001b[0m\n",
      "\n",
      "\n",
      "\n",
      "\n"
     ]
    },
    {
     "name": "stderr",
     "output_type": "stream",
     "text": [
      "                                                                                \r"
     ]
    },
    {
     "name": "stdout",
     "output_type": "stream",
     "text": [
      "09:07:10 prod-0127 SmartSim[49455] INFO MNIST-test(206374.3): New\n",
      "09:07:15 prod-0127 SmartSim[49455] INFO MNIST-test(206374.3): New\n",
      "09:07:21 prod-0127 SmartSim[49455] WARNING MNIST-test(206374.3): Failed\n",
      "09:07:21 prod-0127 SmartSim[49455] WARNING MNIST-test failed. See below for details \n",
      "Model MNIST-test produced the following error \n",
      "Error: srun: error: prod-0127: task 0: Exited with exit code 1\n",
      " \n",
      "Job status at failure: Failed \n",
      "Launcher status at failure: FAILED \n",
      "Job returncode: 1 \n",
      "Error and output file located at: /lus/sonexion/arigazzi/smartsim-dev/SmartSim/tutorials/05_starting_ray/MNIST/MNIST-test\n",
      "09:07:21 prod-0127 SmartSim[49455] INFO MNIST-test(206374.3): Failed\n"
     ]
    }
   ],
   "source": [
    "mnist_exp = Experiment(\"MNIST\", launcher='slurm')\n",
    "mnist_exe_args = \"activate ray && python ppo_tune.py --ray-address=\"+head_ip+\":\"+str(RAY_PORT)+\" --redis-password=\"+str(REDIS_PW)\n",
    "\n",
    "mnist_run_args = {\"nodes\": 1,\n",
    "                   \"ntasks-per-node\": 1, # Ray will take care of resources.\n",
    "                   \"ntasks\": 1,\n",
    "                   \"oversubscribe\": None,\n",
    "                   \"overcommit\": None,\n",
    "                   \"time\": \"01:00:00\",\n",
    "                   \"unbuffered\": None,\n",
    "                   \"cpus-per-task\": 36}\n",
    "\n",
    "mnist_settings = SrunSettings(\"conda\", mnist_exe_args, expand_exe=False, run_args=mnist_run_args)\n",
    "mnist_model = mnist_exp.create_model(\"MNIST-test\", path='./mnist_test',\n",
    "                                     run_settings = mnist_settings)\n",
    "mnist_model.attach_generator_files(to_copy=['./templates/ppo_tune.py'])\n",
    "mnist_exp.generate(mnist_model, overwrite=True)\n",
    "mnist_exp.start(mnist_model, summary=True)"
   ]
  },
  {
   "cell_type": "code",
   "execution_count": 19,
   "metadata": {},
   "outputs": [
    {
     "name": "stdout",
     "output_type": "stream",
     "text": [
      "09:03:15 prod-0127 SmartSim[49455] INFO Stopping model MNIST-test with job name MNIST-test-CAV5Q759K9CR\n"
     ]
    }
   ],
   "source": [
    "mnist_exp.stop(mnist_model)\n",
    "\n",
    "# exp.stop(worker_ensemble)\n",
    "# exp.stop(head_ensemble)"
   ]
  },
  {
   "cell_type": "code",
   "execution_count": 22,
   "metadata": {},
   "outputs": [
    {
     "name": "stdout",
     "output_type": "stream",
     "text": [
      "12:36:03 spider-0001 SmartSim[31493] INFO head-ens(201152): Running\n",
      "12:36:03 spider-0001 SmartSim[31493] INFO worker-ens(201153): Running\n",
      "12:36:13 spider-0001 SmartSim[31493] INFO head-ens(201152): Running\n",
      "12:36:13 spider-0001 SmartSim[31493] INFO worker-ens(201153): Running\n",
      "12:36:23 spider-0001 SmartSim[31493] INFO head-ens(201152): Running\n",
      "12:36:23 spider-0001 SmartSim[31493] INFO worker-ens(201153): Running\n",
      "12:36:33 spider-0001 SmartSim[31493] INFO head-ens(201152): Running\n",
      "12:36:33 spider-0001 SmartSim[31493] INFO worker-ens(201153): Running\n",
      "12:36:43 spider-0001 SmartSim[31493] INFO head-ens(201152): Running\n",
      "12:36:43 spider-0001 SmartSim[31493] INFO worker-ens(201153): Running\n",
      "12:36:53 spider-0001 SmartSim[31493] INFO head-ens(201152): Running\n",
      "12:36:53 spider-0001 SmartSim[31493] INFO worker-ens(201153): Running\n",
      "12:37:03 spider-0001 SmartSim[31493] INFO head-ens(201152): Running\n",
      "12:37:03 spider-0001 SmartSim[31493] INFO worker-ens(201153): Running\n",
      "12:37:13 spider-0001 SmartSim[31493] INFO head-ens(201152): Running\n",
      "12:37:13 spider-0001 SmartSim[31493] INFO worker-ens(201153): Running\n",
      "12:37:23 spider-0001 SmartSim[31493] INFO head-ens(201152): Running\n",
      "12:37:23 spider-0001 SmartSim[31493] INFO worker-ens(201153): Running\n"
     ]
    },
    {
     "ename": "KeyboardInterrupt",
     "evalue": "",
     "output_type": "error",
     "traceback": [
      "\u001b[0;31m---------------------------------------------------------------------------\u001b[0m",
      "\u001b[0;31mKeyboardInterrupt\u001b[0m                         Traceback (most recent call last)",
      "\u001b[0;32m<ipython-input-22-041fb5eccd29>\u001b[0m in \u001b[0;36m<module>\u001b[0;34m\u001b[0m\n\u001b[0;32m----> 1\u001b[0;31m \u001b[0mexp\u001b[0m\u001b[0;34m.\u001b[0m\u001b[0mpoll\u001b[0m\u001b[0;34m(\u001b[0m\u001b[0;34m)\u001b[0m\u001b[0;34m\u001b[0m\u001b[0;34m\u001b[0m\u001b[0m\n\u001b[0m",
      "\u001b[0;32m/lus/sonexion/arigazzi/smartsim-dev/SmartSim/smartsim/experiment.py\u001b[0m in \u001b[0;36mpoll\u001b[0;34m(self, interval, verbose)\u001b[0m\n\u001b[1;32m    162\u001b[0m         \"\"\"\n\u001b[1;32m    163\u001b[0m         \u001b[0;32mtry\u001b[0m\u001b[0;34m:\u001b[0m\u001b[0;34m\u001b[0m\u001b[0;34m\u001b[0m\u001b[0m\n\u001b[0;32m--> 164\u001b[0;31m             \u001b[0mself\u001b[0m\u001b[0;34m.\u001b[0m\u001b[0m_control\u001b[0m\u001b[0;34m.\u001b[0m\u001b[0mpoll\u001b[0m\u001b[0;34m(\u001b[0m\u001b[0minterval\u001b[0m\u001b[0;34m,\u001b[0m \u001b[0mverbose\u001b[0m\u001b[0;34m)\u001b[0m\u001b[0;34m\u001b[0m\u001b[0;34m\u001b[0m\u001b[0m\n\u001b[0m\u001b[1;32m    165\u001b[0m         \u001b[0;32mexcept\u001b[0m \u001b[0mSmartSimError\u001b[0m \u001b[0;32mas\u001b[0m \u001b[0me\u001b[0m\u001b[0;34m:\u001b[0m\u001b[0;34m\u001b[0m\u001b[0;34m\u001b[0m\u001b[0m\n\u001b[1;32m    166\u001b[0m             \u001b[0mlogger\u001b[0m\u001b[0;34m.\u001b[0m\u001b[0merror\u001b[0m\u001b[0;34m(\u001b[0m\u001b[0me\u001b[0m\u001b[0;34m)\u001b[0m\u001b[0;34m\u001b[0m\u001b[0;34m\u001b[0m\u001b[0m\n",
      "\u001b[0;32m/lus/sonexion/arigazzi/smartsim-dev/SmartSim/smartsim/control/controller.py\u001b[0m in \u001b[0;36mpoll\u001b[0;34m(self, interval, verbose)\u001b[0m\n\u001b[1;32m    103\u001b[0m         \u001b[0mto_monitor\u001b[0m \u001b[0;34m=\u001b[0m \u001b[0mself\u001b[0m\u001b[0;34m.\u001b[0m\u001b[0m_jobs\u001b[0m\u001b[0;34m.\u001b[0m\u001b[0mjobs\u001b[0m\u001b[0;34m\u001b[0m\u001b[0;34m\u001b[0m\u001b[0m\n\u001b[1;32m    104\u001b[0m         \u001b[0;32mwhile\u001b[0m \u001b[0mlen\u001b[0m\u001b[0;34m(\u001b[0m\u001b[0mto_monitor\u001b[0m\u001b[0;34m)\u001b[0m \u001b[0;34m>\u001b[0m \u001b[0;36m0\u001b[0m\u001b[0;34m:\u001b[0m\u001b[0;34m\u001b[0m\u001b[0;34m\u001b[0m\u001b[0m\n\u001b[0;32m--> 105\u001b[0;31m             \u001b[0mtime\u001b[0m\u001b[0;34m.\u001b[0m\u001b[0msleep\u001b[0m\u001b[0;34m(\u001b[0m\u001b[0minterval\u001b[0m\u001b[0;34m)\u001b[0m\u001b[0;34m\u001b[0m\u001b[0;34m\u001b[0m\u001b[0m\n\u001b[0m\u001b[1;32m    106\u001b[0m \u001b[0;34m\u001b[0m\u001b[0m\n\u001b[1;32m    107\u001b[0m             \u001b[0;31m# acquire lock to avoid \"dictionary changed during iteration\" error\u001b[0m\u001b[0;34m\u001b[0m\u001b[0;34m\u001b[0m\u001b[0;34m\u001b[0m\u001b[0m\n",
      "\u001b[0;31mKeyboardInterrupt\u001b[0m: "
     ]
    }
   ],
   "source": [
    "exp.poll()"
   ]
  },
  {
   "cell_type": "code",
   "execution_count": 53,
   "metadata": {},
   "outputs": [
    {
     "name": "stdout",
     "output_type": "stream",
     "text": [
      "             JOBID PARTITION     NAME     USER ST       TIME  NODES NODELIST(REASON)\n",
      "            201164     bdw18 head-ens arigazzi  R      14:57      1 prod-0001\n",
      "            201169     bdw18 worker-e arigazzi  R      10:22      3 prod-[0002-0004]\n",
      "            201175     bdw18  Chpl-mg  chapelu  R       0:14     16 prod-[0010-0025]\n",
      "            199735      full sstsim.x visharma  R    9:17:41      1 prod-0009\n",
      "            200628    spider interact arigazzi  R    5:43:57      1 spider-0001\n"
     ]
    }
   ],
   "source": [
    "!squeue"
   ]
  },
  {
   "cell_type": "code",
   "execution_count": null,
   "metadata": {},
   "outputs": [],
   "source": []
  }
 ],
 "metadata": {
  "kernelspec": {
   "display_name": "smartsim",
   "language": "python",
   "name": "smartsim"
  },
  "language_info": {
   "codemirror_mode": {
    "name": "ipython",
    "version": 3
   },
   "file_extension": ".py",
   "mimetype": "text/x-python",
   "name": "python",
   "nbconvert_exporter": "python",
   "pygments_lexer": "ipython3",
   "version": "3.7.10"
  }
 },
 "nbformat": 4,
 "nbformat_minor": 5
}
