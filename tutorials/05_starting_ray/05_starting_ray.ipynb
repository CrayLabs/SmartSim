{
 "cells": [
  {
   "cell_type": "markdown",
   "metadata": {},
   "source": [
    "# Setting up a Ray cluster with SmartSim\n",
    "\n",
    "In this notebook we will see how to set up a Ray cluster on a system using SLURM as workload manager (WLM).\n",
    "\n",
    "This notebook is based on [this github repo by NERSC](https://github.com/NERSC/slurm-ray-cluster/blob/master/submit-ray-cluster.sbatch) and on [this stack overflow post](https://github.com/ray-project/ray/issues/826#issuecomment-522116599).\n",
    "\n",
    "We will have to do four steps:\n",
    "1. Start the head node\n",
    "2. Start the workers\n",
    "3. Run a test workload\n",
    "4. Stop all nodes"
   ]
  },
  {
   "cell_type": "markdown",
   "metadata": {},
   "source": [
    "## 1. Start the head node\n",
    "We set up a SmartSim experiment, which will handle the launch of the ray head node."
   ]
  },
  {
   "cell_type": "code",
   "execution_count": 20,
   "metadata": {},
   "outputs": [],
   "source": [
    "import os\n",
    "from smartsim import Experiment, constants\n",
    "from smartsim.settings import SbatchSettings, SrunSettings, RunSettings\n",
    "import time\n",
    "import uuid"
   ]
  },
  {
   "cell_type": "code",
   "execution_count": 21,
   "metadata": {},
   "outputs": [
    {
     "name": "stdout",
     "output_type": "stream",
     "text": [
      "/lus/sonexion/arigazzi/smartsim-dev/SmartSim/tutorials/05_starting_ray\n"
     ]
    }
   ],
   "source": [
    "!pwd"
   ]
  },
  {
   "cell_type": "code",
   "execution_count": 36,
   "metadata": {},
   "outputs": [
    {
     "name": "stdout",
     "output_type": "stream",
     "text": [
      "14:09:23 spider-0001 SmartSim[72234] INFO Working in previously created experiment\n",
      "14:09:23 spider-0001 SmartSim[72234] INFO Empty ensemble created for batch launch\n"
     ]
    }
   ],
   "source": [
    "exp = Experiment(\"ray_head_exp\", launcher='slurm')\n",
    "head_dir = os.makedirs('/lus/sonexion/arigazzi/smartsim-dev/SmartSim/tutorials/05_starting_ray/head_exp/head_exp', exist_ok=True)\n",
    "\n",
    "RAY_PORT=6379\n",
    "\n",
    "head_run_args = {\"nodes\": 1,\n",
    "           \"ntasks\": 1, # Ray will take care of resources.\n",
    "           \"time\": \"00:10:00\",\n",
    "           \"unbuffered\": None}\n",
    "\n",
    "conda_settings_1 = RunSettings(\"source\", \"~/.bashrc\", block_in_batch=True, expand_exe=False)\n",
    "conda_settings_2 = RunSettings(\"conda\", \"activate ray\", block_in_batch=True, expand_exe=False)\n",
    "head_settings = SrunSettings(\"bash\", \"start-head.sh\",\n",
    "                             expand_exe=False, block_in_batch=False, run_args=head_run_args)\n",
    "sleep_settings = RunSettings(\"sleep\", \"infinity\")\n",
    "\n",
    "conda_model_1 = exp.create_model(\"conda_sh\", path=\"/lus/sonexion/arigazzi/smartsim-dev/SmartSim/tutorials/05_starting_ray\",\n",
    "                                run_settings=conda_settings_1)\n",
    "conda_model_2 = exp.create_model(\"conda_switch\", path=\"/lus/sonexion/arigazzi/smartsim-dev/SmartSim/tutorials/05_starting_ray\",\n",
    "                                 run_settings=conda_settings_2)\n",
    "head_node_params = {\"RAY_PORT\": RAY_PORT, \"REDIS_PASSWORD\": uuid.uuid4()}\n",
    "head_node_model = exp.create_model(\"head_node\", path='/lus/sonexion/arigazzi/smartsim-dev/SmartSim/tutorials/05_starting_ray/head_exp',\n",
    "                                   run_settings=head_settings, params=head_node_params)\n",
    "head_node_model.attach_generator_files(to_configure=['./templates/start-head.sh'])\n",
    "exp.generate(head_node_model, overwrite=True)\n",
    "\n",
    "sleep_model     = exp.create_model(\"head_sleep\", path='/lus/sonexion/arigazzi/smartsim-dev/SmartSim/tutorials/05_starting_ray/head_exp',\n",
    "                                   run_settings=sleep_settings)  \n",
    "head_batch = SbatchSettings(nodes=1, time=\"00:15:00\")\n",
    "\n",
    "head_ensemble = exp.create_ensemble(\"head-ens\", batch_settings=head_batch)\n",
    "head_ensemble.add_model(conda_model_1)\n",
    "head_ensemble.add_model(conda_model_2)\n",
    "head_ensemble.add_model(head_node_model)\n",
    "head_ensemble.add_model(sleep_model)\n",
    "\n",
    "exp.start(head_ensemble, block=False, summary=False)\n",
    "\n",
    "head_stop_settings = SrunSettings(\"/lus/scratch/arigazzi/anaconda3/envs/ray/bin/ray\", f\"stop\", run_args=run_args)\n",
    "\n"
   ]
  },
  {
   "cell_type": "code",
   "execution_count": 4,
   "metadata": {},
   "outputs": [
    {
     "name": "stdout",
     "output_type": "stream",
     "text": [
      "11:17:06 spider-0001 SmartSim[72234] INFO head-ens(195016): New\n",
      "11:17:16 spider-0001 SmartSim[72234] INFO head-ens(195016): Running\n",
      "11:17:26 spider-0001 SmartSim[72234] INFO head-ens(195016): Running\n",
      "11:17:36 spider-0001 SmartSim[72234] INFO head-ens(195016): Running\n"
     ]
    },
    {
     "ename": "KeyboardInterrupt",
     "evalue": "",
     "output_type": "error",
     "traceback": [
      "\u001b[0;31m---------------------------------------------------------------------------\u001b[0m",
      "\u001b[0;31mKeyboardInterrupt\u001b[0m                         Traceback (most recent call last)",
      "\u001b[0;32m<ipython-input-4-041fb5eccd29>\u001b[0m in \u001b[0;36m<module>\u001b[0;34m\u001b[0m\n\u001b[0;32m----> 1\u001b[0;31m \u001b[0mexp\u001b[0m\u001b[0;34m.\u001b[0m\u001b[0mpoll\u001b[0m\u001b[0;34m(\u001b[0m\u001b[0;34m)\u001b[0m\u001b[0;34m\u001b[0m\u001b[0;34m\u001b[0m\u001b[0m\n\u001b[0m",
      "\u001b[0;32m/lus/sonexion/arigazzi/smartsim-dev/SmartSim/smartsim/experiment.py\u001b[0m in \u001b[0;36mpoll\u001b[0;34m(self, interval, verbose)\u001b[0m\n\u001b[1;32m    162\u001b[0m         \"\"\"\n\u001b[1;32m    163\u001b[0m         \u001b[0;32mtry\u001b[0m\u001b[0;34m:\u001b[0m\u001b[0;34m\u001b[0m\u001b[0;34m\u001b[0m\u001b[0m\n\u001b[0;32m--> 164\u001b[0;31m             \u001b[0mself\u001b[0m\u001b[0;34m.\u001b[0m\u001b[0m_control\u001b[0m\u001b[0;34m.\u001b[0m\u001b[0mpoll\u001b[0m\u001b[0;34m(\u001b[0m\u001b[0minterval\u001b[0m\u001b[0;34m,\u001b[0m \u001b[0mverbose\u001b[0m\u001b[0;34m)\u001b[0m\u001b[0;34m\u001b[0m\u001b[0;34m\u001b[0m\u001b[0m\n\u001b[0m\u001b[1;32m    165\u001b[0m         \u001b[0;32mexcept\u001b[0m \u001b[0mSmartSimError\u001b[0m \u001b[0;32mas\u001b[0m \u001b[0me\u001b[0m\u001b[0;34m:\u001b[0m\u001b[0;34m\u001b[0m\u001b[0;34m\u001b[0m\u001b[0m\n\u001b[1;32m    166\u001b[0m             \u001b[0mlogger\u001b[0m\u001b[0;34m.\u001b[0m\u001b[0merror\u001b[0m\u001b[0;34m(\u001b[0m\u001b[0me\u001b[0m\u001b[0;34m)\u001b[0m\u001b[0;34m\u001b[0m\u001b[0;34m\u001b[0m\u001b[0m\n",
      "\u001b[0;32m/lus/sonexion/arigazzi/smartsim-dev/SmartSim/smartsim/control/controller.py\u001b[0m in \u001b[0;36mpoll\u001b[0;34m(self, interval, verbose)\u001b[0m\n\u001b[1;32m    103\u001b[0m         \u001b[0mto_monitor\u001b[0m \u001b[0;34m=\u001b[0m \u001b[0mself\u001b[0m\u001b[0;34m.\u001b[0m\u001b[0m_jobs\u001b[0m\u001b[0;34m.\u001b[0m\u001b[0mjobs\u001b[0m\u001b[0;34m\u001b[0m\u001b[0;34m\u001b[0m\u001b[0m\n\u001b[1;32m    104\u001b[0m         \u001b[0;32mwhile\u001b[0m \u001b[0mlen\u001b[0m\u001b[0;34m(\u001b[0m\u001b[0mto_monitor\u001b[0m\u001b[0;34m)\u001b[0m \u001b[0;34m>\u001b[0m \u001b[0;36m0\u001b[0m\u001b[0;34m:\u001b[0m\u001b[0;34m\u001b[0m\u001b[0;34m\u001b[0m\u001b[0m\n\u001b[0;32m--> 105\u001b[0;31m             \u001b[0mtime\u001b[0m\u001b[0;34m.\u001b[0m\u001b[0msleep\u001b[0m\u001b[0;34m(\u001b[0m\u001b[0minterval\u001b[0m\u001b[0;34m)\u001b[0m\u001b[0;34m\u001b[0m\u001b[0;34m\u001b[0m\u001b[0m\n\u001b[0m\u001b[1;32m    106\u001b[0m \u001b[0;34m\u001b[0m\u001b[0m\n\u001b[1;32m    107\u001b[0m             \u001b[0;31m# acquire lock to avoid \"dictionary changed during iteration\" error\u001b[0m\u001b[0;34m\u001b[0m\u001b[0;34m\u001b[0m\u001b[0;34m\u001b[0m\u001b[0m\n",
      "\u001b[0;31mKeyboardInterrupt\u001b[0m: "
     ]
    }
   ],
   "source": [
    "exp.poll()"
   ]
  },
  {
   "cell_type": "code",
   "execution_count": 37,
   "metadata": {},
   "outputs": [
    {
     "name": "stdout",
     "output_type": "stream",
     "text": [
      "14:10:58 spider-0001 SmartSim[72234] INFO Stopping model head-ens with job name head-ens-CAPDVE1BKQ0B\n"
     ]
    }
   ],
   "source": [
    "exp.stop(head_ensemble)"
   ]
  },
  {
   "cell_type": "code",
   "execution_count": 38,
   "metadata": {},
   "outputs": [
    {
     "name": "stdout",
     "output_type": "stream",
     "text": [
      "             JOBID PARTITION     NAME     USER ST       TIME  NODES NODELIST(REASON)\n",
      "            195103     clx28 sstsim.x visharma  R    1:42:11      2 prod-[0065-0066]\n",
      "            193214      full sstsim.x     tshi  R   14:37:23     16 prod-[0003-0018]\n",
      "            193544    spider interact arigazzi  R    9:46:05      1 spider-0001\n",
      "            194213    spider pharml-b   jbalma  R    6:34:48      8 spider-[0005-0010,0014-0015]\n"
     ]
    }
   ],
   "source": [
    "!squeue"
   ]
  },
  {
   "cell_type": "code",
   "execution_count": null,
   "metadata": {},
   "outputs": [],
   "source": []
  }
 ],
 "metadata": {
  "kernelspec": {
   "display_name": "smartsim",
   "language": "python",
   "name": "smartsim"
  },
  "language_info": {
   "codemirror_mode": {
    "name": "ipython",
    "version": 3
   },
   "file_extension": ".py",
   "mimetype": "text/x-python",
   "name": "python",
   "nbconvert_exporter": "python",
   "pygments_lexer": "ipython3",
   "version": "3.7.10"
  }
 },
 "nbformat": 4,
 "nbformat_minor": 5
}
