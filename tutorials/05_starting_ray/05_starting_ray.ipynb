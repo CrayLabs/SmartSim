{
 "cells": [
  {
   "cell_type": "markdown",
   "metadata": {},
   "source": [
    "# Setting up a Ray cluster with SmartSim\n",
    "\n",
    "In this notebook we will see how to set up a Ray cluster on a system using SLURM as workload manager (WLM).\n",
    "\n",
    "This notebook is based on [this github repo by NERSC](https://github.com/NERSC/slurm-ray-cluster/blob/master/submit-ray-cluster.sbatch) and on [this stack overflow post](https://github.com/ray-project/ray/issues/826#issuecomment-522116599).\n",
    "\n",
    "We will have to do four steps:\n",
    "1. Start the head node\n",
    "2. Start the workers\n",
    "3. Run a test workload\n",
    "4. Stop all nodes"
   ]
  },
  {
   "cell_type": "markdown",
   "metadata": {},
   "source": [
    "## 1. Start the head node\n",
    "We set up a SmartSim experiment, which will handle the launch of the ray head node."
   ]
  },
  {
   "cell_type": "code",
   "execution_count": 8,
   "metadata": {},
   "outputs": [],
   "source": [
    "import os\n",
    "from smartsim import Experiment\n",
    "from smartsim.settings import SbatchSettings, SrunSettings, RunSettings\n",
    "import time\n",
    "import uuid\n",
    "import re"
   ]
  },
  {
   "cell_type": "code",
   "execution_count": 9,
   "metadata": {},
   "outputs": [
    {
     "name": "stdout",
     "output_type": "stream",
     "text": [
      "12:57:09 nid00152 SmartSim[13665] INFO Working in previously created experiment\n",
      "Ray cluster's head is running at 10.128.0.153\n"
     ]
    }
   ],
   "source": [
    "# The experiment is local because we are on a compute node\n",
    "exp = Experiment(\"ray_head_exp\", launcher='local')\n",
    "\n",
    "RAY_PORT=6379\n",
    "REDIS_PW=uuid.uuid4()\n",
    "\n",
    "head_settings = RunSettings(\"bash\", \"manual-start.sh\")\n",
    "\n",
    "head_node_params = {\"RAY_PORT\": RAY_PORT, \"REDIS_PASSWORD\": REDIS_PW, \"CONDA_ENV\": \"smartsim\"}\n",
    "head_node_model = exp.create_model(\"head_node\", path='/lus/sonexion/arigazzi/smartsim-dev/SmartSim/tutorials/05_starting_ray/head_exp',\n",
    "                                   run_settings=head_settings, params=head_node_params)\n",
    "head_node_model.attach_generator_files(to_configure=['./templates/manual-start.sh'])\n",
    "exp.generate(head_node_model, overwrite=True)\n",
    "\n",
    "exp.start(head_node_model, block=False, summary=False)\n",
    "\n",
    "time.sleep(1)\n",
    "head_log = os.path.join(head_node_model.path, \"head_node.out\")\n",
    "while not os.path.isfile(head_log):\n",
    "    time.sleep(1)\n",
    "\n",
    "head_ip = None\n",
    "while head_ip is None:\n",
    "    time.sleep(5)\n",
    "    with open(head_log) as fp:\n",
    "        line = fp.readline()\n",
    "        while line:\n",
    "            plain_line = re.sub('\\033\\\\[([0-9]+)(;[0-9]+)*m', '', line) \n",
    "            if \"Local node IP:\" in plain_line:\n",
    "                matches=re.search(r'(?<=Local node IP: ).*', plain_line)\n",
    "                head_ip = matches.group()\n",
    "                print(f\"Ray cluster's head is running at {head_ip}\")\n",
    "            line = fp.readline()"
   ]
  },
  {
   "cell_type": "code",
   "execution_count": 18,
   "metadata": {},
   "outputs": [],
   "source": [
    "exp.stop(head_node_model)"
   ]
  },
  {
   "cell_type": "markdown",
   "metadata": {},
   "source": [
    "We now have started the head node, the next step is to start the workers!\n",
    "\n",
    "# 2. Start the worker nodes\n",
    "\n",
    "We will start the workers as a batch. Each worker has to start on a different node, as a single task. We will rely on `srun` for this."
   ]
  },
  {
   "cell_type": "code",
   "execution_count": 10,
   "metadata": {},
   "outputs": [
    {
     "name": "stdout",
     "output_type": "stream",
     "text": [
      "12:59:04 nid00152 SmartSim[13665] INFO Working in previously created experiment\n",
      "12:59:04 nid00152 SmartSim[13665] INFO Empty ensemble created for batch launch\n"
     ]
    }
   ],
   "source": [
    "exp_workers = Experiment(\"ray_worker_exp\", launcher='slurm')\n",
    "\n",
    "worker_run_args = {\"nodes\": 3,\n",
    "                   \"ntasks-per-node\": 1, # Ray will take care of resources.\n",
    "                   \"ntasks\": 3,\n",
    "                   \"oversubscribe\": None,\n",
    "                   \"overcommit\": None,\n",
    "                   \"time\": \"01:00:00\",\n",
    "                   \"unbuffered\": None,\n",
    "                   \"cpus-per-task\": 36}\n",
    "\n",
    "conda_settings_1 = RunSettings(\"source\", \"~/.bashrc\", block_in_batch=True, expand_exe=False)\n",
    "conda_settings_2 = RunSettings(\"conda\", \"activate ray\", block_in_batch=True, expand_exe=False)\n",
    "worker_settings = SrunSettings(\"bash\", \"start-worker.sh\",\n",
    "                               expand_exe=False, block_in_batch=False, run_args=worker_run_args)\n",
    "\n",
    "conda_model_1 = exp_workers.create_model(\"conda_sh\", path=\"/lus/sonexion/arigazzi/smartsim-dev/SmartSim/tutorials/05_starting_ray\",\n",
    "                                run_settings=conda_settings_1)\n",
    "conda_model_2 = exp_workers.create_model(\"conda_switch\", path=\"/lus/sonexion/arigazzi/smartsim-dev/SmartSim/tutorials/05_starting_ray\",\n",
    "                                 run_settings=conda_settings_2)\n",
    "\n",
    "worker_node_params = {\"HEAD_ADDRESS\": head_ip+\":\"+str(RAY_PORT), \"REDIS_PASSWORD\": REDIS_PW}\n",
    "worker_node_model = exp_workers.create_model(\"worker_nodes\", path='/lus/sonexion/arigazzi/smartsim-dev/SmartSim/tutorials/05_starting_ray/head_exp',\n",
    "                                   run_settings=worker_settings, params=worker_node_params)\n",
    "worker_node_model.attach_generator_files(to_configure=['./templates/start-worker.sh'])\n",
    "exp_workers.generate(worker_node_model, overwrite=True)\n",
    "    \n",
    "worker_batch = SbatchSettings(nodes=3, time=\"01:00:00\")\n",
    "worker_ensemble = exp.create_ensemble(\"worker-ens\", batch_settings=worker_batch)\n",
    "worker_ensemble.add_model(conda_model_1)\n",
    "worker_ensemble.add_model(conda_model_2)\n",
    "worker_ensemble.add_model(worker_node_model)\n",
    "\n",
    "exp_workers.start(worker_ensemble, block=False, summary=False)\n"
   ]
  },
  {
   "cell_type": "code",
   "execution_count": 16,
   "metadata": {},
   "outputs": [
    {
     "name": "stdout",
     "output_type": "stream",
     "text": [
      "13:07:37 nid00152 SmartSim[13665] INFO Stopping model worker-ens with job name worker-ens-CAVARD64UPZ9\n"
     ]
    }
   ],
   "source": [
    "exp_workers.stop(worker_ensemble)"
   ]
  },
  {
   "cell_type": "markdown",
   "metadata": {},
   "source": [
    "and the workers are running! Now let's run a test script!\n",
    "\n",
    "# 3. Execute script\n",
    "\n",
    "The script will run an MNIST training. It will start locally, distributing the work across workers. We will just need to supply the cluster address. "
   ]
  },
  {
   "cell_type": "code",
   "execution_count": 11,
   "metadata": {},
   "outputs": [
    {
     "name": "stdout",
     "output_type": "stream",
     "text": [
      "13:00:46 nid00152 SmartSim[13665] INFO Working in previously created experiment\n",
      "13:02:38 nid00152 SmartSim[13665] INFO MNIST-test(16678): Completed\n"
     ]
    }
   ],
   "source": [
    "mnist_exp = Experiment(\"MNIST\", launcher='local')\n",
    "\n",
    "\n",
    "mnist_exe_args = \"start-script.sh\"\n",
    "mnist_exe_args = f\"ppo_tune.py --ray-address={head_ip}:{RAY_PORT} --redis-password={REDIS_PW}\"\n",
    "\n",
    "# mnist_run_args = {\"nodes\": 1,\n",
    "#                    \"ntasks-per-node\": 1, # Ray will take care of resources.\n",
    "#                    \"ntasks\": 1,\n",
    "#                    \"oversubscribe\": None,\n",
    "#                    \"overcommit\": None,\n",
    "#                    \"time\": \"01:00:00\",\n",
    "#                    \"unbuffered\": None,\n",
    "#                    \"cpus-per-task\": 36}\n",
    "\n",
    "#mnist_params = {\"HEAD_ADDRESS\": head_ip+\":\"+str(RAY_PORT), \"REDIS_PASSWORD\": REDIS_PW}\n",
    "mnist_settings = RunSettings(\"/lus/scratch/arigazzi/anaconda3/envs/smartsim/bin/python\", mnist_exe_args, expand_exe=False)#, run_args=mnist_run_args)\n",
    "mnist_model = mnist_exp.create_model(\"MNIST-test\", path='./mnist_test',\n",
    "                                     run_settings = mnist_settings)#, params=mnist_params)\n",
    "mnist_model.attach_generator_files(to_copy=['./templates/ppo_tune.py'])#, to_configure=['./templates/start-script.sh'])\n",
    "mnist_exp.generate(mnist_model, overwrite=True)\n",
    "mnist_exp.start(mnist_model, summary=False, block=False)"
   ]
  },
  {
   "cell_type": "code",
   "execution_count": 15,
   "metadata": {},
   "outputs": [],
   "source": [
    "mnist_exp.stop(mnist_model)\n",
    "\n",
    "# exp.stop(worker_ensemble)\n",
    "# exp.stop(head_ensemble)"
   ]
  },
  {
   "cell_type": "code",
   "execution_count": 13,
   "metadata": {},
   "outputs": [],
   "source": [
    "mnist_exp.poll()"
   ]
  },
  {
   "cell_type": "code",
   "execution_count": 17,
   "metadata": {},
   "outputs": [
    {
     "name": "stdout",
     "output_type": "stream",
     "text": [
      "   JOBID     USER ACCOUNT           NAME  ST REASON    START_TIME                TIME  TIME_LEFT NODES CPUS\n",
      " 1177341   hspark  (null)  fv3_816_intel   R None      2021-04-23T12:55:50      11:52    2:48:08    34 3264\n",
      " 1177467 arigazzi  (null)    interactive   R None      2021-04-23T12:17:50      49:52   11:10:08     1   36\n",
      " 1177390   hspark  (null)  fv3_816_intel  PD Dependenc N/A                       0:00    3:00:00    34   34\n",
      " 1177409   hspark  (null)  fv3_816_intel  PD Dependenc N/A                       0:00    3:00:00    34   34\n",
      " 1177410   hspark  (null)  fv3_816_intel  PD Dependenc N/A                       0:00    3:00:00    34   34\n",
      " 1177421   hspark  (null)  fv3_864_intel  PD Dependenc N/A                       0:00    3:00:00    36   36\n",
      " 1177422   hspark  (null)  fv3_864_intel  PD Dependenc N/A                       0:00    3:00:00    36   36\n",
      " 1177431   hspark  (null)  fv3_864_intel  PD Dependenc N/A                       0:00    3:00:00    36   36\n",
      " 1177436   hspark  (null)  fv3_864_intel  PD Dependenc N/A                       0:00    3:00:00    36   36\n",
      " 1177439   hspark  (null)  fv3_864_intel  PD Dependenc N/A                       0:00    3:00:00    36   36\n",
      " 1177440   hspark  (null)  fv3_864_intel  PD Dependenc N/A                       0:00    3:00:00    36   36\n",
      " 1177469 arigazzi  (null) worker-ens-CAV  CG None      2021-04-23T12:59:06       8:31      51:29     1  336\n"
     ]
    }
   ],
   "source": [
    "!squeue"
   ]
  },
  {
   "cell_type": "code",
   "execution_count": null,
   "metadata": {},
   "outputs": [],
   "source": []
  }
 ],
 "metadata": {
  "kernelspec": {
   "display_name": "smartsim",
   "language": "python",
   "name": "smartsim"
  },
  "language_info": {
   "codemirror_mode": {
    "name": "ipython",
    "version": 3
   },
   "file_extension": ".py",
   "mimetype": "text/x-python",
   "name": "python",
   "nbconvert_exporter": "python",
   "pygments_lexer": "ipython3",
   "version": "3.8.8"
  }
 },
 "nbformat": 4,
 "nbformat_minor": 5
}
